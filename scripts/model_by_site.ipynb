{
 "cells": [
  {
   "cell_type": "code",
   "execution_count": 1,
   "metadata": {},
   "outputs": [],
   "source": [
    "import sys\n",
    "import gc\n",
    "import time\n",
    "import argparse\n",
    "import numpy as np\n",
    "import pandas as pd\n",
    "import h5py\n",
    "from datetime import datetime\n",
    "from tsforest import forecaster\n",
    "from tsforest.metrics import compute_rmse, compute_rmsle\n",
    "from utils import reduce_mem_usage\n",
    "from config import get_model_params\n",
    "from scaling import target_transform, target_inverse_transform\n",
    "from precompute import precompute_model, precompute_models\n",
    "import optuna\n",
    "import copy"
   ]
  },
  {
   "cell_type": "code",
   "execution_count": 2,
   "metadata": {},
   "outputs": [],
   "source": [
    "# excluded features to avoid data leakage\n",
    "EXCLUDE_FEATURES = [\"year\",\"days_in_month\",\"year_day\",\n",
    "                    \"month_day\",\"year_day_cos\",\"year_day_sin\"]\n",
    "\n",
    "AVAILABLE_CLASSES = [\"CatBoostForecaster\",\n",
    "                     \"LightGBMForecaster\",\n",
    "                     \"XGBoostForecaster\",\n",
    "                     \"H2OGBMForecaster\"]"
   ]
  },
  {
   "cell_type": "code",
   "execution_count": 3,
   "metadata": {},
   "outputs": [],
   "source": [
    "model_class_name = \"LightGBMForecaster\"\n",
    "if model_class_name not in AVAILABLE_CLASSES:\n",
    "    print(f\"{model_class_name} is not a valid model class.\")\n",
    "    sys.exit()\n",
    "model_class = getattr(forecaster, model_class_name)"
   ]
  },
  {
   "cell_type": "markdown",
   "metadata": {},
   "source": [
    "***"
   ]
  },
  {
   "cell_type": "code",
   "execution_count": 93,
   "metadata": {},
   "outputs": [
    {
     "data": {
      "text/html": [
       "<div>\n",
       "<style scoped>\n",
       "    .dataframe tbody tr th:only-of-type {\n",
       "        vertical-align: middle;\n",
       "    }\n",
       "\n",
       "    .dataframe tbody tr th {\n",
       "        vertical-align: top;\n",
       "    }\n",
       "\n",
       "    .dataframe thead th {\n",
       "        text-align: right;\n",
       "    }\n",
       "</style>\n",
       "<table border=\"1\" class=\"dataframe\">\n",
       "  <thead>\n",
       "    <tr style=\"text-align: right;\">\n",
       "      <th></th>\n",
       "      <th>meter</th>\n",
       "    </tr>\n",
       "    <tr>\n",
       "      <th>site_id</th>\n",
       "      <th></th>\n",
       "    </tr>\n",
       "  </thead>\n",
       "  <tbody>\n",
       "    <tr>\n",
       "      <th>0</th>\n",
       "      <td>2</td>\n",
       "    </tr>\n",
       "    <tr>\n",
       "      <th>1</th>\n",
       "      <td>1</td>\n",
       "    </tr>\n",
       "    <tr>\n",
       "      <th>2</th>\n",
       "      <td>3</td>\n",
       "    </tr>\n",
       "    <tr>\n",
       "      <th>4</th>\n",
       "      <td>1</td>\n",
       "    </tr>\n",
       "    <tr>\n",
       "      <th>15</th>\n",
       "      <td>3</td>\n",
       "    </tr>\n",
       "  </tbody>\n",
       "</table>\n",
       "</div>"
      ],
      "text/plain": [
       "         meter\n",
       "site_id       \n",
       "0            2\n",
       "1            1\n",
       "2            3\n",
       "4            1\n",
       "15           3"
      ]
     },
     "execution_count": 93,
     "metadata": {},
     "output_type": "execute_result"
    }
   ],
   "source": [
    "(leak.loc[:, [\"site_id\",\"meter\"]]\n",
    " .drop_duplicates()\n",
    " .groupby(\"site_id\")\n",
    " .count())"
   ]
  },
  {
   "cell_type": "code",
   "execution_count": 94,
   "metadata": {},
   "outputs": [
    {
     "data": {
      "text/plain": [
       "array([0, 1])"
      ]
     },
     "execution_count": 94,
     "metadata": {},
     "output_type": "execute_result"
    }
   ],
   "source": [
    "leak.query(\"site_id == 0\").meter.unique()"
   ]
  },
  {
   "cell_type": "code",
   "execution_count": 95,
   "metadata": {},
   "outputs": [
    {
     "data": {
      "text/plain": [
       "array([0])"
      ]
     },
     "execution_count": 95,
     "metadata": {},
     "output_type": "execute_result"
    }
   ],
   "source": [
    "leak.query(\"site_id == 1\").meter.unique()"
   ]
  },
  {
   "cell_type": "code",
   "execution_count": 96,
   "metadata": {},
   "outputs": [
    {
     "data": {
      "text/plain": [
       "array([0, 1, 3])"
      ]
     },
     "execution_count": 96,
     "metadata": {},
     "output_type": "execute_result"
    }
   ],
   "source": [
    "leak.query(\"site_id == 2\").meter.unique()"
   ]
  },
  {
   "cell_type": "code",
   "execution_count": 97,
   "metadata": {},
   "outputs": [
    {
     "data": {
      "text/plain": [
       "array([0])"
      ]
     },
     "execution_count": 97,
     "metadata": {},
     "output_type": "execute_result"
    }
   ],
   "source": [
    "leak.query(\"site_id == 4\").meter.unique()"
   ]
  },
  {
   "cell_type": "code",
   "execution_count": 98,
   "metadata": {},
   "outputs": [
    {
     "data": {
      "text/plain": [
       "array([0, 2, 1])"
      ]
     },
     "execution_count": 98,
     "metadata": {},
     "output_type": "execute_result"
    }
   ],
   "source": [
    "leak.query(\"site_id == 15\").meter.unique()"
   ]
  },
  {
   "cell_type": "markdown",
   "metadata": {},
   "source": [
    "***"
   ]
  },
  {
   "cell_type": "code",
   "execution_count": 232,
   "metadata": {},
   "outputs": [],
   "source": [
    "site_id = 1\n",
    "meter = 0"
   ]
  },
  {
   "cell_type": "code",
   "execution_count": 233,
   "metadata": {},
   "outputs": [
    {
     "name": "stdout",
     "output_type": "stream",
     "text": [
      "Mem. usage decreased to 55.19 Mb (57.7% reduction)\n"
     ]
    }
   ],
   "source": [
    "train_data = (pd.read_hdf('../data/train_data.h5', 'train_data')\n",
    "              .query(f\"site_id == {site_id} & meter == {meter}\"))\n",
    "train_data.rename({\"timestamp\":\"ds\", \"meter_reading\":\"y\"}, axis=1, inplace=True)\n",
    "leak_data = (pd.read_feather(\"../data/leakage.feather\")\n",
    "             .query(f\"site_id == {site_id} & meter == {meter}\")\n",
    "             .pipe(reduce_mem_usage)\n",
    "             .query(\"timestamp >= '2017-01-01 00:00:00'\"))\n",
    "leak_data.rename({\"timestamp\":\"ds\", \"meter_reading\":\"y\"}, axis=1, inplace=True)"
   ]
  },
  {
   "cell_type": "code",
   "execution_count": 234,
   "metadata": {},
   "outputs": [],
   "source": [
    "train_data = (pd.concat([train_data, leak_data.loc[:, train_data.columns]])\n",
    "              .reset_index(drop=True))"
   ]
  },
  {
   "cell_type": "code",
   "execution_count": 235,
   "metadata": {},
   "outputs": [],
   "source": [
    "valid_index = train_data.query(\"ds >= '2017-01-01 00:00:00'\").index\n",
    "predict_columns = [feat for feat in train_data.columns if feat!=\"y\"]"
   ]
  },
  {
   "cell_type": "code",
   "execution_count": 236,
   "metadata": {},
   "outputs": [],
   "source": [
    "train_data[\"y\"] = np.log1p(train_data[\"y\"].values)"
   ]
  },
  {
   "cell_type": "markdown",
   "metadata": {},
   "source": [
    "***\n",
    "some validations"
   ]
  },
  {
   "cell_type": "code",
   "execution_count": 237,
   "metadata": {},
   "outputs": [
    {
     "name": "stdout",
     "output_type": "stream",
     "text": [
      "Building not present in train_data: {245}\n"
     ]
    }
   ],
   "source": [
    "diff = set(fcaster.train_features.building_id.unique()) - set(fcaster.valid_features.building_id.unique()) \n",
    "print(f\"Building not present in train_data: {diff}\")"
   ]
  },
  {
   "cell_type": "code",
   "execution_count": 238,
   "metadata": {},
   "outputs": [
    {
     "name": "stdout",
     "output_type": "stream",
     "text": [
      "Meters in train_data: [0]\n",
      "Meters in leak_data: [0]\n"
     ]
    }
   ],
   "source": [
    "print(f\"Meters in train_data: {train_data.meter.unique()}\")\n",
    "print(f\"Meters in leak_data: {leak_data.meter.unique()}\")"
   ]
  },
  {
   "cell_type": "markdown",
   "metadata": {},
   "source": [
    "***"
   ]
  },
  {
   "cell_type": "code",
   "execution_count": 239,
   "metadata": {},
   "outputs": [
    {
     "name": "stdout",
     "output_type": "stream",
     "text": [
      "Mem. usage decreased to 30.76 Mb (66.4% reduction)\n",
      "Mem. usage decreased to 60.15 Mb (66.4% reduction)\n"
     ]
    }
   ],
   "source": [
    "model_kwargs = {\"feature_sets\":['calendar', 'calendar_cyclical'],\n",
    "                \"exclude_features\":EXCLUDE_FEATURES,\n",
    "                \"categorical_features\":{\"building_id\":\"default\",\n",
    "                                        \"meter\":\"default\",\n",
    "                                        \"site_id\":\"default\",\n",
    "                                        \"primary_use\":\"default\"},\n",
    "                \"ts_uid_columns\":[\"building_id\",\"meter\"],\n",
    "                \"detrend\":False,\n",
    "                \"target_scaler\":None}\n",
    "precomputed_model = precompute_model(train_data, valid_index, model_class_name, model_kwargs)"
   ]
  },
  {
   "cell_type": "markdown",
   "metadata": {},
   "source": [
    "***"
   ]
  },
  {
   "cell_type": "code",
   "execution_count": 240,
   "metadata": {},
   "outputs": [
    {
     "data": {
      "text/html": [
       "<div>\n",
       "<style scoped>\n",
       "    .dataframe tbody tr th:only-of-type {\n",
       "        vertical-align: middle;\n",
       "    }\n",
       "\n",
       "    .dataframe tbody tr th {\n",
       "        vertical-align: top;\n",
       "    }\n",
       "\n",
       "    .dataframe thead th {\n",
       "        text-align: right;\n",
       "    }\n",
       "</style>\n",
       "<table border=\"1\" class=\"dataframe\">\n",
       "  <thead>\n",
       "    <tr style=\"text-align: right;\">\n",
       "      <th></th>\n",
       "      <th>ds</th>\n",
       "      <th>meter</th>\n",
       "      <th>building_id</th>\n",
       "    </tr>\n",
       "  </thead>\n",
       "  <tbody>\n",
       "  </tbody>\n",
       "</table>\n",
       "</div>"
      ],
      "text/plain": [
       "Empty DataFrame\n",
       "Columns: [ds, meter, building_id]\n",
       "Index: []"
      ]
     },
     "execution_count": 240,
     "metadata": {},
     "output_type": "execute_result"
    }
   ],
   "source": [
    "pd.merge(precomputed_model.train_features.loc[:, [\"ds\",\"meter\",\"building_id\"]],\n",
    "         precomputed_model.valid_features.loc[:, [\"ds\",\"meter\",\"building_id\"]],\n",
    "         how=\"inner\")"
   ]
  },
  {
   "cell_type": "markdown",
   "metadata": {},
   "source": [
    "***"
   ]
  },
  {
   "cell_type": "code",
   "execution_count": 288,
   "metadata": {},
   "outputs": [
    {
     "name": "stdout",
     "output_type": "stream",
     "text": [
      "{'boosting_type': 'gbrt', 'objective': 'regression', 'num_iterations': 1000, 'early_stopping_rounds': 50, 'num_leaves': 8, 'min_data_in_leaf': 20, 'learning_rate': 0.005, 'feature_fraction': 0.9, 'lambda_l2': 3.0, 'verbosity': 1}\n"
     ]
    }
   ],
   "source": [
    "model_params = get_model_params(model_class_name)\n",
    "model_params[\"early_stopping_rounds\"] = 50\n",
    "model_params['num_leaves'] = 8\n",
    "model_params[\"learning_rate\"] = 0.005\n",
    "model_params[\"lambda_l2\"] = 3.\n",
    "model_params[\"feature_fraction\"] = 0.9\n",
    "print(model_params)"
   ]
  },
  {
   "cell_type": "code",
   "execution_count": 289,
   "metadata": {},
   "outputs": [],
   "source": [
    "fcaster = copy.deepcopy(precomputed_model)\n",
    "fcaster.set_params(model_params=model_params)"
   ]
  },
  {
   "cell_type": "code",
   "execution_count": 290,
   "metadata": {},
   "outputs": [
    {
     "name": "stdout",
     "output_type": "stream",
     "text": [
      "Training until validation scores don't improve for 50 rounds.\n",
      "[10]\tvalid_0's l2: 1.56429\n",
      "[20]\tvalid_0's l2: 1.47448\n",
      "[30]\tvalid_0's l2: 1.39852\n",
      "[40]\tvalid_0's l2: 1.32792\n",
      "[50]\tvalid_0's l2: 1.26463\n",
      "[60]\tvalid_0's l2: 1.21019\n",
      "[70]\tvalid_0's l2: 1.16819\n",
      "[80]\tvalid_0's l2: 1.12327\n",
      "[90]\tvalid_0's l2: 1.0843\n",
      "[100]\tvalid_0's l2: 1.04874\n",
      "[110]\tvalid_0's l2: 1.01721\n",
      "[120]\tvalid_0's l2: 0.989444\n",
      "[130]\tvalid_0's l2: 0.964925\n",
      "[140]\tvalid_0's l2: 0.943894\n",
      "[150]\tvalid_0's l2: 0.925319\n",
      "[160]\tvalid_0's l2: 0.909375\n",
      "[170]\tvalid_0's l2: 0.895114\n",
      "[180]\tvalid_0's l2: 0.882598\n",
      "[190]\tvalid_0's l2: 0.871903\n",
      "[200]\tvalid_0's l2: 0.862691\n",
      "[210]\tvalid_0's l2: 0.85492\n",
      "[220]\tvalid_0's l2: 0.848656\n",
      "[230]\tvalid_0's l2: 0.843092\n",
      "[240]\tvalid_0's l2: 0.838615\n",
      "[250]\tvalid_0's l2: 0.833704\n",
      "[260]\tvalid_0's l2: 0.829894\n",
      "[270]\tvalid_0's l2: 0.826458\n",
      "[280]\tvalid_0's l2: 0.8241\n",
      "[290]\tvalid_0's l2: 0.822672\n",
      "[300]\tvalid_0's l2: 0.821641\n",
      "[310]\tvalid_0's l2: 0.820123\n",
      "[320]\tvalid_0's l2: 0.819949\n",
      "[330]\tvalid_0's l2: 0.819464\n",
      "[340]\tvalid_0's l2: 0.819856\n",
      "[350]\tvalid_0's l2: 0.820318\n",
      "[360]\tvalid_0's l2: 0.820953\n",
      "[370]\tvalid_0's l2: 0.820869\n",
      "[380]\tvalid_0's l2: 0.821893\n",
      "Early stopping, best iteration is:\n",
      "[331]\tvalid_0's l2: 0.819146\n"
     ]
    }
   ],
   "source": [
    "fcaster.fit(fit_kwargs={\"verbose_eval\":10})"
   ]
  },
  {
   "cell_type": "code",
   "execution_count": 291,
   "metadata": {},
   "outputs": [],
   "source": [
    "y_pred = (fcaster.predict(leak_data.loc[:, predict_columns])).y_pred.values\n",
    "y_real = train_data.loc[valid_index, \"y\"].values"
   ]
  },
  {
   "cell_type": "code",
   "execution_count": 292,
   "metadata": {},
   "outputs": [],
   "source": [
    "def compute_rmse(yreal, ypred):\n",
    "    return np.sqrt(np.mean((yreal-ypred)**2))"
   ]
  },
  {
   "cell_type": "code",
   "execution_count": 293,
   "metadata": {},
   "outputs": [
    {
     "data": {
      "text/plain": [
       "0.9043525789823939"
      ]
     },
     "execution_count": 293,
     "metadata": {},
     "output_type": "execute_result"
    }
   ],
   "source": [
    "compute_rmse(y_real, y_pred)"
   ]
  },
  {
   "cell_type": "code",
   "execution_count": 294,
   "metadata": {},
   "outputs": [
    {
     "data": {
      "text/plain": [
       "0.919137095323652"
      ]
     },
     "execution_count": 294,
     "metadata": {},
     "output_type": "execute_result"
    }
   ],
   "source": [
    "0.844813**0.5"
   ]
  },
  {
   "cell_type": "markdown",
   "metadata": {},
   "source": [
    "***"
   ]
  }
 ],
 "metadata": {
  "kernelspec": {
   "display_name": "Python 3",
   "language": "python",
   "name": "python3"
  },
  "language_info": {
   "codemirror_mode": {
    "name": "ipython",
    "version": 3
   },
   "file_extension": ".py",
   "mimetype": "text/x-python",
   "name": "python",
   "nbconvert_exporter": "python",
   "pygments_lexer": "ipython3",
   "version": "3.7.5"
  }
 },
 "nbformat": 4,
 "nbformat_minor": 4
}
