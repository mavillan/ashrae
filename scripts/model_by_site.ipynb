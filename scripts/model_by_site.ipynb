{
 "cells": [
  {
   "cell_type": "code",
   "execution_count": 1,
   "metadata": {},
   "outputs": [],
   "source": [
    "import sys\n",
    "import gc\n",
    "import time\n",
    "import argparse\n",
    "import numpy as np\n",
    "import pandas as pd\n",
    "import h5py\n",
    "from datetime import datetime\n",
    "from tsforest import forecaster\n",
    "from tsforest.metrics import compute_rmse, compute_rmsle\n",
    "from utils import reduce_mem_usage\n",
    "from config import get_model_params\n",
    "from scaling import target_transform, target_inverse_transform\n",
    "from precompute import precompute_model, precompute_models\n",
    "import optuna\n",
    "import copy"
   ]
  },
  {
   "cell_type": "code",
   "execution_count": 2,
   "metadata": {},
   "outputs": [],
   "source": [
    "# excluded features to avoid data leakage\n",
    "EXCLUDE_FEATURES = [\"year\",\"quarter\",\"month\",\"days_in_month\",\"year_week\",\"year_day\",\n",
    "                    \"month_day\",\"year_day_cos\",\"year_day_sin\",\"year_week_cos\",\n",
    "                    \"year_week_sin\",\"month_cos\",\"month_sin\",\"month_progress\"]\n",
    "\n",
    "AVAILABLE_CLASSES = [\"CatBoostForecaster\",\n",
    "                     \"LightGBMForecaster\",\n",
    "                     \"XGBoostForecaster\",\n",
    "                     \"H2OGBMForecaster\"]"
   ]
  },
  {
   "cell_type": "code",
   "execution_count": 3,
   "metadata": {},
   "outputs": [],
   "source": [
    "model_class_name = \"LightGBMForecaster\"\n",
    "if model_class_name not in AVAILABLE_CLASSES:\n",
    "    print(f\"{model_class_name} is not a valid model class.\")\n",
    "    sys.exit()\n",
    "model_class = getattr(forecaster, model_class_name)"
   ]
  },
  {
   "cell_type": "markdown",
   "metadata": {},
   "source": [
    "***"
   ]
  },
  {
   "cell_type": "code",
   "execution_count": 4,
   "metadata": {},
   "outputs": [],
   "source": [
    "site_id = 0\n",
    "meter = 0"
   ]
  },
  {
   "cell_type": "code",
   "execution_count": 5,
   "metadata": {},
   "outputs": [
    {
     "name": "stdout",
     "output_type": "stream",
     "text": [
      "Mem. usage decreased to 96.98 Mb (58.7% reduction)\n"
     ]
    }
   ],
   "source": [
    "train_data = (pd.read_hdf('../data/train_data.h5', 'train_data')\n",
    "              .query(f\"site_id == {site_id} & meter == {meter}\"))\n",
    "train_data.rename({\"timestamp\":\"ds\", \"meter_reading\":\"y\"}, axis=1, inplace=True)\n",
    "leak_data = (pd.read_feather(\"../data/leakage.feather\")\n",
    "             .query(f\"site_id == {site_id} & meter == {meter}\")\n",
    "             .pipe(reduce_mem_usage)\n",
    "             .query(\"timestamp >= '2017-01-01 00:00:00'\"))\n",
    "leak_data.rename({\"timestamp\":\"ds\", \"meter_reading\":\"y\"}, axis=1, inplace=True)"
   ]
  },
  {
   "cell_type": "code",
   "execution_count": 6,
   "metadata": {},
   "outputs": [
    {
     "data": {
      "text/plain": [
       "array([  0,   1,   2,   3,   4,   5,   6,   7,   8,   9,  10,  11,  12,\n",
       "        13,  14,  15,  16,  17,  18,  19,  20,  21,  22,  23,  24,  25,\n",
       "        26,  27,  28,  29,  30,  31,  32,  33,  34,  35,  36,  37,  38,\n",
       "        39,  40,  41,  42,  43,  44,  45,  46,  47,  48,  49,  50,  51,\n",
       "        52,  53,  54,  55,  56,  57,  58,  59,  60,  61,  62,  63,  64,\n",
       "        65,  66,  67,  68,  69,  70,  71,  72,  73,  74,  75,  76,  77,\n",
       "        78,  79,  80,  81,  82,  83,  84,  85,  86,  87,  88,  89,  90,\n",
       "        91,  92,  93,  94,  95,  96,  97,  98,  99, 100, 101, 102, 103,\n",
       "       104])"
      ]
     },
     "execution_count": 6,
     "metadata": {},
     "output_type": "execute_result"
    }
   ],
   "source": [
    "np.sort(train_data.building_id.unique())"
   ]
  },
  {
   "cell_type": "code",
   "execution_count": 7,
   "metadata": {},
   "outputs": [
    {
     "data": {
      "text/plain": [
       "array([  0,   1,   2,   3,   4,   5,   6,   7,   8,   9,  10,  11,  12,\n",
       "        13,  14,  15,  16,  17,  18,  19,  20,  21,  22,  23,  24,  25,\n",
       "        26,  27,  28,  29,  30,  31,  32,  33,  34,  35,  36,  37,  38,\n",
       "        39,  40,  41,  42,  43,  44,  45,  46,  47,  48,  49,  50,  51,\n",
       "        52,  53,  54,  55,  56,  57,  58,  59,  60,  61,  62,  63,  64,\n",
       "        65,  66,  67,  68,  69,  70,  71,  72,  73,  74,  75,  76,  77,\n",
       "        78,  79,  80,  81,  82,  83,  84,  85,  86,  87,  88,  89,  90,\n",
       "        91,  92,  93,  94,  95,  96,  97,  98,  99, 100, 101, 102, 103,\n",
       "       104])"
      ]
     },
     "execution_count": 7,
     "metadata": {},
     "output_type": "execute_result"
    }
   ],
   "source": [
    "np.sort(leak_data.building_id.unique())"
   ]
  },
  {
   "cell_type": "code",
   "execution_count": 8,
   "metadata": {},
   "outputs": [],
   "source": [
    "train_data = (pd.concat([train_data, leak_data.loc[:, train_data.columns]])\n",
    "              .reset_index(drop=True))"
   ]
  },
  {
   "cell_type": "code",
   "execution_count": 9,
   "metadata": {},
   "outputs": [],
   "source": [
    "#valid_index = train_data.query(\"ds >= '2017-05-21 00:00:00'\").index\n",
    "predict_columns = [feat for feat in train_data.columns if feat!=\"y\"]"
   ]
  },
  {
   "cell_type": "code",
   "execution_count": 10,
   "metadata": {},
   "outputs": [],
   "source": [
    "train_data[\"y\"] = np.log1p(train_data[\"y\"].values)"
   ]
  },
  {
   "cell_type": "markdown",
   "metadata": {},
   "source": [
    "***\n",
    "subset of total buildings"
   ]
  },
  {
   "cell_type": "code",
   "execution_count": 11,
   "metadata": {},
   "outputs": [],
   "source": [
    "n_buildings = len(train_data.building_id.unique())\n",
    "buildings = train_data.building_id.unique()[0:n_buildings//2]\n",
    "train_data = train_data.query(\"building_id in @buildings\").reset_index(drop=True)\n",
    "valid_index = train_data.query(\"ds >= '2017-05-21 00:00:00'\").index"
   ]
  },
  {
   "cell_type": "markdown",
   "metadata": {},
   "source": [
    "***\n",
    "some validations"
   ]
  },
  {
   "cell_type": "code",
   "execution_count": 13,
   "metadata": {},
   "outputs": [
    {
     "name": "stdout",
     "output_type": "stream",
     "text": [
      "Building in train_data but not in leak_data: set()\n",
      "Building in leak_data but not in train_data: set()\n"
     ]
    }
   ],
   "source": [
    "buildings_train = train_data.query(\"ds <= '2016-12-31 23:00:00'\").building_id.unique()\n",
    "buildings_leak = train_data.query(\"ds > '2016-12-31 23:00:00'\").building_id.unique()\n",
    "\n",
    "print(f\"Building in train_data but not in leak_data: {set(buildings_train) - set(buildings_leak) }\")\n",
    "print(f\"Building in leak_data but not in train_data: {set(buildings_leak) - set(buildings_train) }\")"
   ]
  },
  {
   "cell_type": "code",
   "execution_count": 14,
   "metadata": {},
   "outputs": [
    {
     "name": "stdout",
     "output_type": "stream",
     "text": [
      "Meters in train_data: [0]\n",
      "Meters in leak_data: [0]\n"
     ]
    }
   ],
   "source": [
    "meters_train = train_data.query(\"ds <= '2016-12-31 23:00:00'\").meter.unique()\n",
    "meters_leak = train_data.query(\"ds > '2016-12-31 23:00:00'\").meter.unique()\n",
    "print(f\"Meters in train_data: {meters_train}\")\n",
    "print(f\"Meters in leak_data: {meters_leak}\")"
   ]
  },
  {
   "cell_type": "markdown",
   "metadata": {},
   "source": [
    "***"
   ]
  },
  {
   "cell_type": "code",
   "execution_count": 15,
   "metadata": {},
   "outputs": [
    {
     "name": "stdout",
     "output_type": "stream",
     "text": [
      "Mem. usage decreased to 30.94 Mb (66.8% reduction)\n",
      "Mem. usage decreased to 48.77 Mb (66.8% reduction)\n"
     ]
    }
   ],
   "source": [
    "model_kwargs = {\"feature_sets\":['calendar', 'calendar_cyclical'],\n",
    "                \"exclude_features\":EXCLUDE_FEATURES,\n",
    "                \"categorical_features\":{\"building_id\":\"default\",\n",
    "                                        \"primary_use\":\"default\"},\n",
    "                \"ts_uid_columns\":[\"building_id\"],\n",
    "                \"detrend\":False,\n",
    "                \"target_scaler\":None}\n",
    "precomputed_model = precompute_model(train_data, valid_index, model_class_name, model_kwargs)"
   ]
  },
  {
   "cell_type": "markdown",
   "metadata": {},
   "source": [
    "***"
   ]
  },
  {
   "cell_type": "code",
   "execution_count": 16,
   "metadata": {},
   "outputs": [
    {
     "data": {
      "text/html": [
       "<div>\n",
       "<style scoped>\n",
       "    .dataframe tbody tr th:only-of-type {\n",
       "        vertical-align: middle;\n",
       "    }\n",
       "\n",
       "    .dataframe tbody tr th {\n",
       "        vertical-align: top;\n",
       "    }\n",
       "\n",
       "    .dataframe thead th {\n",
       "        text-align: right;\n",
       "    }\n",
       "</style>\n",
       "<table border=\"1\" class=\"dataframe\">\n",
       "  <thead>\n",
       "    <tr style=\"text-align: right;\">\n",
       "      <th></th>\n",
       "      <th>ds</th>\n",
       "      <th>meter</th>\n",
       "      <th>building_id</th>\n",
       "    </tr>\n",
       "  </thead>\n",
       "  <tbody>\n",
       "  </tbody>\n",
       "</table>\n",
       "</div>"
      ],
      "text/plain": [
       "Empty DataFrame\n",
       "Columns: [ds, meter, building_id]\n",
       "Index: []"
      ]
     },
     "execution_count": 16,
     "metadata": {},
     "output_type": "execute_result"
    }
   ],
   "source": [
    "pd.merge(precomputed_model.train_features.loc[:, [\"ds\",\"meter\",\"building_id\"]],\n",
    "         precomputed_model.valid_features.loc[:, [\"ds\",\"meter\",\"building_id\"]],\n",
    "         how=\"inner\")"
   ]
  },
  {
   "cell_type": "code",
   "execution_count": 17,
   "metadata": {},
   "outputs": [
    {
     "data": {
      "text/plain": [
       "['week_day',\n",
       " 'hour',\n",
       " 'hour_cos',\n",
       " 'hour_sin',\n",
       " 'week_day_cos',\n",
       " 'week_day_sin',\n",
       " 'building_id',\n",
       " 'meter',\n",
       " 'site_id',\n",
       " 'square_feet',\n",
       " 'air_temperature',\n",
       " 'dew_temperature',\n",
       " 'sea_level_pressure',\n",
       " 'wind_direction',\n",
       " 'wind_speed',\n",
       " 'primary_use']"
      ]
     },
     "execution_count": 17,
     "metadata": {},
     "output_type": "execute_result"
    }
   ],
   "source": [
    "precomputed_model.input_features"
   ]
  },
  {
   "cell_type": "markdown",
   "metadata": {},
   "source": [
    "***"
   ]
  },
  {
   "cell_type": "code",
   "execution_count": 18,
   "metadata": {},
   "outputs": [
    {
     "name": "stdout",
     "output_type": "stream",
     "text": [
      "{'boosting_type': 'gbrt', 'objective': 'regression', 'num_iterations': 1000, 'early_stopping_rounds': 50, 'num_leaves': 511, 'min_data_in_leaf': 5, 'learning_rate': 0.01, 'feature_fraction': 0.7, 'lambda_l2': 0.0, 'verbosity': 1}\n"
     ]
    }
   ],
   "source": [
    "model_params = get_model_params(model_class_name)\n",
    "model_params[\"early_stopping_rounds\"] = 50\n",
    "model_params['num_leaves'] = 511\n",
    "model_params[\"learning_rate\"] = 0.01\n",
    "model_params[\"lambda_l2\"] = 0.\n",
    "model_params[\"feature_fraction\"] = 0.7\n",
    "model_params[\"min_data_in_leaf\"] = 5\n",
    "print(model_params)\t"
   ]
  },
  {
   "cell_type": "code",
   "execution_count": 19,
   "metadata": {},
   "outputs": [],
   "source": [
    "fcaster = copy.deepcopy(precomputed_model)\n",
    "fcaster.set_params(model_params=model_params)"
   ]
  },
  {
   "cell_type": "code",
   "execution_count": 20,
   "metadata": {},
   "outputs": [
    {
     "name": "stdout",
     "output_type": "stream",
     "text": [
      "Training until validation scores don't improve for 50 rounds.\n",
      "[10]\tvalid_0's l2: 1.06238\n",
      "[20]\tvalid_0's l2: 0.873228\n",
      "[30]\tvalid_0's l2: 0.720302\n",
      "[40]\tvalid_0's l2: 0.595575\n",
      "[50]\tvalid_0's l2: 0.494659\n",
      "[60]\tvalid_0's l2: 0.41316\n",
      "[70]\tvalid_0's l2: 0.355759\n",
      "[80]\tvalid_0's l2: 0.313006\n",
      "[90]\tvalid_0's l2: 0.269327\n",
      "[100]\tvalid_0's l2: 0.236167\n",
      "[110]\tvalid_0's l2: 0.211384\n",
      "[120]\tvalid_0's l2: 0.184159\n",
      "[130]\tvalid_0's l2: 0.162353\n",
      "[140]\tvalid_0's l2: 0.145007\n",
      "[150]\tvalid_0's l2: 0.131148\n",
      "[160]\tvalid_0's l2: 0.120068\n",
      "[170]\tvalid_0's l2: 0.111839\n",
      "[180]\tvalid_0's l2: 0.104779\n",
      "[190]\tvalid_0's l2: 0.0991488\n",
      "[200]\tvalid_0's l2: 0.0958384\n",
      "[210]\tvalid_0's l2: 0.0922484\n",
      "[220]\tvalid_0's l2: 0.0899045\n",
      "[230]\tvalid_0's l2: 0.0877741\n",
      "[240]\tvalid_0's l2: 0.0862289\n",
      "[250]\tvalid_0's l2: 0.0850406\n",
      "[260]\tvalid_0's l2: 0.0842232\n",
      "[270]\tvalid_0's l2: 0.0837593\n",
      "[280]\tvalid_0's l2: 0.0833434\n",
      "[290]\tvalid_0's l2: 0.0831058\n",
      "[300]\tvalid_0's l2: 0.082971\n",
      "[310]\tvalid_0's l2: 0.0829398\n",
      "[320]\tvalid_0's l2: 0.0829483\n",
      "[330]\tvalid_0's l2: 0.0830269\n",
      "[340]\tvalid_0's l2: 0.0831638\n",
      "[350]\tvalid_0's l2: 0.0833222\n",
      "Early stopping, best iteration is:\n",
      "[306]\tvalid_0's l2: 0.0829345\n"
     ]
    }
   ],
   "source": [
    "fcaster.fit(fit_kwargs={\"verbose_eval\":10})"
   ]
  },
  {
   "cell_type": "code",
   "execution_count": 21,
   "metadata": {},
   "outputs": [
    {
     "data": {
      "text/plain": [
       "0.28798354192000836"
      ]
     },
     "execution_count": 21,
     "metadata": {},
     "output_type": "execute_result"
    }
   ],
   "source": [
    "(fcaster.model.model.best_score[\"valid_0\"][\"l2\"])**0.5"
   ]
  },
  {
   "cell_type": "markdown",
   "metadata": {},
   "source": [
    "***"
   ]
  }
 ],
 "metadata": {
  "kernelspec": {
   "display_name": "Python 3",
   "language": "python",
   "name": "python3"
  },
  "language_info": {
   "codemirror_mode": {
    "name": "ipython",
    "version": 3
   },
   "file_extension": ".py",
   "mimetype": "text/x-python",
   "name": "python",
   "nbconvert_exporter": "python",
   "pygments_lexer": "ipython3",
   "version": "3.7.4"
  }
 },
 "nbformat": 4,
 "nbformat_minor": 4
}
