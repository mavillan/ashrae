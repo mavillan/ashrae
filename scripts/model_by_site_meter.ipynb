{
 "cells": [
  {
   "cell_type": "code",
   "execution_count": 1,
   "metadata": {},
   "outputs": [],
   "source": [
    "import os\n",
    "import sys\n",
    "import time\n",
    "import argparse\n",
    "import numpy as np\n",
    "import pandas as pd\n",
    "import h5py\n",
    "import copy\n",
    "from datetime import datetime\n",
    "from tsforest import forecaster\n",
    "from tsforest.metrics import compute_rmse, compute_rmsle\n",
    "from utils import reduce_mem_usage\n",
    "from config import get_model_params\n",
    "from scaling import target_transform, target_inverse_transform\n",
    "from precompute import precompute_model, precompute_models\n",
    "import optuna\n",
    "from optuna.integration import LightGBMPruningCallback"
   ]
  },
  {
   "cell_type": "code",
   "execution_count": 2,
   "metadata": {},
   "outputs": [],
   "source": [
    "# available methods\n",
    "AVAILABLE_CLASSES = [\"CatBoostForecaster\",\n",
    "                     \"LightGBMForecaster\",\n",
    "                     \"XGBoostForecaster\",\n",
    "                     \"H2OGBMForecaster\"]\n",
    "# excluded features to avoid data leakage\n",
    "EXCLUDE_FEATURES = [\"year\",\"quarter\",\"month\",\"days_in_month\",\"year_week\",\"year_day\",\n",
    "                    \"month_day\",\"year_day_cos\",\"year_day_sin\",\"year_week_cos\",\n",
    "                    \"year_week_sin\",\"month_cos\",\"month_sin\",\"month_progress\"]"
   ]
  },
  {
   "cell_type": "code",
   "execution_count": 3,
   "metadata": {},
   "outputs": [],
   "source": [
    "model_class_name = \"LightGBMForecaster\""
   ]
  },
  {
   "cell_type": "code",
   "execution_count": 4,
   "metadata": {},
   "outputs": [],
   "source": [
    "if model_class_name not in AVAILABLE_CLASSES:\n",
    "    print(f\"{model_class_name} is not a valid model class.\")\n",
    "    sys.exit()\n",
    "model_class = getattr(forecaster, model_class_name)"
   ]
  },
  {
   "cell_type": "code",
   "execution_count": 5,
   "metadata": {},
   "outputs": [],
   "source": [
    "site = 0\n",
    "meter = 0"
   ]
  },
  {
   "cell_type": "code",
   "execution_count": 7,
   "metadata": {},
   "outputs": [],
   "source": [
    "train_data = pd.read_csv(f\"../mirrors/train_data_meter{meter}_site{site}.csv\", parse_dates=[\"timestamp\"])\n",
    "train_data.rename({\"timestamp\":\"ds\", \"meter_reading\":\"y\"}, axis=1, inplace=True)"
   ]
  },
  {
   "cell_type": "code",
   "execution_count": 8,
   "metadata": {},
   "outputs": [],
   "source": [
    "leak_data = (pd.read_csv(f\"../mirrors/leak_data_meter{meter}_site{site}.csv\", parse_dates=[\"timestamp\"])\n",
    "             .query(\"timestamp >= '2017-01-01 00:00:00'\"))\n",
    "leak_data.rename({\"timestamp\":\"ds\", \"meter_reading\":\"y\"}, axis=1, inplace=True)"
   ]
  },
  {
   "cell_type": "code",
   "execution_count": 9,
   "metadata": {},
   "outputs": [],
   "source": [
    "train_data = (pd.concat([train_data, leak_data.loc[:, train_data.columns]])\n",
    "              .reset_index(drop=True))\n",
    "train_data[\"square_feet\"] = np.log1p(train_data[\"square_feet\"].values)\n",
    "train_data[\"y\"] = np.log1p(train_data[\"y\"].values)"
   ]
  },
  {
   "cell_type": "code",
   "execution_count": 23,
   "metadata": {},
   "outputs": [],
   "source": [
    "valid_index = train_data.query(\"site_id != 0 & ds >= '2017-01-01 00:00:00'\").index\n",
    "valid_index = valid_index.union(train_data.query(\"site_id == 0 & ds >= '2017-05-21 00:00:00'\").index)"
   ]
  },
  {
   "cell_type": "code",
   "execution_count": 25,
   "metadata": {},
   "outputs": [],
   "source": [
    "train_data.drop([\"site_id\",\"meter\"], axis=1, inplace=True)\n",
    "predict_columns = [feat for feat in train_data.columns if feat!=\"y\"]"
   ]
  },
  {
   "cell_type": "code",
   "execution_count": 26,
   "metadata": {},
   "outputs": [
    {
     "name": "stdout",
     "output_type": "stream",
     "text": [
      "Mem. usage decreased to 58.23 Mb (73.8% reduction)\n",
      "Mem. usage decreased to 92.75 Mb (73.8% reduction)\n"
     ]
    }
   ],
   "source": [
    "model_kwargs = {\"feature_sets\":['calendar', 'calendar_cyclical'],\n",
    "                \"exclude_features\":EXCLUDE_FEATURES,\n",
    "                \"categorical_features\":{\"building_id\":\"default\",\n",
    "                                        \"primary_use\":\"default\"},\n",
    "                \"ts_uid_columns\":[\"building_id\"],\n",
    "                \"detrend\":False,\n",
    "                \"target_scaler\":None}\n",
    "precomputed_model = precompute_model(train_data, valid_index, model_class_name, model_kwargs)"
   ]
  },
  {
   "cell_type": "code",
   "execution_count": null,
   "metadata": {},
   "outputs": [],
   "source": []
  }
 ],
 "metadata": {
  "kernelspec": {
   "display_name": "Python 3",
   "language": "python",
   "name": "python3"
  },
  "language_info": {
   "codemirror_mode": {
    "name": "ipython",
    "version": 3
   },
   "file_extension": ".py",
   "mimetype": "text/x-python",
   "name": "python",
   "nbconvert_exporter": "python",
   "pygments_lexer": "ipython3",
   "version": "3.7.4"
  }
 },
 "nbformat": 4,
 "nbformat_minor": 4
}
