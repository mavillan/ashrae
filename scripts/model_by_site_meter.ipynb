{
 "cells": [
  {
   "cell_type": "code",
   "execution_count": 1,
   "metadata": {},
   "outputs": [],
   "source": [
    "import os\n",
    "import sys\n",
    "import time\n",
    "import argparse\n",
    "import numpy as np\n",
    "import pandas as pd\n",
    "import h5py\n",
    "import copy\n",
    "from datetime import datetime\n",
    "from tsforest import forecaster\n",
    "from tsforest.metrics import compute_rmse, compute_rmsle\n",
    "from utils import reduce_mem_usage\n",
    "from config import get_model_params\n",
    "from scaling import target_transform, target_inverse_transform\n",
    "from precompute import precompute_model, precompute_models\n",
    "import optuna\n",
    "from optuna.integration import LightGBMPruningCallback"
   ]
  },
  {
   "cell_type": "code",
   "execution_count": 2,
   "metadata": {},
   "outputs": [],
   "source": [
    "AVAILABLE_CLASSES = [\"CatBoostForecaster\",\n",
    "                     \"LightGBMForecaster\",\n",
    "                     \"XGBoostForecaster\",\n",
    "                     \"H2OGBMForecaster\"]"
   ]
  },
  {
   "cell_type": "code",
   "execution_count": 3,
   "metadata": {},
   "outputs": [],
   "source": [
    "EXCLUDE_FEATURES = [\"year\",\"quarter\",\"month\",\"days_in_month\",\"year_week\",\"year_day\",\n",
    "                    \"month_day\",\"year_day_cos\",\"year_day_sin\",\"year_week_cos\",\n",
    "                    \"year_week_sin\",\"month_cos\",\"month_sin\",\"month_progress\"]"
   ]
  },
  {
   "cell_type": "code",
   "execution_count": 4,
   "metadata": {},
   "outputs": [],
   "source": [
    "# input params\n",
    "model_class_name = \"LightGBMForecaster\"\n",
    "meter = 0\n",
    "site = 2"
   ]
  },
  {
   "cell_type": "code",
   "execution_count": 5,
   "metadata": {},
   "outputs": [],
   "source": [
    "if model_class_name not in AVAILABLE_CLASSES:\n",
    "    print(f\"{model_class_name} is not a valid model class.\")\n",
    "    sys.exit()\n",
    "model_class = getattr(forecaster, model_class_name)"
   ]
  },
  {
   "cell_type": "code",
   "execution_count": 6,
   "metadata": {},
   "outputs": [],
   "source": [
    "# loading train data\n",
    "train_data = pd.read_csv(f\"../mirrors/train_data_meter{meter}_site{site}.csv\", parse_dates=[\"timestamp\"])\n",
    "train_data.rename({\"timestamp\":\"ds\", \"meter_reading\":\"y\"}, axis=1, inplace=True)\n",
    "# loading leak data\n",
    "leak_data = (pd.read_csv(f\"../mirrors/leak_data_meter{meter}_site{site}.csv\", parse_dates=[\"timestamp\"])\n",
    "             .query(\"timestamp >= '2017-01-01 00:00:00'\"))\n",
    "leak_data.rename({\"timestamp\":\"ds\", \"meter_reading\":\"y\"}, axis=1, inplace=True)"
   ]
  },
  {
   "cell_type": "code",
   "execution_count": 7,
   "metadata": {},
   "outputs": [
    {
     "data": {
      "text/plain": [
       "135"
      ]
     },
     "execution_count": 7,
     "metadata": {},
     "output_type": "execute_result"
    }
   ],
   "source": [
    "len(train_data.building_id.unique())"
   ]
  },
  {
   "cell_type": "code",
   "execution_count": 8,
   "metadata": {},
   "outputs": [
    {
     "data": {
      "text/plain": [
       "134"
      ]
     },
     "execution_count": 8,
     "metadata": {},
     "output_type": "execute_result"
    }
   ],
   "source": [
    "len(leak_data.building_id.unique())"
   ]
  },
  {
   "cell_type": "code",
   "execution_count": 9,
   "metadata": {},
   "outputs": [],
   "source": [
    "# merge of both datasets\n",
    "#train_data = (pd.concat([train_data, leak_data.loc[:, train_data.columns]])\n",
    "#              .reset_index(drop=True))"
   ]
  },
  {
   "cell_type": "code",
   "execution_count": 11,
   "metadata": {},
   "outputs": [
    {
     "data": {
      "text/plain": [
       "1174568"
      ]
     },
     "execution_count": 11,
     "metadata": {},
     "output_type": "execute_result"
    }
   ],
   "source": [
    "len(train_data)"
   ]
  },
  {
   "cell_type": "code",
   "execution_count": 12,
   "metadata": {},
   "outputs": [
    {
     "data": {
      "text/plain": [
       "1174568"
      ]
     },
     "execution_count": 12,
     "metadata": {},
     "output_type": "execute_result"
    }
   ],
   "source": [
    "len(train_data.drop_duplicates())"
   ]
  },
  {
   "cell_type": "code",
   "execution_count": 13,
   "metadata": {},
   "outputs": [],
   "source": [
    "train_data[\"square_feet\"] = np.log1p(train_data[\"square_feet\"].values)\n",
    "train_data[\"y\"] = np.log1p(train_data[\"y\"].values)\n",
    "\n",
    "leak_data[\"square_feet\"] = np.log1p(leak_data[\"square_feet\"].values)\n",
    "leak_data[\"y\"] = np.log1p(leak_data[\"y\"].values)"
   ]
  },
  {
   "cell_type": "code",
   "execution_count": 14,
   "metadata": {},
   "outputs": [],
   "source": [
    "# index for validation data\n",
    "#valid_index = train_data.query(\"site_id != 0 & ds >= '2017-01-01 00:00:00'\").index\n",
    "#valid_index = valid_index.union(train_data.query(\"site_id == 0 & ds >= '2017-05-21 00:00:00'\").index)"
   ]
  },
  {
   "cell_type": "code",
   "execution_count": 15,
   "metadata": {},
   "outputs": [],
   "source": [
    "# removes not useful columns\n",
    "train_data.drop([\"site_id\",\"meter\"], axis=1, inplace=True)\n",
    "leak_data.drop([\"site_id\",\"meter\"], axis=1, inplace=True)\n",
    "predict_columns = [feat for feat in train_data.columns if feat!=\"y\"]"
   ]
  },
  {
   "cell_type": "code",
   "execution_count": 16,
   "metadata": {},
   "outputs": [
    {
     "name": "stdout",
     "output_type": "stream",
     "text": [
      "<class 'pandas.core.frame.DataFrame'>\n",
      "RangeIndex: 1174568 entries, 0 to 1174567\n",
      "Data columns (total 10 columns):\n",
      "building_id           1174568 non-null int64\n",
      "ds                    1174568 non-null datetime64[ns]\n",
      "y                     1174568 non-null float64\n",
      "primary_use           1174568 non-null object\n",
      "square_feet           1174568 non-null float64\n",
      "air_temperature       1174568 non-null float64\n",
      "dew_temperature       1174568 non-null float64\n",
      "sea_level_pressure    1174568 non-null float64\n",
      "wind_direction        1174568 non-null float64\n",
      "wind_speed            1174568 non-null float64\n",
      "dtypes: datetime64[ns](1), float64(7), int64(1), object(1)\n",
      "memory usage: 89.6+ MB\n"
     ]
    }
   ],
   "source": [
    "train_data.info()"
   ]
  },
  {
   "cell_type": "code",
   "execution_count": 40,
   "metadata": {},
   "outputs": [
    {
     "data": {
      "text/plain": [
       "count    1.174568e+06\n",
       "mean     4.296970e+00\n",
       "std      1.290925e+00\n",
       "min      9.950331e-03\n",
       "25%      3.460723e+00\n",
       "50%      4.480967e+00\n",
       "75%      5.148889e+00\n",
       "max      8.069208e+00\n",
       "Name: y, dtype: float64"
      ]
     },
     "execution_count": 40,
     "metadata": {},
     "output_type": "execute_result"
    }
   ],
   "source": [
    "train_data.y.describe()"
   ]
  },
  {
   "cell_type": "code",
   "execution_count": 41,
   "metadata": {},
   "outputs": [
    {
     "data": {
      "text/plain": [
       "count    2.314564e+06\n",
       "mean     4.278492e+00\n",
       "std      1.282440e+00\n",
       "min      9.950331e-03\n",
       "25%      3.430433e+00\n",
       "50%      4.429983e+00\n",
       "75%      5.155846e+00\n",
       "max      8.007567e+00\n",
       "Name: y, dtype: float64"
      ]
     },
     "execution_count": 41,
     "metadata": {},
     "output_type": "execute_result"
    }
   ],
   "source": [
    "leak_data.y.describe()"
   ]
  },
  {
   "cell_type": "markdown",
   "metadata": {},
   "source": [
    "***"
   ]
  },
  {
   "cell_type": "code",
   "execution_count": 17,
   "metadata": {},
   "outputs": [],
   "source": [
    "model_kwargs = {\"feature_sets\":['calendar', 'calendar_cyclical'],\n",
    "                \"exclude_features\":EXCLUDE_FEATURES,\n",
    "                \"categorical_features\":{\"building_id\":\"default\",\n",
    "                                        \"primary_use\":\"default\"},\n",
    "                \"ts_uid_columns\":[\"building_id\"],\n",
    "                \"detrend\":False,\n",
    "                \"target_scaler\":None}"
   ]
  },
  {
   "cell_type": "code",
   "execution_count": 18,
   "metadata": {},
   "outputs": [
    {
     "name": "stdout",
     "output_type": "stream",
     "text": [
      "Mem. usage decreased to 73.93 Mb (73.4% reduction)\n"
     ]
    }
   ],
   "source": [
    "precomputed_model = precompute_model(train_data, None, model_class_name, model_kwargs)"
   ]
  },
  {
   "cell_type": "code",
   "execution_count": 19,
   "metadata": {},
   "outputs": [
    {
     "name": "stdout",
     "output_type": "stream",
     "text": [
      "<class 'pandas.core.frame.DataFrame'>\n",
      "Int64Index: 1174568 entries, 0 to 1174567\n",
      "Data columns (total 30 columns):\n",
      "ds                    1174568 non-null datetime64[ns]\n",
      "quarter               1174568 non-null int8\n",
      "month                 1174568 non-null int8\n",
      "days_in_month         1174568 non-null int8\n",
      "year_week             1174568 non-null int8\n",
      "year_day              1174568 non-null int16\n",
      "month_day             1174568 non-null int8\n",
      "week_day              1174568 non-null int8\n",
      "hour                  1174568 non-null int8\n",
      "month_progress        1174568 non-null float16\n",
      "hour_cos              1174568 non-null float16\n",
      "hour_sin              1174568 non-null float16\n",
      "week_day_cos          1174568 non-null float16\n",
      "week_day_sin          1174568 non-null float16\n",
      "year_day_cos          1174568 non-null float16\n",
      "year_day_sin          1174568 non-null float16\n",
      "year_week_cos         1174568 non-null float16\n",
      "year_week_sin         1174568 non-null float16\n",
      "month_cos             1174568 non-null float16\n",
      "month_sin             1174568 non-null float16\n",
      "building_id           1174568 non-null int16\n",
      "square_feet           1174568 non-null float16\n",
      "air_temperature       1174568 non-null float16\n",
      "dew_temperature       1174568 non-null float16\n",
      "sea_level_pressure    1174568 non-null float16\n",
      "wind_direction        1174568 non-null float16\n",
      "wind_speed            1174568 non-null float16\n",
      "y_raw                 1174568 non-null float16\n",
      "y                     1174568 non-null float16\n",
      "primary_use           1174568 non-null int8\n",
      "dtypes: datetime64[ns](1), float16(19), int16(2), int8(8)\n",
      "memory usage: 73.9 MB\n"
     ]
    }
   ],
   "source": [
    "precomputed_model.train_features.info()"
   ]
  },
  {
   "cell_type": "code",
   "execution_count": 20,
   "metadata": {},
   "outputs": [
    {
     "data": {
      "text/plain": [
       "['week_day',\n",
       " 'hour',\n",
       " 'hour_cos',\n",
       " 'hour_sin',\n",
       " 'week_day_cos',\n",
       " 'week_day_sin',\n",
       " 'building_id',\n",
       " 'square_feet',\n",
       " 'air_temperature',\n",
       " 'dew_temperature',\n",
       " 'sea_level_pressure',\n",
       " 'wind_direction',\n",
       " 'wind_speed',\n",
       " 'primary_use']"
      ]
     },
     "execution_count": 20,
     "metadata": {},
     "output_type": "execute_result"
    }
   ],
   "source": [
    "precomputed_model.input_features"
   ]
  },
  {
   "cell_type": "code",
   "execution_count": 21,
   "metadata": {},
   "outputs": [],
   "source": [
    "precomputed_model.valid_features"
   ]
  },
  {
   "cell_type": "code",
   "execution_count": 22,
   "metadata": {},
   "outputs": [
    {
     "data": {
      "text/plain": [
       "{}"
      ]
     },
     "execution_count": 22,
     "metadata": {},
     "output_type": "execute_result"
    }
   ],
   "source": [
    "precomputed_model.model_params"
   ]
  },
  {
   "cell_type": "code",
   "execution_count": 23,
   "metadata": {},
   "outputs": [
    {
     "data": {
      "text/plain": [
       "{'building_id': 'default', 'primary_use': 'default'}"
      ]
     },
     "execution_count": 23,
     "metadata": {},
     "output_type": "execute_result"
    }
   ],
   "source": [
    "precomputed_model.categorical_features"
   ]
  },
  {
   "cell_type": "markdown",
   "metadata": {},
   "source": [
    "***"
   ]
  },
  {
   "cell_type": "code",
   "execution_count": 42,
   "metadata": {},
   "outputs": [
    {
     "data": {
      "text/plain": [
       "{'boosting_type': 'gbrt',\n",
       " 'objective': 'regression',\n",
       " 'num_iterations': 720,\n",
       " 'early_stopping_rounds': 50,\n",
       " 'num_leaves': 32,\n",
       " 'min_data_in_leaf': 5,\n",
       " 'learning_rate': 0.01,\n",
       " 'feature_fraction': 0.7,\n",
       " 'lambda_l2': 3.0,\n",
       " 'verbosity': 1}"
      ]
     },
     "execution_count": 42,
     "metadata": {},
     "output_type": "execute_result"
    }
   ],
   "source": [
    "default_model_params = get_model_params(model_class_name)\n",
    "best_model_params = {'num_leaves':32, \n",
    "                     'min_data_in_leaf':5, \n",
    "                     'feature_fraction':0.7, \n",
    "                     'lambda_l2':3.0,\n",
    "                     'num_iterations':720}\n",
    "model_params = {**default_model_params, **best_model_params}\n",
    "model_params[\"learning_rate\"] = 0.01\n",
    "model_params"
   ]
  },
  {
   "cell_type": "code",
   "execution_count": 43,
   "metadata": {},
   "outputs": [],
   "source": [
    "fcaster = copy.deepcopy(precomputed_model)\n",
    "fcaster.set_params(model_params=model_params)"
   ]
  },
  {
   "cell_type": "code",
   "execution_count": 44,
   "metadata": {},
   "outputs": [],
   "source": [
    "fcaster.fit()"
   ]
  },
  {
   "cell_type": "code",
   "execution_count": 45,
   "metadata": {},
   "outputs": [
    {
     "data": {
      "text/plain": [
       "0.40156463828339795"
      ]
     },
     "execution_count": 45,
     "metadata": {},
     "output_type": "execute_result"
    }
   ],
   "source": [
    "fcaster.evaluate(leak_data, metric=\"rmse\")"
   ]
  },
  {
   "cell_type": "markdown",
   "metadata": {},
   "source": [
    "***"
   ]
  }
 ],
 "metadata": {
  "kernelspec": {
   "display_name": "Python 3",
   "language": "python",
   "name": "python3"
  },
  "language_info": {
   "codemirror_mode": {
    "name": "ipython",
    "version": 3
   },
   "file_extension": ".py",
   "mimetype": "text/x-python",
   "name": "python",
   "nbconvert_exporter": "python",
   "pygments_lexer": "ipython3",
   "version": "3.7.4"
  }
 },
 "nbformat": 4,
 "nbformat_minor": 4
}
