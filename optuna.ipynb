{
 "cells": [
  {
   "cell_type": "code",
   "execution_count": 1,
   "metadata": {},
   "outputs": [],
   "source": [
    "import sys\n",
    "import time\n",
    "import argparse\n",
    "import numpy as np\n",
    "import pandas as pd\n",
    "import h5py\n",
    "from datetime import datetime\n",
    "from tsforest import forecaster\n",
    "from tsforest.metrics import compute_rmse, compute_rmsle\n",
    "from scripts.utils import reduce_mem_usage\n",
    "from scripts.config import get_model_params\n",
    "from scripts.scaling import target_transform, target_inverse_transform\n",
    "import optuna"
   ]
  },
  {
   "cell_type": "code",
   "execution_count": 16,
   "metadata": {},
   "outputs": [],
   "source": [
    "train_data = pd.read_hdf('data/train_data_nw.h5', 'train_data')\n",
    "train_data.rename({\"timestamp\":\"ds\", \"meter_reading\":\"y\"}, axis=1, inplace=True)\n",
    "\n",
    "robust_scaler = pd.read_csv(\"data/robust_scaler.csv\")\n",
    "train_data = target_transform(train_data, robust_scaler, target=\"y\")"
   ]
  },
  {
   "cell_type": "code",
   "execution_count": 17,
   "metadata": {},
   "outputs": [],
   "source": [
    "test_data = pd.read_hdf('data/test_data_nw.h5', 'test_data')\n",
    "test_data.rename({\"timestamp\":\"ds\"}, axis=1, inplace=True)"
   ]
  },
  {
   "cell_type": "code",
   "execution_count": null,
   "metadata": {},
   "outputs": [],
   "source": [
    "# timestamp of the starting execution time\n",
    "timestamp = datetime.now().strftime(\"%Y/%m/%d, %H:%M:%S\").replace(\"/\",\"-\").replace(\" \",\"\")\n",
    "\n",
    "AVAILABLE_CLASSES = [\"CatBoostForecaster\",\n",
    "                     \"LightGBMForecaster\",\n",
    "                     \"XGBoostForecaster\",\n",
    "                     \"H2OGBMForecaster\"]\n",
    "\n",
    "model_class_name = \"LightGBMForecaster\"\n",
    "if model_class_name not in AVAILABLE_CLASSES:\n",
    "    print(f\"{model_class_name} is not a valid model class.\")\n",
    "    sys.exit()\n",
    "model_class = getattr(forecaster, model_class_name)\n",
    "\n",
    "print(\"[INFO] loading data\")\n",
    "tic = time.time()\n",
    "train_data = pd.read_hdf('data/train_data_nw.h5', 'train_data')\n",
    "train_data.rename({\"timestamp\":\"ds\", \"meter_reading\":\"y\"}, axis=1, inplace=True)\n",
    "\n",
    "robust_scaler = pd.read_csv(\"data/robust_scaler.csv\")\n",
    "train_data = target_transform(train_data, robust_scaler, target=\"y\")\n",
    "\n",
    "test_data = pd.read_hdf('data/test_data_nw.h5', 'test_data')\n",
    "test_data.rename({\"timestamp\":\"ds\"}, axis=1, inplace=True)\n",
    "tac = time.time()\n",
    "print(f\"[INFO] time elapsed loading data: {(tac-tic)/60.} min.\\n\")"
   ]
  },
  {
   "cell_type": "code",
   "execution_count": 2,
   "metadata": {},
   "outputs": [],
   "source": [
    "N_FOLDS = 4\n",
    "i = 0\n",
    "train_features = pd.read_hdf(f\"data/train_features_nw_{N_FOLDS}fold.h5\", key=f\"fold{i}\")\n",
    "valid_features = pd.read_hdf(f\"data/valid_features_nw_{N_FOLDS}fold.h5\", key=f\"fold{i}\")"
   ]
  },
  {
   "cell_type": "code",
   "execution_count": 3,
   "metadata": {},
   "outputs": [
    {
     "data": {
      "text/plain": [
       "19866224"
      ]
     },
     "execution_count": 3,
     "metadata": {},
     "output_type": "execute_result"
    }
   ],
   "source": [
    "len(train_features)+len(valid_features)"
   ]
  },
  {
   "cell_type": "code",
   "execution_count": 7,
   "metadata": {},
   "outputs": [],
   "source": [
    "model_class = getattr(forecaster, model_class_name)"
   ]
  },
  {
   "cell_type": "code",
   "execution_count": 8,
   "metadata": {},
   "outputs": [],
   "source": [
    "model_kwargs = {\"model_params\":get_model_params(model_class_name),\n",
    "                \"feature_sets\":['calendar', 'calendar_cyclical'],\n",
    "                \"exclude_features\":[\"year\",\"days_in_month\"],\n",
    "                \"categorical_features\":{\"building_id\":\"default\",\n",
    "                                        \"meter\":\"default\",\n",
    "                                        \"site_id\":\"default\",\n",
    "                                        \"primary_use\":\"default\"},\n",
    "                \"ts_uid_columns\":[\"building_id\",\"meter\"],\n",
    "                \"detrend\":False,\n",
    "                \"target_scaler\":None}"
   ]
  },
  {
   "cell_type": "code",
   "execution_count": 9,
   "metadata": {
    "collapsed": true,
    "jupyter": {
     "outputs_hidden": true
    }
   },
   "outputs": [
    {
     "data": {
      "text/plain": [
       "{'model_params': {'boosting_type': 'gbrt',\n",
       "  'objective': 'regression',\n",
       "  'num_iterations': 2000,\n",
       "  'early_stopping_round': 100,\n",
       "  'num_leaves': 724,\n",
       "  'min_data_in_leaf': 20,\n",
       "  'learning_rate': 0.1,\n",
       "  'feature_fraction': 1.0,\n",
       "  'verbosity': 1},\n",
       " 'feature_sets': ['calendar', 'calendar_cyclical'],\n",
       " 'exclude_features': ['year', 'days_in_month'],\n",
       " 'categorical_features': {'building_id': 'default',\n",
       "  'meter': 'default',\n",
       "  'site_id': 'default',\n",
       "  'primary_use': 'default'},\n",
       " 'ts_uid_columns': ['building_id', 'meter'],\n",
       " 'detrend': False,\n",
       " 'target_scaler': None}"
      ]
     },
     "execution_count": 9,
     "metadata": {},
     "output_type": "execute_result"
    }
   ],
   "source": [
    "model_kwargs"
   ]
  },
  {
   "cell_type": "code",
   "execution_count": 10,
   "metadata": {},
   "outputs": [],
   "source": [
    "fcaster = model_class(**model_kwargs)"
   ]
  },
  {
   "cell_type": "code",
   "execution_count": 11,
   "metadata": {},
   "outputs": [],
   "source": [
    "fcaster.set_features(train_features, valid_features)"
   ]
  },
  {
   "cell_type": "code",
   "execution_count": 12,
   "metadata": {},
   "outputs": [],
   "source": [
    "fcaster.fit()"
   ]
  },
  {
   "cell_type": "code",
   "execution_count": 20,
   "metadata": {},
   "outputs": [
    {
     "data": {
      "text/html": [
       "<div>\n",
       "<style scoped>\n",
       "    .dataframe tbody tr th:only-of-type {\n",
       "        vertical-align: middle;\n",
       "    }\n",
       "\n",
       "    .dataframe tbody tr th {\n",
       "        vertical-align: top;\n",
       "    }\n",
       "\n",
       "    .dataframe thead th {\n",
       "        text-align: right;\n",
       "    }\n",
       "</style>\n",
       "<table border=\"1\" class=\"dataframe\">\n",
       "  <thead>\n",
       "    <tr style=\"text-align: right;\">\n",
       "      <th></th>\n",
       "      <th>building_id</th>\n",
       "      <th>meter</th>\n",
       "      <th>ds</th>\n",
       "      <th>y</th>\n",
       "      <th>site_id</th>\n",
       "      <th>primary_use</th>\n",
       "      <th>square_feet</th>\n",
       "    </tr>\n",
       "  </thead>\n",
       "  <tbody>\n",
       "    <tr>\n",
       "      <th>0</th>\n",
       "      <td>46</td>\n",
       "      <td>0</td>\n",
       "      <td>2016-01-01</td>\n",
       "      <td>2.793029</td>\n",
       "      <td>0</td>\n",
       "      <td>Retail</td>\n",
       "      <td>9045</td>\n",
       "    </tr>\n",
       "    <tr>\n",
       "      <th>1</th>\n",
       "      <td>105</td>\n",
       "      <td>0</td>\n",
       "      <td>2016-01-01</td>\n",
       "      <td>-1.717601</td>\n",
       "      <td>1</td>\n",
       "      <td>Education</td>\n",
       "      <td>50623</td>\n",
       "    </tr>\n",
       "    <tr>\n",
       "      <th>2</th>\n",
       "      <td>106</td>\n",
       "      <td>0</td>\n",
       "      <td>2016-01-01</td>\n",
       "      <td>-0.374600</td>\n",
       "      <td>1</td>\n",
       "      <td>Education</td>\n",
       "      <td>5374</td>\n",
       "    </tr>\n",
       "    <tr>\n",
       "      <th>3</th>\n",
       "      <td>106</td>\n",
       "      <td>3</td>\n",
       "      <td>2016-01-01</td>\n",
       "      <td>0.000000</td>\n",
       "      <td>1</td>\n",
       "      <td>Education</td>\n",
       "      <td>5374</td>\n",
       "    </tr>\n",
       "    <tr>\n",
       "      <th>4</th>\n",
       "      <td>107</td>\n",
       "      <td>0</td>\n",
       "      <td>2016-01-01</td>\n",
       "      <td>-0.450450</td>\n",
       "      <td>1</td>\n",
       "      <td>Education</td>\n",
       "      <td>97532</td>\n",
       "    </tr>\n",
       "  </tbody>\n",
       "</table>\n",
       "</div>"
      ],
      "text/plain": [
       "   building_id  meter         ds         y  site_id primary_use  square_feet\n",
       "0           46      0 2016-01-01  2.793029        0      Retail         9045\n",
       "1          105      0 2016-01-01 -1.717601        1   Education        50623\n",
       "2          106      0 2016-01-01 -0.374600        1   Education         5374\n",
       "3          106      3 2016-01-01  0.000000        1   Education         5374\n",
       "4          107      0 2016-01-01 -0.450450        1   Education        97532"
      ]
     },
     "execution_count": 20,
     "metadata": {},
     "output_type": "execute_result"
    }
   ],
   "source": [
    "train_data.head()"
   ]
  },
  {
   "cell_type": "code",
   "execution_count": 21,
   "metadata": {},
   "outputs": [
    {
     "data": {
      "text/html": [
       "<div>\n",
       "<style scoped>\n",
       "    .dataframe tbody tr th:only-of-type {\n",
       "        vertical-align: middle;\n",
       "    }\n",
       "\n",
       "    .dataframe tbody tr th {\n",
       "        vertical-align: top;\n",
       "    }\n",
       "\n",
       "    .dataframe thead th {\n",
       "        text-align: right;\n",
       "    }\n",
       "</style>\n",
       "<table border=\"1\" class=\"dataframe\">\n",
       "  <thead>\n",
       "    <tr style=\"text-align: right;\">\n",
       "      <th></th>\n",
       "      <th>row_id</th>\n",
       "      <th>building_id</th>\n",
       "      <th>meter</th>\n",
       "      <th>ds</th>\n",
       "      <th>site_id</th>\n",
       "      <th>primary_use</th>\n",
       "      <th>square_feet</th>\n",
       "    </tr>\n",
       "  </thead>\n",
       "  <tbody>\n",
       "    <tr>\n",
       "      <th>158073</th>\n",
       "      <td>NaN</td>\n",
       "      <td>46</td>\n",
       "      <td>0</td>\n",
       "      <td>2016-01-04 00:00:00</td>\n",
       "      <td>0</td>\n",
       "      <td>6</td>\n",
       "      <td>9045</td>\n",
       "    </tr>\n",
       "    <tr>\n",
       "      <th>160269</th>\n",
       "      <td>NaN</td>\n",
       "      <td>46</td>\n",
       "      <td>0</td>\n",
       "      <td>2016-01-04 01:00:00</td>\n",
       "      <td>0</td>\n",
       "      <td>6</td>\n",
       "      <td>9045</td>\n",
       "    </tr>\n",
       "    <tr>\n",
       "      <th>162463</th>\n",
       "      <td>NaN</td>\n",
       "      <td>46</td>\n",
       "      <td>0</td>\n",
       "      <td>2016-01-04 02:00:00</td>\n",
       "      <td>0</td>\n",
       "      <td>6</td>\n",
       "      <td>9045</td>\n",
       "    </tr>\n",
       "    <tr>\n",
       "      <th>164660</th>\n",
       "      <td>NaN</td>\n",
       "      <td>46</td>\n",
       "      <td>0</td>\n",
       "      <td>2016-01-04 03:00:00</td>\n",
       "      <td>0</td>\n",
       "      <td>6</td>\n",
       "      <td>9045</td>\n",
       "    </tr>\n",
       "    <tr>\n",
       "      <th>166857</th>\n",
       "      <td>NaN</td>\n",
       "      <td>46</td>\n",
       "      <td>0</td>\n",
       "      <td>2016-01-04 04:00:00</td>\n",
       "      <td>0</td>\n",
       "      <td>6</td>\n",
       "      <td>9045</td>\n",
       "    </tr>\n",
       "  </tbody>\n",
       "</table>\n",
       "</div>"
      ],
      "text/plain": [
       "        row_id  building_id  meter                  ds  site_id  primary_use  \\\n",
       "158073     NaN           46      0 2016-01-04 00:00:00        0            6   \n",
       "160269     NaN           46      0 2016-01-04 01:00:00        0            6   \n",
       "162463     NaN           46      0 2016-01-04 02:00:00        0            6   \n",
       "164660     NaN           46      0 2016-01-04 03:00:00        0            6   \n",
       "166857     NaN           46      0 2016-01-04 04:00:00        0            6   \n",
       "\n",
       "        square_feet  \n",
       "158073         9045  \n",
       "160269         9045  \n",
       "162463         9045  \n",
       "164660         9045  \n",
       "166857         9045  "
      ]
     },
     "execution_count": 21,
     "metadata": {},
     "output_type": "execute_result"
    }
   ],
   "source": [
    "valid_features.loc[:, test_data.columns].head()"
   ]
  },
  {
   "cell_type": "code",
   "execution_count": 22,
   "metadata": {
    "collapsed": true,
    "jupyter": {
     "outputs_hidden": true
    }
   },
   "outputs": [
    {
     "ename": "ValueError",
     "evalue": "'predict_data' shoud have the same columns as 'train_data' except for 'y'.",
     "output_type": "error",
     "traceback": [
      "\u001b[0;31m\u001b[0m",
      "\u001b[0;31mValueError\u001b[0mTraceback (most recent call last)",
      "\u001b[0;32m<ipython-input-22-459505eecf83>\u001b[0m in \u001b[0;36m<module>\u001b[0;34m\u001b[0m\n\u001b[0;32m----> 1\u001b[0;31m \u001b[0mfcaster\u001b[0m\u001b[0;34m.\u001b[0m\u001b[0mpredict\u001b[0m\u001b[0;34m(\u001b[0m\u001b[0mvalid_features\u001b[0m\u001b[0;34m.\u001b[0m\u001b[0mloc\u001b[0m\u001b[0;34m[\u001b[0m\u001b[0;34m:\u001b[0m\u001b[0;34m,\u001b[0m \u001b[0mtest_data\u001b[0m\u001b[0;34m.\u001b[0m\u001b[0mcolumns\u001b[0m\u001b[0;34m]\u001b[0m\u001b[0;34m)\u001b[0m\u001b[0;34m\u001b[0m\u001b[0;34m\u001b[0m\u001b[0m\n\u001b[0m",
      "\u001b[0;32m~/miniconda/lib/python3.7/site-packages/tsforest/forecaster_base.py\u001b[0m in \u001b[0;36mpredict\u001b[0;34m(self, predict_data)\u001b[0m\n\u001b[1;32m    410\u001b[0m             \u001b[0mDataframe\u001b[0m \u001b[0mcontaining\u001b[0m \u001b[0mthe\u001b[0m \u001b[0mdates\u001b[0m \u001b[0;34m'ds'\u001b[0m \u001b[0;32mand\u001b[0m \u001b[0mpredictions\u001b[0m \u001b[0;34m'y_pred'\u001b[0m\u001b[0;34m.\u001b[0m\u001b[0;34m\u001b[0m\u001b[0;34m\u001b[0m\u001b[0m\n\u001b[1;32m    411\u001b[0m         \"\"\"\n\u001b[0;32m--> 412\u001b[0;31m         \u001b[0mself\u001b[0m\u001b[0;34m.\u001b[0m\u001b[0m_validate_predict_data\u001b[0m\u001b[0;34m(\u001b[0m\u001b[0mpredict_data\u001b[0m\u001b[0;34m)\u001b[0m\u001b[0;34m\u001b[0m\u001b[0;34m\u001b[0m\u001b[0m\n\u001b[0m\u001b[1;32m    413\u001b[0m \u001b[0;34m\u001b[0m\u001b[0m\n\u001b[1;32m    414\u001b[0m         if (len(self.ts_uid_columns) == 0 or \n",
      "\u001b[0;32m~/miniconda/lib/python3.7/site-packages/tsforest/forecaster_base.py\u001b[0m in \u001b[0;36m_validate_predict_data\u001b[0;34m(self, predict_data)\u001b[0m\n\u001b[1;32m    166\u001b[0m             \u001b[0;32mraise\u001b[0m \u001b[0mTypeError\u001b[0m\u001b[0;34m(\u001b[0m\u001b[0;34m\"Parameter 'predict_data' should be of type pandas.DataFrame.\"\u001b[0m\u001b[0;34m)\u001b[0m\u001b[0;34m\u001b[0m\u001b[0;34m\u001b[0m\u001b[0m\n\u001b[1;32m    167\u001b[0m         \u001b[0;32melif\u001b[0m \u001b[0;32mnot\u001b[0m \u001b[0;34m(\u001b[0m\u001b[0mset\u001b[0m\u001b[0;34m(\u001b[0m\u001b[0mself\u001b[0m\u001b[0;34m.\u001b[0m\u001b[0mtrain_data\u001b[0m\u001b[0;34m.\u001b[0m\u001b[0mcolumns\u001b[0m\u001b[0;34m)\u001b[0m \u001b[0;34m-\u001b[0m \u001b[0mset\u001b[0m\u001b[0;34m(\u001b[0m\u001b[0mpredict_data\u001b[0m\u001b[0;34m.\u001b[0m\u001b[0mcolumns\u001b[0m\u001b[0;34m)\u001b[0m \u001b[0;34m==\u001b[0m \u001b[0;34m{\u001b[0m\u001b[0;34m\"y\"\u001b[0m\u001b[0;34m,\u001b[0m \u001b[0;34m\"y_raw\"\u001b[0m\u001b[0;34m}\u001b[0m\u001b[0;34m)\u001b[0m\u001b[0;34m:\u001b[0m\u001b[0;34m\u001b[0m\u001b[0;34m\u001b[0m\u001b[0m\n\u001b[0;32m--> 168\u001b[0;31m             \u001b[0;32mraise\u001b[0m \u001b[0mValueError\u001b[0m\u001b[0;34m(\u001b[0m\u001b[0;34m\"'predict_data' shoud have the same columns as 'train_data' except for 'y'.\"\u001b[0m\u001b[0;34m)\u001b[0m\u001b[0;34m\u001b[0m\u001b[0;34m\u001b[0m\u001b[0m\n\u001b[0m\u001b[1;32m    169\u001b[0m \u001b[0;34m\u001b[0m\u001b[0m\n\u001b[1;32m    170\u001b[0m     \u001b[0;32mdef\u001b[0m \u001b[0m_validate_evaluate_data\u001b[0m\u001b[0;34m(\u001b[0m\u001b[0mself\u001b[0m\u001b[0;34m,\u001b[0m \u001b[0meval_data\u001b[0m\u001b[0;34m,\u001b[0m \u001b[0mmetric\u001b[0m\u001b[0;34m)\u001b[0m\u001b[0;34m:\u001b[0m\u001b[0;34m\u001b[0m\u001b[0;34m\u001b[0m\u001b[0m\n",
      "\u001b[0;31mValueError\u001b[0m: 'predict_data' shoud have the same columns as 'train_data' except for 'y'."
     ]
    }
   ],
   "source": [
    "fcaster.predict(valid_features.loc[:, test_data.columns])"
   ]
  },
  {
   "cell_type": "code",
   "execution_count": 18,
   "metadata": {},
   "outputs": [],
   "source": [
    "fcaster.train_data = train_data"
   ]
  },
  {
   "cell_type": "code",
   "execution_count": null,
   "metadata": {},
   "outputs": [],
   "source": [
    "fcaster."
   ]
  },
  {
   "cell_type": "markdown",
   "metadata": {},
   "source": [
    "***"
   ]
  },
  {
   "cell_type": "code",
   "execution_count": 9,
   "metadata": {},
   "outputs": [],
   "source": [
    "def objective(trial):\n",
    "    model_kwargs = {\"feature_sets\":['calendar', 'calendar_cyclical'],\n",
    "                    \"exclude_features\":[\"year\",\"days_in_month\"],\n",
    "                    \"categorical_features\":{\"building_id\":\"default\",\n",
    "                                            \"meter\":\"default\",\n",
    "                                            \"site_id\":\"default\",\n",
    "                                            \"primary_use\":\"default\"},\n",
    "                    \"ts_uid_columns\":[\"building_id\",\"meter\"],\n",
    "                    \"detrend\":False,\n",
    "                    \"target_scaler\":None}\n",
    "    model_params = {\n",
    "        \"num_leaves\":int(trial.suggest_loguniform('num_leaves', 2**5, 2**10+1)),\n",
    "        \"learning_rate\":trial.suggest_uniform('learning_rate', 0.01, 0.31),\n",
    "        \"min_data_in_leaf\":int(trial.suggest_discrete_uniform(\"min_data_in_leaf\", 20, 40, 20)),\n",
    "        \"feature_fraction\":trial.suggest_discrete_uniform(\"feature_fraction\", 0.9, 1.0, 0.1),\n",
    "        \"lambda_l2\":trial.suggest_discrete_uniform(\"lambda_l2\", 0., 1.0, 1.0)\n",
    "    }\n",
    "    model_kwargs[\"model_params\"] = model_params\n",
    "\n",
    "    valid_errors = list()\n",
    "    for i in range(N_FOLDS):\n",
    "        fcaster = model_class(**model_kwargs)\n",
    "        \n",
    "        print(f\"[INFO] preparing the features - fold: {i}\")\n",
    "        tic = time.time()\n",
    "        train_features = pd.read_hdf(f\"data/train_features_nw_{N_FOLDS}fold.h5\", key=f\"fold{i}\")\n",
    "        valid_features = pd.read_hdf(f\"data/valid_features_nw_{N_FOLDS}fold.h5\", key=f\"fold{i}\")\n",
    "        fcaster.set_features(train_features, valid_features)\n",
    "        tac = time.time()\n",
    "        print(f\"[INFO] time elapsed preparing the features: {(tac-tic)/60.} min.\\n\")\n",
    "\n",
    "        print(f\"[INFO] fitting the model - fold: {i}\")\n",
    "        tic = time.time()\n",
    "        fcaster.fit()\n",
    "        tac = time.time()\n",
    "        print(f\"[INFO] time elapsed fitting the model: {(tac-tic)/60.} min.\\n\")\n",
    "\n",
    "        print(f\"[INFO] evaluating the model - fold: {i}\")\n",
    "        tic = time.time()\n",
    "        valid_predictions = fcaster.predict(train_data.loc[valid_index, test_data.columns])\n",
    "\n",
    "        y_real = (target_inverse_transform(train_data.loc[valid_index, :], robust_scaler, target=\"y\")).y.values\n",
    "        y_pred_val = (target_inverse_transform(valid_predictions, robust_scaler, target=\"y_pred\")).y_pred.values\n",
    "\n",
    "        y_pred_val[y_pred_val<0] = 0   \n",
    "        valid_error = compute_rmsle(y_real, y_pred_val)\n",
    "        valid_errors.append(valid_error)\n",
    "        print(f\"[INFO] validation error on fold{i}: {valid_error}\")\n",
    "        tac = time.time()\n",
    "        print(f\"[INFO] time elapsed evaluating the model: {(tac-tic)/60.} min.\\n\")\n",
    "    \n",
    "    return np.mean(valid_errors)"
   ]
  },
  {
   "cell_type": "code",
   "execution_count": 10,
   "metadata": {
    "collapsed": true,
    "jupyter": {
     "outputs_hidden": true
    }
   },
   "outputs": [
    {
     "name": "stdout",
     "output_type": "stream",
     "text": [
      "[INFO] preparing the features - fold: 0\n",
      "Mem. usage decreased to 909.41 Mb (68.0% reduction)\n",
      "Mem. usage decreased to 303.12 Mb (68.0% reduction)\n",
      "[INFO] time elapsed preparing the features: 2.511084524790446 min.\n",
      "\n",
      "[INFO] fitting the model - fold: 0\n",
      "[INFO] time elapsed fitting the model: 0.5713108539581299 min.\n",
      "\n",
      "[INFO] evaluating the model - fold: 0\n",
      "[INFO] validation error on fold0: 1.0577284210559563\n",
      "[INFO] time elapsed evaluating the model: 0.5155432899792989 min.\n",
      "\n",
      "[INFO] preparing the features - fold: 1\n",
      "Mem. usage decreased to 909.43 Mb (68.0% reduction)\n",
      "Mem. usage decreased to 303.11 Mb (68.0% reduction)\n",
      "[INFO] time elapsed preparing the features: 2.377772835890452 min.\n",
      "\n",
      "[INFO] fitting the model - fold: 1\n",
      "[INFO] time elapsed fitting the model: 0.6975279927253724 min.\n",
      "\n",
      "[INFO] evaluating the model - fold: 1\n",
      "[INFO] validation error on fold1: 0.9311259959313566\n",
      "[INFO] time elapsed evaluating the model: 0.4482148369153341 min.\n",
      "\n",
      "[INFO] preparing the features - fold: 2\n",
      "Mem. usage decreased to 909.35 Mb (68.0% reduction)\n",
      "Mem. usage decreased to 303.19 Mb (68.0% reduction)\n",
      "[INFO] time elapsed preparing the features: 2.521500527858734 min.\n",
      "\n",
      "[INFO] fitting the model - fold: 2\n",
      "[INFO] time elapsed fitting the model: 0.5420462449391683 min.\n",
      "\n",
      "[INFO] evaluating the model - fold: 2\n",
      "[INFO] validation error on fold2: 1.1858768452487596\n",
      "[INFO] time elapsed evaluating the model: 0.46464280287424725 min.\n",
      "\n",
      "[INFO] preparing the features - fold: 3\n",
      "Mem. usage decreased to 909.42 Mb (68.0% reduction)\n",
      "Mem. usage decreased to 303.12 Mb (68.0% reduction)\n",
      "[INFO] time elapsed preparing the features: 2.424048360188802 min.\n",
      "\n",
      "[INFO] fitting the model - fold: 3\n",
      "[INFO] time elapsed fitting the model: 0.6852004925409952 min.\n",
      "\n",
      "[INFO] evaluating the model - fold: 3\n",
      "[INFO] validation error on fold3: 0.9354062566214603\n",
      "[INFO] time elapsed evaluating the model: 0.4617347002029419 min.\n",
      "\n"
     ]
    },
    {
     "name": "stderr",
     "output_type": "stream",
     "text": [
      "[I 2019-12-01 15:31:03,817] Finished trial#0 resulted in value: 1.0275343797143832. Current best value is 1.0275343797143832 with parameters: {'num_leaves': 77.85339833286481, 'learning_rate': 0.06825700128818045, 'min_data_in_leaf': 40.0, 'feature_fraction': 0.9, 'lambda_l2': 1.0}.\n"
     ]
    },
    {
     "name": "stdout",
     "output_type": "stream",
     "text": [
      "[INFO] preparing the features - fold: 0\n",
      "Mem. usage decreased to 909.41 Mb (68.0% reduction)\n",
      "Mem. usage decreased to 303.12 Mb (68.0% reduction)\n",
      "[INFO] time elapsed preparing the features: 2.4303881804148357 min.\n",
      "\n",
      "[INFO] fitting the model - fold: 0\n",
      "[INFO] time elapsed fitting the model: 1.0551750500996908 min.\n",
      "\n",
      "[INFO] evaluating the model - fold: 0\n",
      "[INFO] validation error on fold0: 1.1834674143432384\n",
      "[INFO] time elapsed evaluating the model: 0.5362764159838359 min.\n",
      "\n",
      "[INFO] preparing the features - fold: 1\n",
      "Mem. usage decreased to 909.43 Mb (68.0% reduction)\n",
      "Mem. usage decreased to 303.11 Mb (68.0% reduction)\n",
      "[INFO] time elapsed preparing the features: 2.3582255919774373 min.\n",
      "\n",
      "[INFO] fitting the model - fold: 1\n",
      "[INFO] time elapsed fitting the model: 1.1953715244928995 min.\n",
      "\n",
      "[INFO] evaluating the model - fold: 1\n",
      "[INFO] validation error on fold1: 1.0115509158094549\n",
      "[INFO] time elapsed evaluating the model: 0.5771966218948364 min.\n",
      "\n",
      "[INFO] preparing the features - fold: 2\n",
      "Mem. usage decreased to 909.35 Mb (68.0% reduction)\n",
      "Mem. usage decreased to 303.19 Mb (68.0% reduction)\n",
      "[INFO] time elapsed preparing the features: 2.4182653188705445 min.\n",
      "\n",
      "[INFO] fitting the model - fold: 2\n",
      "[INFO] time elapsed fitting the model: 1.0099711020787556 min.\n",
      "\n",
      "[INFO] evaluating the model - fold: 2\n",
      "[INFO] validation error on fold2: 1.3475094114058899\n",
      "[INFO] time elapsed evaluating the model: 0.5216630538304646 min.\n",
      "\n",
      "[INFO] preparing the features - fold: 3\n",
      "Mem. usage decreased to 909.42 Mb (68.0% reduction)\n",
      "Mem. usage decreased to 303.12 Mb (68.0% reduction)\n",
      "[INFO] time elapsed preparing the features: 2.4382500370343525 min.\n",
      "\n",
      "[INFO] fitting the model - fold: 3\n",
      "[INFO] time elapsed fitting the model: 1.0634316404660542 min.\n",
      "\n",
      "[INFO] evaluating the model - fold: 3\n",
      "[INFO] validation error on fold3: 1.2188526376008206\n",
      "[INFO] time elapsed evaluating the model: 0.5498510678609212 min.\n",
      "\n"
     ]
    },
    {
     "name": "stderr",
     "output_type": "stream",
     "text": [
      "[I 2019-12-01 15:47:15,431] Finished trial#1 resulted in value: 1.1903450947898508. Current best value is 1.0275343797143832 with parameters: {'num_leaves': 77.85339833286481, 'learning_rate': 0.06825700128818045, 'min_data_in_leaf': 40.0, 'feature_fraction': 0.9, 'lambda_l2': 1.0}.\n"
     ]
    },
    {
     "name": "stdout",
     "output_type": "stream",
     "text": [
      "[INFO] preparing the features - fold: 0\n",
      "Mem. usage decreased to 909.41 Mb (68.0% reduction)\n",
      "Mem. usage decreased to 303.12 Mb (68.0% reduction)\n",
      "[INFO] time elapsed preparing the features: 2.479695693651835 min.\n",
      "\n",
      "[INFO] fitting the model - fold: 0\n",
      "[INFO] time elapsed fitting the model: 0.4575957218805949 min.\n",
      "\n",
      "[INFO] evaluating the model - fold: 0\n",
      "[INFO] validation error on fold0: 1.5926178562139242\n",
      "[INFO] time elapsed evaluating the model: 0.4326853394508362 min.\n",
      "\n",
      "[INFO] preparing the features - fold: 1\n",
      "Mem. usage decreased to 909.43 Mb (68.0% reduction)\n",
      "Mem. usage decreased to 303.11 Mb (68.0% reduction)\n",
      "[INFO] time elapsed preparing the features: 2.4856940428415935 min.\n",
      "\n",
      "[INFO] fitting the model - fold: 1\n",
      "[INFO] time elapsed fitting the model: 0.771871789296468 min.\n",
      "\n",
      "[INFO] evaluating the model - fold: 1\n",
      "[INFO] validation error on fold1: 0.9156246276553192\n",
      "[INFO] time elapsed evaluating the model: 0.45116540988286336 min.\n",
      "\n",
      "[INFO] preparing the features - fold: 2\n",
      "Mem. usage decreased to 909.35 Mb (68.0% reduction)\n",
      "Mem. usage decreased to 303.19 Mb (68.0% reduction)\n",
      "[INFO] time elapsed preparing the features: 2.4347473263740538 min.\n",
      "\n",
      "[INFO] fitting the model - fold: 2\n",
      "[INFO] time elapsed fitting the model: 0.48098125457763674 min.\n",
      "\n",
      "[INFO] evaluating the model - fold: 2\n",
      "[INFO] validation error on fold2: 1.645217153625435\n",
      "[INFO] time elapsed evaluating the model: 0.44388851324717205 min.\n",
      "\n",
      "[INFO] preparing the features - fold: 3\n",
      "Mem. usage decreased to 909.42 Mb (68.0% reduction)\n",
      "Mem. usage decreased to 303.12 Mb (68.0% reduction)\n",
      "[INFO] time elapsed preparing the features: 2.4682157675425214 min.\n",
      "\n",
      "[INFO] fitting the model - fold: 3\n",
      "[INFO] time elapsed fitting the model: 0.5342121879259746 min.\n",
      "\n",
      "[INFO] evaluating the model - fold: 3\n",
      "[INFO] validation error on fold3: 1.189790844820405\n",
      "[INFO] time elapsed evaluating the model: 0.44552507003148395 min.\n",
      "\n"
     ]
    },
    {
     "name": "stderr",
     "output_type": "stream",
     "text": [
      "[I 2019-12-01 16:01:10,479] Finished trial#2 resulted in value: 1.3358126205787708. Current best value is 1.0275343797143832 with parameters: {'num_leaves': 77.85339833286481, 'learning_rate': 0.06825700128818045, 'min_data_in_leaf': 40.0, 'feature_fraction': 0.9, 'lambda_l2': 1.0}.\n"
     ]
    },
    {
     "name": "stdout",
     "output_type": "stream",
     "text": [
      "FrozenTrial(number=0, state=TrialState.COMPLETE, value=1.0275343797143832, datetime_start=datetime.datetime(2019, 12, 1, 15, 16, 47, 857505), datetime_complete=datetime.datetime(2019, 12, 1, 15, 31, 3, 816359), params={'num_leaves': 77.85339833286481, 'learning_rate': 0.06825700128818045, 'min_data_in_leaf': 40.0, 'feature_fraction': 0.9, 'lambda_l2': 1.0}, distributions={'num_leaves': LogUniformDistribution(high=1025, low=32), 'learning_rate': UniformDistribution(high=0.31, low=0.01), 'min_data_in_leaf': DiscreteUniformDistribution(high=40, low=20, q=20), 'feature_fraction': DiscreteUniformDistribution(high=1.0, low=0.9, q=0.1), 'lambda_l2': DiscreteUniformDistribution(high=1.0, low=0.0, q=1.0)}, user_attrs={}, system_attrs={'_number': 0}, intermediate_values={}, trial_id=0)\n"
     ]
    }
   ],
   "source": [
    "study = optuna.create_study(direction='minimize')\n",
    "study.optimize(objective, n_trials=3)\n",
    "print(study.best_trial)"
   ]
  },
  {
   "cell_type": "code",
   "execution_count": 11,
   "metadata": {},
   "outputs": [
    {
     "name": "stdout",
     "output_type": "stream",
     "text": [
      "FrozenTrial(number=0, state=TrialState.COMPLETE, value=1.0275343797143832, datetime_start=datetime.datetime(2019, 12, 1, 15, 16, 47, 857505), datetime_complete=datetime.datetime(2019, 12, 1, 15, 31, 3, 816359), params={'num_leaves': 77.85339833286481, 'learning_rate': 0.06825700128818045, 'min_data_in_leaf': 40.0, 'feature_fraction': 0.9, 'lambda_l2': 1.0}, distributions={'num_leaves': LogUniformDistribution(high=1025, low=32), 'learning_rate': UniformDistribution(high=0.31, low=0.01), 'min_data_in_leaf': DiscreteUniformDistribution(high=40, low=20, q=20), 'feature_fraction': DiscreteUniformDistribution(high=1.0, low=0.9, q=0.1), 'lambda_l2': DiscreteUniformDistribution(high=1.0, low=0.0, q=1.0)}, user_attrs={}, system_attrs={'_number': 0}, intermediate_values={}, trial_id=0)\n"
     ]
    }
   ],
   "source": [
    "print(study.best_trial)"
   ]
  },
  {
   "cell_type": "code",
   "execution_count": 14,
   "metadata": {},
   "outputs": [],
   "source": [
    "df = study.trials_dataframe()"
   ]
  },
  {
   "cell_type": "code",
   "execution_count": 15,
   "metadata": {},
   "outputs": [
    {
     "data": {
      "text/html": [
       "<div>\n",
       "<style scoped>\n",
       "    .dataframe tbody tr th:only-of-type {\n",
       "        vertical-align: middle;\n",
       "    }\n",
       "\n",
       "    .dataframe tbody tr th {\n",
       "        vertical-align: top;\n",
       "    }\n",
       "\n",
       "    .dataframe thead tr th {\n",
       "        text-align: left;\n",
       "    }\n",
       "</style>\n",
       "<table border=\"1\" class=\"dataframe\">\n",
       "  <thead>\n",
       "    <tr>\n",
       "      <th></th>\n",
       "      <th>number</th>\n",
       "      <th>state</th>\n",
       "      <th>value</th>\n",
       "      <th>datetime_start</th>\n",
       "      <th>datetime_complete</th>\n",
       "      <th colspan=\"5\" halign=\"left\">params</th>\n",
       "      <th>system_attrs</th>\n",
       "    </tr>\n",
       "    <tr>\n",
       "      <th></th>\n",
       "      <th></th>\n",
       "      <th></th>\n",
       "      <th></th>\n",
       "      <th></th>\n",
       "      <th></th>\n",
       "      <th>feature_fraction</th>\n",
       "      <th>lambda_l2</th>\n",
       "      <th>learning_rate</th>\n",
       "      <th>min_data_in_leaf</th>\n",
       "      <th>num_leaves</th>\n",
       "      <th>_number</th>\n",
       "    </tr>\n",
       "  </thead>\n",
       "  <tbody>\n",
       "    <tr>\n",
       "      <th>0</th>\n",
       "      <td>0</td>\n",
       "      <td>TrialState.COMPLETE</td>\n",
       "      <td>1.027534</td>\n",
       "      <td>2019-12-01 15:16:47.857505</td>\n",
       "      <td>2019-12-01 15:31:03.816359</td>\n",
       "      <td>0.9</td>\n",
       "      <td>1.0</td>\n",
       "      <td>0.068257</td>\n",
       "      <td>40.0</td>\n",
       "      <td>77.853398</td>\n",
       "      <td>0</td>\n",
       "    </tr>\n",
       "    <tr>\n",
       "      <th>1</th>\n",
       "      <td>1</td>\n",
       "      <td>TrialState.COMPLETE</td>\n",
       "      <td>1.190345</td>\n",
       "      <td>2019-12-01 15:31:03.824479</td>\n",
       "      <td>2019-12-01 15:47:15.430479</td>\n",
       "      <td>0.9</td>\n",
       "      <td>1.0</td>\n",
       "      <td>0.013493</td>\n",
       "      <td>20.0</td>\n",
       "      <td>99.059872</td>\n",
       "      <td>1</td>\n",
       "    </tr>\n",
       "    <tr>\n",
       "      <th>2</th>\n",
       "      <td>2</td>\n",
       "      <td>TrialState.COMPLETE</td>\n",
       "      <td>1.335813</td>\n",
       "      <td>2019-12-01 15:47:15.437217</td>\n",
       "      <td>2019-12-01 16:01:10.478800</td>\n",
       "      <td>1.0</td>\n",
       "      <td>1.0</td>\n",
       "      <td>0.083087</td>\n",
       "      <td>40.0</td>\n",
       "      <td>49.016490</td>\n",
       "      <td>2</td>\n",
       "    </tr>\n",
       "  </tbody>\n",
       "</table>\n",
       "</div>"
      ],
      "text/plain": [
       "  number                state     value             datetime_start  \\\n",
       "                                                                     \n",
       "0      0  TrialState.COMPLETE  1.027534 2019-12-01 15:16:47.857505   \n",
       "1      1  TrialState.COMPLETE  1.190345 2019-12-01 15:31:03.824479   \n",
       "2      2  TrialState.COMPLETE  1.335813 2019-12-01 15:47:15.437217   \n",
       "\n",
       "           datetime_complete           params                          \\\n",
       "                             feature_fraction lambda_l2 learning_rate   \n",
       "0 2019-12-01 15:31:03.816359              0.9       1.0      0.068257   \n",
       "1 2019-12-01 15:47:15.430479              0.9       1.0      0.013493   \n",
       "2 2019-12-01 16:01:10.478800              1.0       1.0      0.083087   \n",
       "\n",
       "                              system_attrs  \n",
       "  min_data_in_leaf num_leaves      _number  \n",
       "0             40.0  77.853398            0  \n",
       "1             20.0  99.059872            1  \n",
       "2             40.0  49.016490            2  "
      ]
     },
     "execution_count": 15,
     "metadata": {},
     "output_type": "execute_result"
    }
   ],
   "source": [
    "df"
   ]
  },
  {
   "cell_type": "markdown",
   "metadata": {},
   "source": [
    "***"
   ]
  }
 ],
 "metadata": {
  "kernelspec": {
   "display_name": "Python 3",
   "language": "python",
   "name": "python3"
  },
  "language_info": {
   "codemirror_mode": {
    "name": "ipython",
    "version": 3
   },
   "file_extension": ".py",
   "mimetype": "text/x-python",
   "name": "python",
   "nbconvert_exporter": "python",
   "pygments_lexer": "ipython3",
   "version": "3.7.4"
  }
 },
 "nbformat": 4,
 "nbformat_minor": 4
}
