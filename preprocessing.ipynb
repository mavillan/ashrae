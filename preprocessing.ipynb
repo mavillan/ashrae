{
 "cells": [
  {
   "cell_type": "code",
   "execution_count": 5,
   "metadata": {},
   "outputs": [],
   "source": [
    "import pandas as pd\n",
    "pd.options.mode.chained_assignment = None\n",
    "import numpy as np\n",
    "from scripts.utils import reduce_mem_usage\n",
    "from scripts.anomaly import anomaly_detector\n",
    "from sklearn.model_selection import StratifiedKFold\n",
    "import h5py\n",
    "import ghalton\n",
    "from scipy.stats import rankdata\n",
    "from sklearn.preprocessing import RobustScaler\n",
    "from tqdm import tqdm\n",
    "import pickle\n",
    "from sklearn.preprocessing import RobustScaler\n",
    "\n",
    "NO_WEATHER = False"
   ]
  },
  {
   "cell_type": "markdown",
   "metadata": {},
   "source": [
    "***"
   ]
  },
  {
   "cell_type": "markdown",
   "metadata": {},
   "source": [
    "function to perform correction of weather data to localtime"
   ]
  },
  {
   "cell_type": "code",
   "execution_count": 6,
   "metadata": {},
   "outputs": [],
   "source": [
    "sites_time_corrections = {0:4, 1:0, 2:7, 3:4, 4:7, 5:0, 6:4, 7:4, 8:4,\n",
    "                          9:5, 10:7, 11:4, 12:0, 13:5, 14:4, 15:4}\n",
    "\n",
    "def set_localtime(data):\n",
    "    all_ts = list()\n",
    "    tidx = pd.date_range(data.timestamp.min(), data.timestamp.max(), freq=\"H\")\n",
    "    for site_id, hdiff in sites_time_corrections.items():\n",
    "        ts = (data.query(\"site_id == @site_id\")\n",
    "              .assign(timestamp = lambda x: x.timestamp - pd.offsets.Hour(hdiff))\n",
    "              .set_index(\"timestamp\")\n",
    "              .reindex(tidx)\n",
    "              .assign(site_id = site_id))\n",
    "        all_ts.append(ts)\n",
    "    return pd.concat(all_ts).reset_index().rename({\"index\":\"timestamp\"}, axis=1)"
   ]
  },
  {
   "cell_type": "markdown",
   "metadata": {},
   "source": [
    "function to fill missing values in weather dataframes"
   ]
  },
  {
   "cell_type": "code",
   "execution_count": 7,
   "metadata": {},
   "outputs": [],
   "source": [
    "def weather_imputation(weather_data):\n",
    "    weather_data = (weather_data\n",
    "        .set_index(\"timestamp\")\n",
    "        .groupby('site_id')\n",
    "        .apply(lambda group: group.interpolate(method=\"time\", limit_direction='both'))\n",
    "        .reset_index())\n",
    "    return weather_data"
   ]
  },
  {
   "cell_type": "markdown",
   "metadata": {},
   "source": [
    "***\n",
    "## train data"
   ]
  },
  {
   "cell_type": "code",
   "execution_count": 8,
   "metadata": {},
   "outputs": [],
   "source": [
    "train = pd.read_csv(\"data/train.csv\", parse_dates=[\"timestamp\"])"
   ]
  },
  {
   "cell_type": "code",
   "execution_count": 9,
   "metadata": {},
   "outputs": [
    {
     "name": "stdout",
     "output_type": "stream",
     "text": [
      "<class 'pandas.core.frame.DataFrame'>\n",
      "RangeIndex: 20216100 entries, 0 to 20216099\n",
      "Data columns (total 4 columns):\n",
      "building_id      int64\n",
      "meter            int64\n",
      "timestamp        datetime64[ns]\n",
      "meter_reading    float64\n",
      "dtypes: datetime64[ns](1), float64(1), int64(2)\n",
      "memory usage: 616.9 MB\n"
     ]
    }
   ],
   "source": [
    "train.info()"
   ]
  },
  {
   "cell_type": "markdown",
   "metadata": {},
   "source": [
    "***"
   ]
  },
  {
   "cell_type": "code",
   "execution_count": 10,
   "metadata": {},
   "outputs": [],
   "source": [
    "building_metadata = pd.read_csv(\"data/building_metadata.csv\")"
   ]
  },
  {
   "cell_type": "code",
   "execution_count": 11,
   "metadata": {},
   "outputs": [
    {
     "name": "stdout",
     "output_type": "stream",
     "text": [
      "<class 'pandas.core.frame.DataFrame'>\n",
      "RangeIndex: 1449 entries, 0 to 1448\n",
      "Data columns (total 6 columns):\n",
      "site_id        1449 non-null int64\n",
      "building_id    1449 non-null int64\n",
      "primary_use    1449 non-null object\n",
      "square_feet    1449 non-null int64\n",
      "year_built     675 non-null float64\n",
      "floor_count    355 non-null float64\n",
      "dtypes: float64(2), int64(3), object(1)\n",
      "memory usage: 68.0+ KB\n"
     ]
    }
   ],
   "source": [
    "building_metadata.info()"
   ]
  },
  {
   "cell_type": "code",
   "execution_count": 12,
   "metadata": {},
   "outputs": [
    {
     "name": "stdout",
     "output_type": "stream",
     "text": [
      "Missing values in year_built: 774\n"
     ]
    }
   ],
   "source": [
    "print(f\"Missing values in year_built: {np.sum(building_metadata.year_built.isna())}\")"
   ]
  },
  {
   "cell_type": "code",
   "execution_count": 13,
   "metadata": {},
   "outputs": [
    {
     "name": "stdout",
     "output_type": "stream",
     "text": [
      "Missing values in floor_count: 1094\n"
     ]
    }
   ],
   "source": [
    "print(f\"Missing values in floor_count: {np.sum(building_metadata.floor_count.isna())}\")"
   ]
  },
  {
   "cell_type": "code",
   "execution_count": 14,
   "metadata": {},
   "outputs": [],
   "source": [
    "building_metadata.drop([\"year_built\",\"floor_count\"], axis=1, inplace=True)"
   ]
  },
  {
   "cell_type": "markdown",
   "metadata": {},
   "source": [
    "***"
   ]
  },
  {
   "cell_type": "code",
   "execution_count": 15,
   "metadata": {},
   "outputs": [],
   "source": [
    "weather_train = pd.read_csv(\"data/weather_train.csv\", parse_dates=[\"timestamp\"])"
   ]
  },
  {
   "cell_type": "code",
   "execution_count": 16,
   "metadata": {},
   "outputs": [
    {
     "name": "stdout",
     "output_type": "stream",
     "text": [
      "<class 'pandas.core.frame.DataFrame'>\n",
      "RangeIndex: 139773 entries, 0 to 139772\n",
      "Data columns (total 9 columns):\n",
      "site_id               139773 non-null int64\n",
      "timestamp             139773 non-null datetime64[ns]\n",
      "air_temperature       139718 non-null float64\n",
      "cloud_coverage        70600 non-null float64\n",
      "dew_temperature       139660 non-null float64\n",
      "precip_depth_1_hr     89484 non-null float64\n",
      "sea_level_pressure    129155 non-null float64\n",
      "wind_direction        133505 non-null float64\n",
      "wind_speed            139469 non-null float64\n",
      "dtypes: datetime64[ns](1), float64(7), int64(1)\n",
      "memory usage: 9.6 MB\n"
     ]
    }
   ],
   "source": [
    "weather_train.info()"
   ]
  },
  {
   "cell_type": "code",
   "execution_count": 17,
   "metadata": {},
   "outputs": [],
   "source": [
    "weather_train = set_localtime(weather_train)"
   ]
  },
  {
   "cell_type": "markdown",
   "metadata": {},
   "source": [
    "***"
   ]
  },
  {
   "cell_type": "code",
   "execution_count": 18,
   "metadata": {},
   "outputs": [
    {
     "data": {
      "text/plain": [
       "timestamp              0.000000\n",
       "site_id                0.000000\n",
       "air_temperature        0.628273\n",
       "cloud_coverage        49.787967\n",
       "dew_temperature        0.669541\n",
       "precip_depth_1_hr     36.359432\n",
       "sea_level_pressure     8.141223\n",
       "wind_direction         5.047530\n",
       "wind_speed             0.805442\n",
       "dtype: float64"
      ]
     },
     "execution_count": 18,
     "metadata": {},
     "output_type": "execute_result"
    }
   ],
   "source": [
    "100*weather_train.isna().sum()/weather_train.shape[0]"
   ]
  },
  {
   "cell_type": "code",
   "execution_count": 19,
   "metadata": {},
   "outputs": [
    {
     "data": {
      "text/html": [
       "<div>\n",
       "<style scoped>\n",
       "    .dataframe tbody tr th:only-of-type {\n",
       "        vertical-align: middle;\n",
       "    }\n",
       "\n",
       "    .dataframe tbody tr th {\n",
       "        vertical-align: top;\n",
       "    }\n",
       "\n",
       "    .dataframe thead th {\n",
       "        text-align: right;\n",
       "    }\n",
       "</style>\n",
       "<table border=\"1\" class=\"dataframe\">\n",
       "  <thead>\n",
       "    <tr style=\"text-align: right;\">\n",
       "      <th></th>\n",
       "      <th>timestamp</th>\n",
       "      <th>site_id</th>\n",
       "      <th>air_temperature</th>\n",
       "      <th>cloud_coverage</th>\n",
       "      <th>dew_temperature</th>\n",
       "      <th>precip_depth_1_hr</th>\n",
       "      <th>sea_level_pressure</th>\n",
       "      <th>wind_direction</th>\n",
       "      <th>wind_speed</th>\n",
       "    </tr>\n",
       "    <tr>\n",
       "      <th>site_id</th>\n",
       "      <th></th>\n",
       "      <th></th>\n",
       "      <th></th>\n",
       "      <th></th>\n",
       "      <th></th>\n",
       "      <th></th>\n",
       "      <th></th>\n",
       "      <th></th>\n",
       "      <th></th>\n",
       "    </tr>\n",
       "  </thead>\n",
       "  <tbody>\n",
       "    <tr>\n",
       "      <th>0</th>\n",
       "      <td>0</td>\n",
       "      <td>0</td>\n",
       "      <td>7</td>\n",
       "      <td>3833</td>\n",
       "      <td>7</td>\n",
       "      <td>4</td>\n",
       "      <td>89</td>\n",
       "      <td>254</td>\n",
       "      <td>4</td>\n",
       "    </tr>\n",
       "    <tr>\n",
       "      <th>1</th>\n",
       "      <td>0</td>\n",
       "      <td>0</td>\n",
       "      <td>22</td>\n",
       "      <td>7083</td>\n",
       "      <td>22</td>\n",
       "      <td>8784</td>\n",
       "      <td>73</td>\n",
       "      <td>24</td>\n",
       "      <td>21</td>\n",
       "    </tr>\n",
       "    <tr>\n",
       "      <th>2</th>\n",
       "      <td>0</td>\n",
       "      <td>0</td>\n",
       "      <td>9</td>\n",
       "      <td>2361</td>\n",
       "      <td>9</td>\n",
       "      <td>73</td>\n",
       "      <td>52</td>\n",
       "      <td>599</td>\n",
       "      <td>13</td>\n",
       "    </tr>\n",
       "    <tr>\n",
       "      <th>3</th>\n",
       "      <td>0</td>\n",
       "      <td>0</td>\n",
       "      <td>12</td>\n",
       "      <td>3648</td>\n",
       "      <td>14</td>\n",
       "      <td>44</td>\n",
       "      <td>166</td>\n",
       "      <td>161</td>\n",
       "      <td>12</td>\n",
       "    </tr>\n",
       "    <tr>\n",
       "      <th>4</th>\n",
       "      <td>0</td>\n",
       "      <td>0</td>\n",
       "      <td>7</td>\n",
       "      <td>4237</td>\n",
       "      <td>9</td>\n",
       "      <td>1324</td>\n",
       "      <td>80</td>\n",
       "      <td>112</td>\n",
       "      <td>7</td>\n",
       "    </tr>\n",
       "    <tr>\n",
       "      <th>5</th>\n",
       "      <td>0</td>\n",
       "      <td>0</td>\n",
       "      <td>31</td>\n",
       "      <td>6059</td>\n",
       "      <td>31</td>\n",
       "      <td>8784</td>\n",
       "      <td>8784</td>\n",
       "      <td>324</td>\n",
       "      <td>32</td>\n",
       "    </tr>\n",
       "    <tr>\n",
       "      <th>6</th>\n",
       "      <td>0</td>\n",
       "      <td>0</td>\n",
       "      <td>15</td>\n",
       "      <td>2995</td>\n",
       "      <td>15</td>\n",
       "      <td>5</td>\n",
       "      <td>179</td>\n",
       "      <td>784</td>\n",
       "      <td>44</td>\n",
       "    </tr>\n",
       "    <tr>\n",
       "      <th>7</th>\n",
       "      <td>0</td>\n",
       "      <td>0</td>\n",
       "      <td>174</td>\n",
       "      <td>8784</td>\n",
       "      <td>197</td>\n",
       "      <td>8053</td>\n",
       "      <td>182</td>\n",
       "      <td>174</td>\n",
       "      <td>174</td>\n",
       "    </tr>\n",
       "    <tr>\n",
       "      <th>8</th>\n",
       "      <td>0</td>\n",
       "      <td>0</td>\n",
       "      <td>7</td>\n",
       "      <td>3833</td>\n",
       "      <td>7</td>\n",
       "      <td>4</td>\n",
       "      <td>89</td>\n",
       "      <td>254</td>\n",
       "      <td>4</td>\n",
       "    </tr>\n",
       "    <tr>\n",
       "      <th>9</th>\n",
       "      <td>0</td>\n",
       "      <td>0</td>\n",
       "      <td>13</td>\n",
       "      <td>3462</td>\n",
       "      <td>15</td>\n",
       "      <td>15</td>\n",
       "      <td>247</td>\n",
       "      <td>2565</td>\n",
       "      <td>105</td>\n",
       "    </tr>\n",
       "    <tr>\n",
       "      <th>10</th>\n",
       "      <td>0</td>\n",
       "      <td>0</td>\n",
       "      <td>32</td>\n",
       "      <td>2458</td>\n",
       "      <td>35</td>\n",
       "      <td>35</td>\n",
       "      <td>149</td>\n",
       "      <td>542</td>\n",
       "      <td>112</td>\n",
       "    </tr>\n",
       "    <tr>\n",
       "      <th>11</th>\n",
       "      <td>0</td>\n",
       "      <td>0</td>\n",
       "      <td>174</td>\n",
       "      <td>8784</td>\n",
       "      <td>197</td>\n",
       "      <td>8053</td>\n",
       "      <td>182</td>\n",
       "      <td>174</td>\n",
       "      <td>174</td>\n",
       "    </tr>\n",
       "    <tr>\n",
       "      <th>12</th>\n",
       "      <td>0</td>\n",
       "      <td>0</td>\n",
       "      <td>29</td>\n",
       "      <td>88</td>\n",
       "      <td>29</td>\n",
       "      <td>8784</td>\n",
       "      <td>85</td>\n",
       "      <td>30</td>\n",
       "      <td>29</td>\n",
       "    </tr>\n",
       "    <tr>\n",
       "      <th>13</th>\n",
       "      <td>0</td>\n",
       "      <td>0</td>\n",
       "      <td>7</td>\n",
       "      <td>4300</td>\n",
       "      <td>7</td>\n",
       "      <td>17</td>\n",
       "      <td>126</td>\n",
       "      <td>223</td>\n",
       "      <td>7</td>\n",
       "    </tr>\n",
       "    <tr>\n",
       "      <th>14</th>\n",
       "      <td>0</td>\n",
       "      <td>0</td>\n",
       "      <td>11</td>\n",
       "      <td>3320</td>\n",
       "      <td>11</td>\n",
       "      <td>41</td>\n",
       "      <td>120</td>\n",
       "      <td>299</td>\n",
       "      <td>33</td>\n",
       "    </tr>\n",
       "    <tr>\n",
       "      <th>15</th>\n",
       "      <td>0</td>\n",
       "      <td>0</td>\n",
       "      <td>333</td>\n",
       "      <td>4729</td>\n",
       "      <td>336</td>\n",
       "      <td>7081</td>\n",
       "      <td>839</td>\n",
       "      <td>575</td>\n",
       "      <td>361</td>\n",
       "    </tr>\n",
       "  </tbody>\n",
       "</table>\n",
       "</div>"
      ],
      "text/plain": [
       "         timestamp  site_id  air_temperature  cloud_coverage  dew_temperature  \\\n",
       "site_id                                                                         \n",
       "0                0        0                7            3833                7   \n",
       "1                0        0               22            7083               22   \n",
       "2                0        0                9            2361                9   \n",
       "3                0        0               12            3648               14   \n",
       "4                0        0                7            4237                9   \n",
       "5                0        0               31            6059               31   \n",
       "6                0        0               15            2995               15   \n",
       "7                0        0              174            8784              197   \n",
       "8                0        0                7            3833                7   \n",
       "9                0        0               13            3462               15   \n",
       "10               0        0               32            2458               35   \n",
       "11               0        0              174            8784              197   \n",
       "12               0        0               29              88               29   \n",
       "13               0        0                7            4300                7   \n",
       "14               0        0               11            3320               11   \n",
       "15               0        0              333            4729              336   \n",
       "\n",
       "         precip_depth_1_hr  sea_level_pressure  wind_direction  wind_speed  \n",
       "site_id                                                                     \n",
       "0                        4                  89             254           4  \n",
       "1                     8784                  73              24          21  \n",
       "2                       73                  52             599          13  \n",
       "3                       44                 166             161          12  \n",
       "4                     1324                  80             112           7  \n",
       "5                     8784                8784             324          32  \n",
       "6                        5                 179             784          44  \n",
       "7                     8053                 182             174         174  \n",
       "8                        4                  89             254           4  \n",
       "9                       15                 247            2565         105  \n",
       "10                      35                 149             542         112  \n",
       "11                    8053                 182             174         174  \n",
       "12                    8784                  85              30          29  \n",
       "13                      17                 126             223           7  \n",
       "14                      41                 120             299          33  \n",
       "15                    7081                 839             575         361  "
      ]
     },
     "execution_count": 19,
     "metadata": {},
     "output_type": "execute_result"
    }
   ],
   "source": [
    "weather_train.groupby('site_id').apply(lambda group: group.isna().sum())"
   ]
  },
  {
   "cell_type": "code",
   "execution_count": 20,
   "metadata": {},
   "outputs": [
    {
     "data": {
      "text/html": [
       "<div>\n",
       "<style scoped>\n",
       "    .dataframe tbody tr th:only-of-type {\n",
       "        vertical-align: middle;\n",
       "    }\n",
       "\n",
       "    .dataframe tbody tr th {\n",
       "        vertical-align: top;\n",
       "    }\n",
       "\n",
       "    .dataframe thead th {\n",
       "        text-align: right;\n",
       "    }\n",
       "</style>\n",
       "<table border=\"1\" class=\"dataframe\">\n",
       "  <thead>\n",
       "    <tr style=\"text-align: right;\">\n",
       "      <th></th>\n",
       "      <th>timestamp</th>\n",
       "      <th>site_id</th>\n",
       "      <th>air_temperature</th>\n",
       "      <th>cloud_coverage</th>\n",
       "      <th>dew_temperature</th>\n",
       "      <th>precip_depth_1_hr</th>\n",
       "      <th>sea_level_pressure</th>\n",
       "      <th>wind_direction</th>\n",
       "      <th>wind_speed</th>\n",
       "    </tr>\n",
       "    <tr>\n",
       "      <th>site_id</th>\n",
       "      <th></th>\n",
       "      <th></th>\n",
       "      <th></th>\n",
       "      <th></th>\n",
       "      <th></th>\n",
       "      <th></th>\n",
       "      <th></th>\n",
       "      <th></th>\n",
       "      <th></th>\n",
       "    </tr>\n",
       "  </thead>\n",
       "  <tbody>\n",
       "    <tr>\n",
       "      <th>0</th>\n",
       "      <td>0.0</td>\n",
       "      <td>0.0</td>\n",
       "      <td>0.079690</td>\n",
       "      <td>43.636157</td>\n",
       "      <td>0.079690</td>\n",
       "      <td>0.045537</td>\n",
       "      <td>1.013206</td>\n",
       "      <td>2.891621</td>\n",
       "      <td>0.045537</td>\n",
       "    </tr>\n",
       "    <tr>\n",
       "      <th>1</th>\n",
       "      <td>0.0</td>\n",
       "      <td>0.0</td>\n",
       "      <td>0.250455</td>\n",
       "      <td>80.635246</td>\n",
       "      <td>0.250455</td>\n",
       "      <td>100.000000</td>\n",
       "      <td>0.831056</td>\n",
       "      <td>0.273224</td>\n",
       "      <td>0.239071</td>\n",
       "    </tr>\n",
       "    <tr>\n",
       "      <th>2</th>\n",
       "      <td>0.0</td>\n",
       "      <td>0.0</td>\n",
       "      <td>0.102459</td>\n",
       "      <td>26.878415</td>\n",
       "      <td>0.102459</td>\n",
       "      <td>0.831056</td>\n",
       "      <td>0.591985</td>\n",
       "      <td>6.819217</td>\n",
       "      <td>0.147996</td>\n",
       "    </tr>\n",
       "    <tr>\n",
       "      <th>3</th>\n",
       "      <td>0.0</td>\n",
       "      <td>0.0</td>\n",
       "      <td>0.136612</td>\n",
       "      <td>41.530055</td>\n",
       "      <td>0.159381</td>\n",
       "      <td>0.500911</td>\n",
       "      <td>1.889800</td>\n",
       "      <td>1.832878</td>\n",
       "      <td>0.136612</td>\n",
       "    </tr>\n",
       "    <tr>\n",
       "      <th>4</th>\n",
       "      <td>0.0</td>\n",
       "      <td>0.0</td>\n",
       "      <td>0.079690</td>\n",
       "      <td>48.235428</td>\n",
       "      <td>0.102459</td>\n",
       "      <td>15.072860</td>\n",
       "      <td>0.910747</td>\n",
       "      <td>1.275046</td>\n",
       "      <td>0.079690</td>\n",
       "    </tr>\n",
       "    <tr>\n",
       "      <th>5</th>\n",
       "      <td>0.0</td>\n",
       "      <td>0.0</td>\n",
       "      <td>0.352914</td>\n",
       "      <td>68.977687</td>\n",
       "      <td>0.352914</td>\n",
       "      <td>100.000000</td>\n",
       "      <td>100.000000</td>\n",
       "      <td>3.688525</td>\n",
       "      <td>0.364299</td>\n",
       "    </tr>\n",
       "    <tr>\n",
       "      <th>6</th>\n",
       "      <td>0.0</td>\n",
       "      <td>0.0</td>\n",
       "      <td>0.170765</td>\n",
       "      <td>34.096084</td>\n",
       "      <td>0.170765</td>\n",
       "      <td>0.056922</td>\n",
       "      <td>2.037796</td>\n",
       "      <td>8.925319</td>\n",
       "      <td>0.500911</td>\n",
       "    </tr>\n",
       "    <tr>\n",
       "      <th>7</th>\n",
       "      <td>0.0</td>\n",
       "      <td>0.0</td>\n",
       "      <td>1.980874</td>\n",
       "      <td>100.000000</td>\n",
       "      <td>2.242714</td>\n",
       "      <td>91.678051</td>\n",
       "      <td>2.071949</td>\n",
       "      <td>1.980874</td>\n",
       "      <td>1.980874</td>\n",
       "    </tr>\n",
       "    <tr>\n",
       "      <th>8</th>\n",
       "      <td>0.0</td>\n",
       "      <td>0.0</td>\n",
       "      <td>0.079690</td>\n",
       "      <td>43.636157</td>\n",
       "      <td>0.079690</td>\n",
       "      <td>0.045537</td>\n",
       "      <td>1.013206</td>\n",
       "      <td>2.891621</td>\n",
       "      <td>0.045537</td>\n",
       "    </tr>\n",
       "    <tr>\n",
       "      <th>9</th>\n",
       "      <td>0.0</td>\n",
       "      <td>0.0</td>\n",
       "      <td>0.147996</td>\n",
       "      <td>39.412568</td>\n",
       "      <td>0.170765</td>\n",
       "      <td>0.170765</td>\n",
       "      <td>2.811931</td>\n",
       "      <td>29.200820</td>\n",
       "      <td>1.195355</td>\n",
       "    </tr>\n",
       "    <tr>\n",
       "      <th>10</th>\n",
       "      <td>0.0</td>\n",
       "      <td>0.0</td>\n",
       "      <td>0.364299</td>\n",
       "      <td>27.982696</td>\n",
       "      <td>0.398452</td>\n",
       "      <td>0.398452</td>\n",
       "      <td>1.696266</td>\n",
       "      <td>6.170310</td>\n",
       "      <td>1.275046</td>\n",
       "    </tr>\n",
       "    <tr>\n",
       "      <th>11</th>\n",
       "      <td>0.0</td>\n",
       "      <td>0.0</td>\n",
       "      <td>1.980874</td>\n",
       "      <td>100.000000</td>\n",
       "      <td>2.242714</td>\n",
       "      <td>91.678051</td>\n",
       "      <td>2.071949</td>\n",
       "      <td>1.980874</td>\n",
       "      <td>1.980874</td>\n",
       "    </tr>\n",
       "    <tr>\n",
       "      <th>12</th>\n",
       "      <td>0.0</td>\n",
       "      <td>0.0</td>\n",
       "      <td>0.330146</td>\n",
       "      <td>1.001821</td>\n",
       "      <td>0.330146</td>\n",
       "      <td>100.000000</td>\n",
       "      <td>0.967668</td>\n",
       "      <td>0.341530</td>\n",
       "      <td>0.330146</td>\n",
       "    </tr>\n",
       "    <tr>\n",
       "      <th>13</th>\n",
       "      <td>0.0</td>\n",
       "      <td>0.0</td>\n",
       "      <td>0.079690</td>\n",
       "      <td>48.952641</td>\n",
       "      <td>0.079690</td>\n",
       "      <td>0.193534</td>\n",
       "      <td>1.434426</td>\n",
       "      <td>2.538707</td>\n",
       "      <td>0.079690</td>\n",
       "    </tr>\n",
       "    <tr>\n",
       "      <th>14</th>\n",
       "      <td>0.0</td>\n",
       "      <td>0.0</td>\n",
       "      <td>0.125228</td>\n",
       "      <td>37.795993</td>\n",
       "      <td>0.125228</td>\n",
       "      <td>0.466758</td>\n",
       "      <td>1.366120</td>\n",
       "      <td>3.403916</td>\n",
       "      <td>0.375683</td>\n",
       "    </tr>\n",
       "    <tr>\n",
       "      <th>15</th>\n",
       "      <td>0.0</td>\n",
       "      <td>0.0</td>\n",
       "      <td>3.790984</td>\n",
       "      <td>53.836521</td>\n",
       "      <td>3.825137</td>\n",
       "      <td>80.612477</td>\n",
       "      <td>9.551457</td>\n",
       "      <td>6.545993</td>\n",
       "      <td>4.109745</td>\n",
       "    </tr>\n",
       "  </tbody>\n",
       "</table>\n",
       "</div>"
      ],
      "text/plain": [
       "         timestamp  site_id  air_temperature  cloud_coverage  dew_temperature  \\\n",
       "site_id                                                                         \n",
       "0              0.0      0.0         0.079690       43.636157         0.079690   \n",
       "1              0.0      0.0         0.250455       80.635246         0.250455   \n",
       "2              0.0      0.0         0.102459       26.878415         0.102459   \n",
       "3              0.0      0.0         0.136612       41.530055         0.159381   \n",
       "4              0.0      0.0         0.079690       48.235428         0.102459   \n",
       "5              0.0      0.0         0.352914       68.977687         0.352914   \n",
       "6              0.0      0.0         0.170765       34.096084         0.170765   \n",
       "7              0.0      0.0         1.980874      100.000000         2.242714   \n",
       "8              0.0      0.0         0.079690       43.636157         0.079690   \n",
       "9              0.0      0.0         0.147996       39.412568         0.170765   \n",
       "10             0.0      0.0         0.364299       27.982696         0.398452   \n",
       "11             0.0      0.0         1.980874      100.000000         2.242714   \n",
       "12             0.0      0.0         0.330146        1.001821         0.330146   \n",
       "13             0.0      0.0         0.079690       48.952641         0.079690   \n",
       "14             0.0      0.0         0.125228       37.795993         0.125228   \n",
       "15             0.0      0.0         3.790984       53.836521         3.825137   \n",
       "\n",
       "         precip_depth_1_hr  sea_level_pressure  wind_direction  wind_speed  \n",
       "site_id                                                                     \n",
       "0                 0.045537            1.013206        2.891621    0.045537  \n",
       "1               100.000000            0.831056        0.273224    0.239071  \n",
       "2                 0.831056            0.591985        6.819217    0.147996  \n",
       "3                 0.500911            1.889800        1.832878    0.136612  \n",
       "4                15.072860            0.910747        1.275046    0.079690  \n",
       "5               100.000000          100.000000        3.688525    0.364299  \n",
       "6                 0.056922            2.037796        8.925319    0.500911  \n",
       "7                91.678051            2.071949        1.980874    1.980874  \n",
       "8                 0.045537            1.013206        2.891621    0.045537  \n",
       "9                 0.170765            2.811931       29.200820    1.195355  \n",
       "10                0.398452            1.696266        6.170310    1.275046  \n",
       "11               91.678051            2.071949        1.980874    1.980874  \n",
       "12              100.000000            0.967668        0.341530    0.330146  \n",
       "13                0.193534            1.434426        2.538707    0.079690  \n",
       "14                0.466758            1.366120        3.403916    0.375683  \n",
       "15               80.612477            9.551457        6.545993    4.109745  "
      ]
     },
     "execution_count": 20,
     "metadata": {},
     "output_type": "execute_result"
    }
   ],
   "source": [
    "weather_train.groupby('site_id').apply(lambda group: 100*group.isna().sum()/group.shape[0])"
   ]
  },
  {
   "cell_type": "code",
   "execution_count": 21,
   "metadata": {},
   "outputs": [],
   "source": [
    "weather_train.drop([\"cloud_coverage\", \"precip_depth_1_hr\"], axis=1, inplace=True)"
   ]
  },
  {
   "cell_type": "code",
   "execution_count": 22,
   "metadata": {},
   "outputs": [],
   "source": [
    "weather_train = weather_imputation(weather_train)"
   ]
  },
  {
   "cell_type": "code",
   "execution_count": 23,
   "metadata": {},
   "outputs": [
    {
     "data": {
      "text/html": [
       "<div>\n",
       "<style scoped>\n",
       "    .dataframe tbody tr th:only-of-type {\n",
       "        vertical-align: middle;\n",
       "    }\n",
       "\n",
       "    .dataframe tbody tr th {\n",
       "        vertical-align: top;\n",
       "    }\n",
       "\n",
       "    .dataframe thead th {\n",
       "        text-align: right;\n",
       "    }\n",
       "</style>\n",
       "<table border=\"1\" class=\"dataframe\">\n",
       "  <thead>\n",
       "    <tr style=\"text-align: right;\">\n",
       "      <th></th>\n",
       "      <th>timestamp</th>\n",
       "      <th>site_id</th>\n",
       "      <th>air_temperature</th>\n",
       "      <th>dew_temperature</th>\n",
       "      <th>sea_level_pressure</th>\n",
       "      <th>wind_direction</th>\n",
       "      <th>wind_speed</th>\n",
       "    </tr>\n",
       "    <tr>\n",
       "      <th>site_id</th>\n",
       "      <th></th>\n",
       "      <th></th>\n",
       "      <th></th>\n",
       "      <th></th>\n",
       "      <th></th>\n",
       "      <th></th>\n",
       "      <th></th>\n",
       "    </tr>\n",
       "  </thead>\n",
       "  <tbody>\n",
       "    <tr>\n",
       "      <th>0</th>\n",
       "      <td>0</td>\n",
       "      <td>0</td>\n",
       "      <td>0</td>\n",
       "      <td>0</td>\n",
       "      <td>0</td>\n",
       "      <td>0</td>\n",
       "      <td>0</td>\n",
       "    </tr>\n",
       "    <tr>\n",
       "      <th>1</th>\n",
       "      <td>0</td>\n",
       "      <td>0</td>\n",
       "      <td>0</td>\n",
       "      <td>0</td>\n",
       "      <td>0</td>\n",
       "      <td>0</td>\n",
       "      <td>0</td>\n",
       "    </tr>\n",
       "    <tr>\n",
       "      <th>2</th>\n",
       "      <td>0</td>\n",
       "      <td>0</td>\n",
       "      <td>0</td>\n",
       "      <td>0</td>\n",
       "      <td>0</td>\n",
       "      <td>0</td>\n",
       "      <td>0</td>\n",
       "    </tr>\n",
       "    <tr>\n",
       "      <th>3</th>\n",
       "      <td>0</td>\n",
       "      <td>0</td>\n",
       "      <td>0</td>\n",
       "      <td>0</td>\n",
       "      <td>0</td>\n",
       "      <td>0</td>\n",
       "      <td>0</td>\n",
       "    </tr>\n",
       "    <tr>\n",
       "      <th>4</th>\n",
       "      <td>0</td>\n",
       "      <td>0</td>\n",
       "      <td>0</td>\n",
       "      <td>0</td>\n",
       "      <td>0</td>\n",
       "      <td>0</td>\n",
       "      <td>0</td>\n",
       "    </tr>\n",
       "    <tr>\n",
       "      <th>5</th>\n",
       "      <td>0</td>\n",
       "      <td>0</td>\n",
       "      <td>0</td>\n",
       "      <td>0</td>\n",
       "      <td>8784</td>\n",
       "      <td>0</td>\n",
       "      <td>0</td>\n",
       "    </tr>\n",
       "    <tr>\n",
       "      <th>6</th>\n",
       "      <td>0</td>\n",
       "      <td>0</td>\n",
       "      <td>0</td>\n",
       "      <td>0</td>\n",
       "      <td>0</td>\n",
       "      <td>0</td>\n",
       "      <td>0</td>\n",
       "    </tr>\n",
       "    <tr>\n",
       "      <th>7</th>\n",
       "      <td>0</td>\n",
       "      <td>0</td>\n",
       "      <td>0</td>\n",
       "      <td>0</td>\n",
       "      <td>0</td>\n",
       "      <td>0</td>\n",
       "      <td>0</td>\n",
       "    </tr>\n",
       "    <tr>\n",
       "      <th>8</th>\n",
       "      <td>0</td>\n",
       "      <td>0</td>\n",
       "      <td>0</td>\n",
       "      <td>0</td>\n",
       "      <td>0</td>\n",
       "      <td>0</td>\n",
       "      <td>0</td>\n",
       "    </tr>\n",
       "    <tr>\n",
       "      <th>9</th>\n",
       "      <td>0</td>\n",
       "      <td>0</td>\n",
       "      <td>0</td>\n",
       "      <td>0</td>\n",
       "      <td>0</td>\n",
       "      <td>0</td>\n",
       "      <td>0</td>\n",
       "    </tr>\n",
       "    <tr>\n",
       "      <th>10</th>\n",
       "      <td>0</td>\n",
       "      <td>0</td>\n",
       "      <td>0</td>\n",
       "      <td>0</td>\n",
       "      <td>0</td>\n",
       "      <td>0</td>\n",
       "      <td>0</td>\n",
       "    </tr>\n",
       "    <tr>\n",
       "      <th>11</th>\n",
       "      <td>0</td>\n",
       "      <td>0</td>\n",
       "      <td>0</td>\n",
       "      <td>0</td>\n",
       "      <td>0</td>\n",
       "      <td>0</td>\n",
       "      <td>0</td>\n",
       "    </tr>\n",
       "    <tr>\n",
       "      <th>12</th>\n",
       "      <td>0</td>\n",
       "      <td>0</td>\n",
       "      <td>0</td>\n",
       "      <td>0</td>\n",
       "      <td>0</td>\n",
       "      <td>0</td>\n",
       "      <td>0</td>\n",
       "    </tr>\n",
       "    <tr>\n",
       "      <th>13</th>\n",
       "      <td>0</td>\n",
       "      <td>0</td>\n",
       "      <td>0</td>\n",
       "      <td>0</td>\n",
       "      <td>0</td>\n",
       "      <td>0</td>\n",
       "      <td>0</td>\n",
       "    </tr>\n",
       "    <tr>\n",
       "      <th>14</th>\n",
       "      <td>0</td>\n",
       "      <td>0</td>\n",
       "      <td>0</td>\n",
       "      <td>0</td>\n",
       "      <td>0</td>\n",
       "      <td>0</td>\n",
       "      <td>0</td>\n",
       "    </tr>\n",
       "    <tr>\n",
       "      <th>15</th>\n",
       "      <td>0</td>\n",
       "      <td>0</td>\n",
       "      <td>0</td>\n",
       "      <td>0</td>\n",
       "      <td>0</td>\n",
       "      <td>0</td>\n",
       "      <td>0</td>\n",
       "    </tr>\n",
       "  </tbody>\n",
       "</table>\n",
       "</div>"
      ],
      "text/plain": [
       "         timestamp  site_id  air_temperature  dew_temperature  \\\n",
       "site_id                                                         \n",
       "0                0        0                0                0   \n",
       "1                0        0                0                0   \n",
       "2                0        0                0                0   \n",
       "3                0        0                0                0   \n",
       "4                0        0                0                0   \n",
       "5                0        0                0                0   \n",
       "6                0        0                0                0   \n",
       "7                0        0                0                0   \n",
       "8                0        0                0                0   \n",
       "9                0        0                0                0   \n",
       "10               0        0                0                0   \n",
       "11               0        0                0                0   \n",
       "12               0        0                0                0   \n",
       "13               0        0                0                0   \n",
       "14               0        0                0                0   \n",
       "15               0        0                0                0   \n",
       "\n",
       "         sea_level_pressure  wind_direction  wind_speed  \n",
       "site_id                                                  \n",
       "0                         0               0           0  \n",
       "1                         0               0           0  \n",
       "2                         0               0           0  \n",
       "3                         0               0           0  \n",
       "4                         0               0           0  \n",
       "5                      8784               0           0  \n",
       "6                         0               0           0  \n",
       "7                         0               0           0  \n",
       "8                         0               0           0  \n",
       "9                         0               0           0  \n",
       "10                        0               0           0  \n",
       "11                        0               0           0  \n",
       "12                        0               0           0  \n",
       "13                        0               0           0  \n",
       "14                        0               0           0  \n",
       "15                        0               0           0  "
      ]
     },
     "execution_count": 23,
     "metadata": {},
     "output_type": "execute_result"
    }
   ],
   "source": [
    "weather_train.groupby('site_id').apply(lambda group: group.isna().sum())"
   ]
  },
  {
   "cell_type": "code",
   "execution_count": 24,
   "metadata": {},
   "outputs": [
    {
     "name": "stdout",
     "output_type": "stream",
     "text": [
      "<class 'pandas.core.frame.DataFrame'>\n",
      "RangeIndex: 140544 entries, 0 to 140543\n",
      "Data columns (total 7 columns):\n",
      "timestamp             140544 non-null datetime64[ns]\n",
      "site_id               140544 non-null int64\n",
      "air_temperature       140544 non-null float64\n",
      "dew_temperature       140544 non-null float64\n",
      "sea_level_pressure    131760 non-null float64\n",
      "wind_direction        140544 non-null float64\n",
      "wind_speed            140544 non-null float64\n",
      "dtypes: datetime64[ns](1), float64(5), int64(1)\n",
      "memory usage: 7.5 MB\n"
     ]
    }
   ],
   "source": [
    "weather_train.info()"
   ]
  },
  {
   "cell_type": "markdown",
   "metadata": {},
   "source": [
    "***\n",
    "weather feature normalization"
   ]
  },
  {
   "cell_type": "code",
   "execution_count": null,
   "metadata": {},
   "outputs": [],
   "source": [
    "features = [\"air_temperature\", \"dew_temperature\", \"sea_level_pressure\", \"wind_speed\"]\n",
    "\n",
    "for site_id in weather_train.site_id.unique():\n",
    "    weather_cut = weather_train.query(\"site_id == @site_id\")\n",
    "    idx_cut = weather_cut.index\n",
    "    scaler = RobustScaler()\n",
    "    weather_train.loc[idx_cut, features] = scaler.fit_transform(weather_cut.loc[:, features].values)"
   ]
  },
  {
   "cell_type": "markdown",
   "metadata": {},
   "source": [
    "***\n",
    "merges the datasets"
   ]
  },
  {
   "cell_type": "code",
   "execution_count": 25,
   "metadata": {},
   "outputs": [],
   "source": [
    "if NO_WEATHER:\n",
    "    train_data = pd.merge(train, building_metadata, how=\"left\", on=[\"building_id\"])\n",
    "else:\n",
    "    train_data = (pd.merge(train, building_metadata, how=\"left\", on=[\"building_id\"])\n",
    "                  .merge(weather_train, how=\"left\", on=[\"timestamp\",\"site_id\"]))"
   ]
  },
  {
   "cell_type": "markdown",
   "metadata": {},
   "source": [
    "***\n",
    "removes anomal data for `site_id=0`"
   ]
  },
  {
   "cell_type": "code",
   "execution_count": 26,
   "metadata": {},
   "outputs": [],
   "source": [
    "train_data_cut = train_data.query(\"site_id == 0\")\n",
    "ts_uid_values = train_data_cut.loc[:, [\"building_id\", \"meter\"]].drop_duplicates()\n",
    "delete_idx = pd.Index(np.array([], dtype=int))\n",
    "for i,row in ts_uid_values.iterrows():\n",
    "    ts = train_data_cut.query(\"building_id == @row.building_id & meter == @row.meter\")\n",
    "    if ts.query(\"timestamp < '2016-05-20 18:00:00'\").meter_reading.quantile(0.75) == 0:\n",
    "        delete_idx = delete_idx.union(ts.query(\"timestamp < '2016-05-20 18:00:00'\").index)  \n",
    "        \n",
    "train_data.drop(delete_idx, axis=0, inplace=True)\n",
    "train_data.reset_index(drop=True, inplace=True)"
   ]
  },
  {
   "cell_type": "code",
   "execution_count": 27,
   "metadata": {},
   "outputs": [
    {
     "name": "stdout",
     "output_type": "stream",
     "text": [
      "<class 'pandas.core.frame.DataFrame'>\n",
      "RangeIndex: 19871167 entries, 0 to 19871166\n",
      "Data columns (total 12 columns):\n",
      "building_id           int64\n",
      "meter                 int64\n",
      "timestamp             datetime64[ns]\n",
      "meter_reading         float64\n",
      "site_id               int64\n",
      "primary_use           object\n",
      "square_feet           int64\n",
      "air_temperature       float64\n",
      "dew_temperature       float64\n",
      "sea_level_pressure    float64\n",
      "wind_direction        float64\n",
      "wind_speed            float64\n",
      "dtypes: datetime64[ns](1), float64(6), int64(4), object(1)\n",
      "memory usage: 1.8+ GB\n"
     ]
    }
   ],
   "source": [
    "train_data.info()"
   ]
  },
  {
   "cell_type": "markdown",
   "metadata": {},
   "source": [
    "***\n",
    "target correction for `site_id = 0`\n",
    "\n",
    "* kBTU -> kWh (* 0.2931)"
   ]
  },
  {
   "cell_type": "code",
   "execution_count": 28,
   "metadata": {},
   "outputs": [],
   "source": [
    "idx = train_data.query(\"site_id == 0 & meter == 0\").index\n",
    "train_data.loc[idx, \"meter_reading\"] = 0.2931*train_data.loc[idx, \"meter_reading\"]"
   ]
  },
  {
   "cell_type": "markdown",
   "metadata": {},
   "source": [
    "***\n",
    "removes anormal behavior for `building_id=363` before `2016-07-25`"
   ]
  },
  {
   "cell_type": "code",
   "execution_count": 29,
   "metadata": {},
   "outputs": [],
   "source": [
    "idx = train_data.query(\"building_id == 363 & meter == 0 & timestamp <= '2016-07-24 23:00:00'\").index\n",
    "train_data.drop(idx, axis=0, inplace=True)\n",
    "train_data.reset_index(drop=True, inplace=True)"
   ]
  },
  {
   "cell_type": "code",
   "execution_count": 30,
   "metadata": {},
   "outputs": [
    {
     "name": "stdout",
     "output_type": "stream",
     "text": [
      "<class 'pandas.core.frame.DataFrame'>\n",
      "RangeIndex: 19866224 entries, 0 to 19866223\n",
      "Data columns (total 12 columns):\n",
      "building_id           int64\n",
      "meter                 int64\n",
      "timestamp             datetime64[ns]\n",
      "meter_reading         float64\n",
      "site_id               int64\n",
      "primary_use           object\n",
      "square_feet           int64\n",
      "air_temperature       float64\n",
      "dew_temperature       float64\n",
      "sea_level_pressure    float64\n",
      "wind_direction        float64\n",
      "wind_speed            float64\n",
      "dtypes: datetime64[ns](1), float64(6), int64(4), object(1)\n",
      "memory usage: 1.8+ GB\n"
     ]
    }
   ],
   "source": [
    "train_data.info()"
   ]
  },
  {
   "cell_type": "markdown",
   "metadata": {},
   "source": [
    "***\n",
    "removes rows with `meter_reading=0` and `meter=0` "
   ]
  },
  {
   "cell_type": "code",
   "execution_count": 31,
   "metadata": {},
   "outputs": [
    {
     "name": "stdout",
     "output_type": "stream",
     "text": [
      "Number of outliers: 187520\n"
     ]
    }
   ],
   "source": [
    "idx = train_data.query(\"meter==0 and meter_reading==0\").index\n",
    "print(f\"Number of outliers: {len(idx)}\")\n",
    "train_data.drop(idx, axis=0, inplace=True)\n",
    "train_data.reset_index(drop=True, inplace=True)"
   ]
  },
  {
   "cell_type": "markdown",
   "metadata": {},
   "source": [
    "*** \n",
    "target correction an cleaning for `building==1099 & meter==2`. Correction factor scales the meter_reading of building 1099 to a range of values similar to the ones of buildings in the same site and with same primary_use (education)."
   ]
  },
  {
   "cell_type": "code",
   "execution_count": 32,
   "metadata": {},
   "outputs": [],
   "source": [
    "idx = train_data.query(\"building_id==1099 & meter==2 & timestamp.dt.month==11 & meter_reading > 1e5\").index\n",
    "train_data.loc[idx, \"meter_reading\"] = train_data.query(\"building_id==1099 & meter==2 & timestamp.dt.month==11\").meter_reading.median()"
   ]
  },
  {
   "cell_type": "code",
   "execution_count": 35,
   "metadata": {},
   "outputs": [],
   "source": [
    "correction_factor = 5e4/2.190470e7\n",
    "idx = train_data.query(\"building_id==1099 & meter==2\").index\n",
    "train_data.loc[idx, \"meter_reading\"] = correction_factor*train_data.loc[idx, \"meter_reading\"]"
   ]
  },
  {
   "cell_type": "code",
   "execution_count": 40,
   "metadata": {},
   "outputs": [
    {
     "data": {
      "text/plain": [
       "count     8784.000000\n",
       "mean      8512.997910\n",
       "std      14202.913680\n",
       "min          0.328697\n",
       "25%          3.670445\n",
       "50%         15.503522\n",
       "75%      14254.161207\n",
       "max      50000.000000\n",
       "Name: meter_reading, dtype: float64"
      ]
     },
     "execution_count": 40,
     "metadata": {},
     "output_type": "execute_result"
    }
   ],
   "source": [
    "train_data.loc[idx, \"meter_reading\"].describe()"
   ]
  },
  {
   "cell_type": "markdown",
   "metadata": {},
   "source": [
    "***\n",
    "### outlier removal"
   ]
  },
  {
   "cell_type": "code",
   "execution_count": null,
   "metadata": {},
   "outputs": [],
   "source": [
    "ts_uid_values = train_data.loc[:, [\"building_id\",\"meter\"]].drop_duplicates()\n",
    "outliers_indexes = list()\n",
    "\n",
    "for _,row in ts_uid_values.iterrows():\n",
    "    ts = train_data.query(\"building_id == @row.building_id & meter == @row.meter\")\n",
    "    ts = ts.reset_index()\n",
    "    outliers = anomaly_detector(ts.meter_reading, window_size=48, sigma=5)\n",
    "    if len(outliers) > 0:\n",
    "        print(f\"{len(outliers)} found for building_id=={row.building_id} & meter={row.meter}\")\n",
    "    outliers_indexes.append(ts.loc[[idx for idx,_ in outliers], :].index.values)"
   ]
  },
  {
   "cell_type": "markdown",
   "metadata": {},
   "source": [
    "***"
   ]
  },
  {
   "cell_type": "code",
   "execution_count": 29,
   "metadata": {},
   "outputs": [
    {
     "name": "stdout",
     "output_type": "stream",
     "text": [
      "Mem. usage decreased to 713.15 Mb (60.4% reduction)\n"
     ]
    }
   ],
   "source": [
    "train_data = reduce_mem_usage(train_data)"
   ]
  },
  {
   "cell_type": "code",
   "execution_count": 30,
   "metadata": {},
   "outputs": [
    {
     "name": "stdout",
     "output_type": "stream",
     "text": [
      "<class 'pandas.core.frame.DataFrame'>\n",
      "RangeIndex: 19678704 entries, 0 to 19678703\n",
      "Data columns (total 12 columns):\n",
      "building_id           int16\n",
      "meter                 int8\n",
      "timestamp             datetime64[ns]\n",
      "meter_reading         float32\n",
      "site_id               int8\n",
      "primary_use           object\n",
      "square_feet           int32\n",
      "air_temperature       float16\n",
      "dew_temperature       float16\n",
      "sea_level_pressure    float16\n",
      "wind_direction        float16\n",
      "wind_speed            float16\n",
      "dtypes: datetime64[ns](1), float16(5), float32(1), int16(1), int32(1), int8(2), object(1)\n",
      "memory usage: 713.1+ MB\n"
     ]
    }
   ],
   "source": [
    "train_data.info()"
   ]
  },
  {
   "cell_type": "code",
   "execution_count": 30,
   "metadata": {},
   "outputs": [],
   "source": [
    "if NO_WEATHER:\n",
    "    train_data.to_hdf(\"data/train_data_nw.h5\", key=\"train_data\")\n",
    "else:\n",
    "    train_data.to_hdf(\"data/train_data.h5\", key=\"train_data\")\n",
    "    #train_data.to_hdf(\"data/train_data.h5\", key=\"train_data_scaled_weather\")"
   ]
  },
  {
   "cell_type": "markdown",
   "metadata": {},
   "source": [
    "***\n",
    "## test data"
   ]
  },
  {
   "cell_type": "code",
   "execution_count": 31,
   "metadata": {},
   "outputs": [],
   "source": [
    "test = pd.read_csv(\"data/test.csv\", parse_dates=[\"timestamp\"])"
   ]
  },
  {
   "cell_type": "code",
   "execution_count": 32,
   "metadata": {},
   "outputs": [
    {
     "name": "stdout",
     "output_type": "stream",
     "text": [
      "<class 'pandas.core.frame.DataFrame'>\n",
      "RangeIndex: 41697600 entries, 0 to 41697599\n",
      "Data columns (total 4 columns):\n",
      "row_id         int64\n",
      "building_id    int64\n",
      "meter          int64\n",
      "timestamp      datetime64[ns]\n",
      "dtypes: datetime64[ns](1), int64(3)\n",
      "memory usage: 1.2 GB\n"
     ]
    }
   ],
   "source": [
    "test.info()"
   ]
  },
  {
   "cell_type": "markdown",
   "metadata": {},
   "source": [
    "***"
   ]
  },
  {
   "cell_type": "code",
   "execution_count": 33,
   "metadata": {},
   "outputs": [],
   "source": [
    "weather_test = pd.read_csv(\"data/weather_test.csv\", parse_dates=[\"timestamp\"])"
   ]
  },
  {
   "cell_type": "code",
   "execution_count": 34,
   "metadata": {},
   "outputs": [
    {
     "name": "stdout",
     "output_type": "stream",
     "text": [
      "<class 'pandas.core.frame.DataFrame'>\n",
      "RangeIndex: 277243 entries, 0 to 277242\n",
      "Data columns (total 9 columns):\n",
      "site_id               277243 non-null int64\n",
      "timestamp             277243 non-null datetime64[ns]\n",
      "air_temperature       277139 non-null float64\n",
      "cloud_coverage        136795 non-null float64\n",
      "dew_temperature       276916 non-null float64\n",
      "precip_depth_1_hr     181655 non-null float64\n",
      "sea_level_pressure    255978 non-null float64\n",
      "wind_direction        264873 non-null float64\n",
      "wind_speed            276783 non-null float64\n",
      "dtypes: datetime64[ns](1), float64(7), int64(1)\n",
      "memory usage: 19.0 MB\n"
     ]
    }
   ],
   "source": [
    "weather_test.info()"
   ]
  },
  {
   "cell_type": "code",
   "execution_count": 35,
   "metadata": {},
   "outputs": [],
   "source": [
    "weather_test = set_localtime(weather_test)"
   ]
  },
  {
   "cell_type": "code",
   "execution_count": 36,
   "metadata": {},
   "outputs": [
    {
     "name": "stdout",
     "output_type": "stream",
     "text": [
      "<class 'pandas.core.frame.DataFrame'>\n",
      "RangeIndex: 280320 entries, 0 to 280319\n",
      "Data columns (total 9 columns):\n",
      "timestamp             280320 non-null datetime64[ns]\n",
      "site_id               280320 non-null int64\n",
      "air_temperature       277082 non-null float64\n",
      "cloud_coverage        136771 non-null float64\n",
      "dew_temperature       276859 non-null float64\n",
      "precip_depth_1_hr     181603 non-null float64\n",
      "sea_level_pressure    255921 non-null float64\n",
      "wind_direction        264816 non-null float64\n",
      "wind_speed            276726 non-null float64\n",
      "dtypes: datetime64[ns](1), float64(7), int64(1)\n",
      "memory usage: 19.2 MB\n"
     ]
    }
   ],
   "source": [
    "weather_test.info()"
   ]
  },
  {
   "cell_type": "markdown",
   "metadata": {},
   "source": [
    "***"
   ]
  },
  {
   "cell_type": "code",
   "execution_count": 37,
   "metadata": {},
   "outputs": [
    {
     "data": {
      "text/plain": [
       "timestamp              0.000000\n",
       "site_id                0.000000\n",
       "air_temperature        1.155108\n",
       "cloud_coverage        51.208975\n",
       "dew_temperature        1.234660\n",
       "precip_depth_1_hr     35.215825\n",
       "sea_level_pressure     8.703981\n",
       "wind_direction         5.530822\n",
       "wind_speed             1.282106\n",
       "dtype: float64"
      ]
     },
     "execution_count": 37,
     "metadata": {},
     "output_type": "execute_result"
    }
   ],
   "source": [
    "100*weather_test.isna().sum()/weather_test.shape[0]"
   ]
  },
  {
   "cell_type": "code",
   "execution_count": 38,
   "metadata": {},
   "outputs": [
    {
     "data": {
      "text/html": [
       "<div>\n",
       "<style scoped>\n",
       "    .dataframe tbody tr th:only-of-type {\n",
       "        vertical-align: middle;\n",
       "    }\n",
       "\n",
       "    .dataframe tbody tr th {\n",
       "        vertical-align: top;\n",
       "    }\n",
       "\n",
       "    .dataframe thead th {\n",
       "        text-align: right;\n",
       "    }\n",
       "</style>\n",
       "<table border=\"1\" class=\"dataframe\">\n",
       "  <thead>\n",
       "    <tr style=\"text-align: right;\">\n",
       "      <th></th>\n",
       "      <th>timestamp</th>\n",
       "      <th>site_id</th>\n",
       "      <th>air_temperature</th>\n",
       "      <th>cloud_coverage</th>\n",
       "      <th>dew_temperature</th>\n",
       "      <th>precip_depth_1_hr</th>\n",
       "      <th>sea_level_pressure</th>\n",
       "      <th>wind_direction</th>\n",
       "      <th>wind_speed</th>\n",
       "    </tr>\n",
       "    <tr>\n",
       "      <th>site_id</th>\n",
       "      <th></th>\n",
       "      <th></th>\n",
       "      <th></th>\n",
       "      <th></th>\n",
       "      <th></th>\n",
       "      <th></th>\n",
       "      <th></th>\n",
       "      <th></th>\n",
       "      <th></th>\n",
       "    </tr>\n",
       "  </thead>\n",
       "  <tbody>\n",
       "    <tr>\n",
       "      <th>0</th>\n",
       "      <td>0.0</td>\n",
       "      <td>0.0</td>\n",
       "      <td>0.022831</td>\n",
       "      <td>43.076484</td>\n",
       "      <td>0.022831</td>\n",
       "      <td>0.188356</td>\n",
       "      <td>1.786530</td>\n",
       "      <td>2.745434</td>\n",
       "      <td>0.034247</td>\n",
       "    </tr>\n",
       "    <tr>\n",
       "      <th>1</th>\n",
       "      <td>0.0</td>\n",
       "      <td>0.0</td>\n",
       "      <td>1.455479</td>\n",
       "      <td>79.372146</td>\n",
       "      <td>1.455479</td>\n",
       "      <td>100.000000</td>\n",
       "      <td>1.700913</td>\n",
       "      <td>1.358447</td>\n",
       "      <td>1.329909</td>\n",
       "    </tr>\n",
       "    <tr>\n",
       "      <th>2</th>\n",
       "      <td>0.0</td>\n",
       "      <td>0.0</td>\n",
       "      <td>0.039954</td>\n",
       "      <td>31.090183</td>\n",
       "      <td>0.051370</td>\n",
       "      <td>0.154110</td>\n",
       "      <td>0.228311</td>\n",
       "      <td>6.849315</td>\n",
       "      <td>0.091324</td>\n",
       "    </tr>\n",
       "    <tr>\n",
       "      <th>3</th>\n",
       "      <td>0.0</td>\n",
       "      <td>0.0</td>\n",
       "      <td>0.051370</td>\n",
       "      <td>44.840183</td>\n",
       "      <td>0.057078</td>\n",
       "      <td>0.285388</td>\n",
       "      <td>2.186073</td>\n",
       "      <td>1.478311</td>\n",
       "      <td>0.085616</td>\n",
       "    </tr>\n",
       "    <tr>\n",
       "      <th>4</th>\n",
       "      <td>0.0</td>\n",
       "      <td>0.0</td>\n",
       "      <td>0.057078</td>\n",
       "      <td>45.890411</td>\n",
       "      <td>0.074201</td>\n",
       "      <td>1.666667</td>\n",
       "      <td>0.736301</td>\n",
       "      <td>1.221461</td>\n",
       "      <td>0.057078</td>\n",
       "    </tr>\n",
       "    <tr>\n",
       "      <th>5</th>\n",
       "      <td>0.0</td>\n",
       "      <td>0.0</td>\n",
       "      <td>1.592466</td>\n",
       "      <td>66.347032</td>\n",
       "      <td>1.598174</td>\n",
       "      <td>100.000000</td>\n",
       "      <td>100.000000</td>\n",
       "      <td>4.646119</td>\n",
       "      <td>1.598174</td>\n",
       "    </tr>\n",
       "    <tr>\n",
       "      <th>6</th>\n",
       "      <td>0.0</td>\n",
       "      <td>0.0</td>\n",
       "      <td>0.131279</td>\n",
       "      <td>37.014840</td>\n",
       "      <td>0.131279</td>\n",
       "      <td>0.359589</td>\n",
       "      <td>2.328767</td>\n",
       "      <td>8.167808</td>\n",
       "      <td>0.399543</td>\n",
       "    </tr>\n",
       "    <tr>\n",
       "      <th>7</th>\n",
       "      <td>0.0</td>\n",
       "      <td>0.0</td>\n",
       "      <td>5.428082</td>\n",
       "      <td>100.000000</td>\n",
       "      <td>5.719178</td>\n",
       "      <td>89.765982</td>\n",
       "      <td>5.667808</td>\n",
       "      <td>5.428082</td>\n",
       "      <td>5.428082</td>\n",
       "    </tr>\n",
       "    <tr>\n",
       "      <th>8</th>\n",
       "      <td>0.0</td>\n",
       "      <td>0.0</td>\n",
       "      <td>0.022831</td>\n",
       "      <td>43.076484</td>\n",
       "      <td>0.022831</td>\n",
       "      <td>0.188356</td>\n",
       "      <td>1.786530</td>\n",
       "      <td>2.745434</td>\n",
       "      <td>0.034247</td>\n",
       "    </tr>\n",
       "    <tr>\n",
       "      <th>9</th>\n",
       "      <td>0.0</td>\n",
       "      <td>0.0</td>\n",
       "      <td>0.553653</td>\n",
       "      <td>44.223744</td>\n",
       "      <td>1.198630</td>\n",
       "      <td>0.605023</td>\n",
       "      <td>3.441781</td>\n",
       "      <td>31.073059</td>\n",
       "      <td>1.689498</td>\n",
       "    </tr>\n",
       "    <tr>\n",
       "      <th>10</th>\n",
       "      <td>0.0</td>\n",
       "      <td>0.0</td>\n",
       "      <td>0.331050</td>\n",
       "      <td>29.246575</td>\n",
       "      <td>0.331050</td>\n",
       "      <td>0.502283</td>\n",
       "      <td>2.300228</td>\n",
       "      <td>6.255708</td>\n",
       "      <td>0.810502</td>\n",
       "    </tr>\n",
       "    <tr>\n",
       "      <th>11</th>\n",
       "      <td>0.0</td>\n",
       "      <td>0.0</td>\n",
       "      <td>5.428082</td>\n",
       "      <td>100.000000</td>\n",
       "      <td>5.719178</td>\n",
       "      <td>89.765982</td>\n",
       "      <td>5.667808</td>\n",
       "      <td>5.428082</td>\n",
       "      <td>5.428082</td>\n",
       "    </tr>\n",
       "    <tr>\n",
       "      <th>12</th>\n",
       "      <td>0.0</td>\n",
       "      <td>0.0</td>\n",
       "      <td>1.375571</td>\n",
       "      <td>1.695205</td>\n",
       "      <td>1.375571</td>\n",
       "      <td>100.000000</td>\n",
       "      <td>1.541096</td>\n",
       "      <td>1.392694</td>\n",
       "      <td>1.375571</td>\n",
       "    </tr>\n",
       "    <tr>\n",
       "      <th>13</th>\n",
       "      <td>0.0</td>\n",
       "      <td>0.0</td>\n",
       "      <td>0.045662</td>\n",
       "      <td>50.211187</td>\n",
       "      <td>0.045662</td>\n",
       "      <td>3.127854</td>\n",
       "      <td>1.198630</td>\n",
       "      <td>2.636986</td>\n",
       "      <td>0.045662</td>\n",
       "    </tr>\n",
       "    <tr>\n",
       "      <th>14</th>\n",
       "      <td>0.0</td>\n",
       "      <td>0.0</td>\n",
       "      <td>0.051370</td>\n",
       "      <td>44.566210</td>\n",
       "      <td>0.051370</td>\n",
       "      <td>0.605023</td>\n",
       "      <td>1.438356</td>\n",
       "      <td>2.768265</td>\n",
       "      <td>0.199772</td>\n",
       "    </tr>\n",
       "    <tr>\n",
       "      <th>15</th>\n",
       "      <td>0.0</td>\n",
       "      <td>0.0</td>\n",
       "      <td>1.894977</td>\n",
       "      <td>58.692922</td>\n",
       "      <td>1.900685</td>\n",
       "      <td>76.238584</td>\n",
       "      <td>7.254566</td>\n",
       "      <td>4.297945</td>\n",
       "      <td>1.906393</td>\n",
       "    </tr>\n",
       "  </tbody>\n",
       "</table>\n",
       "</div>"
      ],
      "text/plain": [
       "         timestamp  site_id  air_temperature  cloud_coverage  dew_temperature  \\\n",
       "site_id                                                                         \n",
       "0              0.0      0.0         0.022831       43.076484         0.022831   \n",
       "1              0.0      0.0         1.455479       79.372146         1.455479   \n",
       "2              0.0      0.0         0.039954       31.090183         0.051370   \n",
       "3              0.0      0.0         0.051370       44.840183         0.057078   \n",
       "4              0.0      0.0         0.057078       45.890411         0.074201   \n",
       "5              0.0      0.0         1.592466       66.347032         1.598174   \n",
       "6              0.0      0.0         0.131279       37.014840         0.131279   \n",
       "7              0.0      0.0         5.428082      100.000000         5.719178   \n",
       "8              0.0      0.0         0.022831       43.076484         0.022831   \n",
       "9              0.0      0.0         0.553653       44.223744         1.198630   \n",
       "10             0.0      0.0         0.331050       29.246575         0.331050   \n",
       "11             0.0      0.0         5.428082      100.000000         5.719178   \n",
       "12             0.0      0.0         1.375571        1.695205         1.375571   \n",
       "13             0.0      0.0         0.045662       50.211187         0.045662   \n",
       "14             0.0      0.0         0.051370       44.566210         0.051370   \n",
       "15             0.0      0.0         1.894977       58.692922         1.900685   \n",
       "\n",
       "         precip_depth_1_hr  sea_level_pressure  wind_direction  wind_speed  \n",
       "site_id                                                                     \n",
       "0                 0.188356            1.786530        2.745434    0.034247  \n",
       "1               100.000000            1.700913        1.358447    1.329909  \n",
       "2                 0.154110            0.228311        6.849315    0.091324  \n",
       "3                 0.285388            2.186073        1.478311    0.085616  \n",
       "4                 1.666667            0.736301        1.221461    0.057078  \n",
       "5               100.000000          100.000000        4.646119    1.598174  \n",
       "6                 0.359589            2.328767        8.167808    0.399543  \n",
       "7                89.765982            5.667808        5.428082    5.428082  \n",
       "8                 0.188356            1.786530        2.745434    0.034247  \n",
       "9                 0.605023            3.441781       31.073059    1.689498  \n",
       "10                0.502283            2.300228        6.255708    0.810502  \n",
       "11               89.765982            5.667808        5.428082    5.428082  \n",
       "12              100.000000            1.541096        1.392694    1.375571  \n",
       "13                3.127854            1.198630        2.636986    0.045662  \n",
       "14                0.605023            1.438356        2.768265    0.199772  \n",
       "15               76.238584            7.254566        4.297945    1.906393  "
      ]
     },
     "execution_count": 38,
     "metadata": {},
     "output_type": "execute_result"
    }
   ],
   "source": [
    "weather_test.groupby('site_id').apply(lambda group: 100*group.isna().sum()/group.shape[0])"
   ]
  },
  {
   "cell_type": "code",
   "execution_count": 39,
   "metadata": {},
   "outputs": [],
   "source": [
    "weather_test.drop([\"cloud_coverage\", \"precip_depth_1_hr\"], axis=1, inplace=True)"
   ]
  },
  {
   "cell_type": "code",
   "execution_count": 40,
   "metadata": {},
   "outputs": [],
   "source": [
    "weather_test = weather_imputation(weather_test)"
   ]
  },
  {
   "cell_type": "code",
   "execution_count": 41,
   "metadata": {},
   "outputs": [
    {
     "data": {
      "text/html": [
       "<div>\n",
       "<style scoped>\n",
       "    .dataframe tbody tr th:only-of-type {\n",
       "        vertical-align: middle;\n",
       "    }\n",
       "\n",
       "    .dataframe tbody tr th {\n",
       "        vertical-align: top;\n",
       "    }\n",
       "\n",
       "    .dataframe thead th {\n",
       "        text-align: right;\n",
       "    }\n",
       "</style>\n",
       "<table border=\"1\" class=\"dataframe\">\n",
       "  <thead>\n",
       "    <tr style=\"text-align: right;\">\n",
       "      <th></th>\n",
       "      <th>timestamp</th>\n",
       "      <th>site_id</th>\n",
       "      <th>air_temperature</th>\n",
       "      <th>dew_temperature</th>\n",
       "      <th>sea_level_pressure</th>\n",
       "      <th>wind_direction</th>\n",
       "      <th>wind_speed</th>\n",
       "    </tr>\n",
       "    <tr>\n",
       "      <th>site_id</th>\n",
       "      <th></th>\n",
       "      <th></th>\n",
       "      <th></th>\n",
       "      <th></th>\n",
       "      <th></th>\n",
       "      <th></th>\n",
       "      <th></th>\n",
       "    </tr>\n",
       "  </thead>\n",
       "  <tbody>\n",
       "    <tr>\n",
       "      <th>0</th>\n",
       "      <td>0.0</td>\n",
       "      <td>0.0</td>\n",
       "      <td>0.0</td>\n",
       "      <td>0.0</td>\n",
       "      <td>0.0</td>\n",
       "      <td>0.0</td>\n",
       "      <td>0.0</td>\n",
       "    </tr>\n",
       "    <tr>\n",
       "      <th>1</th>\n",
       "      <td>0.0</td>\n",
       "      <td>0.0</td>\n",
       "      <td>0.0</td>\n",
       "      <td>0.0</td>\n",
       "      <td>0.0</td>\n",
       "      <td>0.0</td>\n",
       "      <td>0.0</td>\n",
       "    </tr>\n",
       "    <tr>\n",
       "      <th>2</th>\n",
       "      <td>0.0</td>\n",
       "      <td>0.0</td>\n",
       "      <td>0.0</td>\n",
       "      <td>0.0</td>\n",
       "      <td>0.0</td>\n",
       "      <td>0.0</td>\n",
       "      <td>0.0</td>\n",
       "    </tr>\n",
       "    <tr>\n",
       "      <th>3</th>\n",
       "      <td>0.0</td>\n",
       "      <td>0.0</td>\n",
       "      <td>0.0</td>\n",
       "      <td>0.0</td>\n",
       "      <td>0.0</td>\n",
       "      <td>0.0</td>\n",
       "      <td>0.0</td>\n",
       "    </tr>\n",
       "    <tr>\n",
       "      <th>4</th>\n",
       "      <td>0.0</td>\n",
       "      <td>0.0</td>\n",
       "      <td>0.0</td>\n",
       "      <td>0.0</td>\n",
       "      <td>0.0</td>\n",
       "      <td>0.0</td>\n",
       "      <td>0.0</td>\n",
       "    </tr>\n",
       "    <tr>\n",
       "      <th>5</th>\n",
       "      <td>0.0</td>\n",
       "      <td>0.0</td>\n",
       "      <td>0.0</td>\n",
       "      <td>0.0</td>\n",
       "      <td>100.0</td>\n",
       "      <td>0.0</td>\n",
       "      <td>0.0</td>\n",
       "    </tr>\n",
       "    <tr>\n",
       "      <th>6</th>\n",
       "      <td>0.0</td>\n",
       "      <td>0.0</td>\n",
       "      <td>0.0</td>\n",
       "      <td>0.0</td>\n",
       "      <td>0.0</td>\n",
       "      <td>0.0</td>\n",
       "      <td>0.0</td>\n",
       "    </tr>\n",
       "    <tr>\n",
       "      <th>7</th>\n",
       "      <td>0.0</td>\n",
       "      <td>0.0</td>\n",
       "      <td>0.0</td>\n",
       "      <td>0.0</td>\n",
       "      <td>0.0</td>\n",
       "      <td>0.0</td>\n",
       "      <td>0.0</td>\n",
       "    </tr>\n",
       "    <tr>\n",
       "      <th>8</th>\n",
       "      <td>0.0</td>\n",
       "      <td>0.0</td>\n",
       "      <td>0.0</td>\n",
       "      <td>0.0</td>\n",
       "      <td>0.0</td>\n",
       "      <td>0.0</td>\n",
       "      <td>0.0</td>\n",
       "    </tr>\n",
       "    <tr>\n",
       "      <th>9</th>\n",
       "      <td>0.0</td>\n",
       "      <td>0.0</td>\n",
       "      <td>0.0</td>\n",
       "      <td>0.0</td>\n",
       "      <td>0.0</td>\n",
       "      <td>0.0</td>\n",
       "      <td>0.0</td>\n",
       "    </tr>\n",
       "    <tr>\n",
       "      <th>10</th>\n",
       "      <td>0.0</td>\n",
       "      <td>0.0</td>\n",
       "      <td>0.0</td>\n",
       "      <td>0.0</td>\n",
       "      <td>0.0</td>\n",
       "      <td>0.0</td>\n",
       "      <td>0.0</td>\n",
       "    </tr>\n",
       "    <tr>\n",
       "      <th>11</th>\n",
       "      <td>0.0</td>\n",
       "      <td>0.0</td>\n",
       "      <td>0.0</td>\n",
       "      <td>0.0</td>\n",
       "      <td>0.0</td>\n",
       "      <td>0.0</td>\n",
       "      <td>0.0</td>\n",
       "    </tr>\n",
       "    <tr>\n",
       "      <th>12</th>\n",
       "      <td>0.0</td>\n",
       "      <td>0.0</td>\n",
       "      <td>0.0</td>\n",
       "      <td>0.0</td>\n",
       "      <td>0.0</td>\n",
       "      <td>0.0</td>\n",
       "      <td>0.0</td>\n",
       "    </tr>\n",
       "    <tr>\n",
       "      <th>13</th>\n",
       "      <td>0.0</td>\n",
       "      <td>0.0</td>\n",
       "      <td>0.0</td>\n",
       "      <td>0.0</td>\n",
       "      <td>0.0</td>\n",
       "      <td>0.0</td>\n",
       "      <td>0.0</td>\n",
       "    </tr>\n",
       "    <tr>\n",
       "      <th>14</th>\n",
       "      <td>0.0</td>\n",
       "      <td>0.0</td>\n",
       "      <td>0.0</td>\n",
       "      <td>0.0</td>\n",
       "      <td>0.0</td>\n",
       "      <td>0.0</td>\n",
       "      <td>0.0</td>\n",
       "    </tr>\n",
       "    <tr>\n",
       "      <th>15</th>\n",
       "      <td>0.0</td>\n",
       "      <td>0.0</td>\n",
       "      <td>0.0</td>\n",
       "      <td>0.0</td>\n",
       "      <td>0.0</td>\n",
       "      <td>0.0</td>\n",
       "      <td>0.0</td>\n",
       "    </tr>\n",
       "  </tbody>\n",
       "</table>\n",
       "</div>"
      ],
      "text/plain": [
       "         timestamp  site_id  air_temperature  dew_temperature  \\\n",
       "site_id                                                         \n",
       "0              0.0      0.0              0.0              0.0   \n",
       "1              0.0      0.0              0.0              0.0   \n",
       "2              0.0      0.0              0.0              0.0   \n",
       "3              0.0      0.0              0.0              0.0   \n",
       "4              0.0      0.0              0.0              0.0   \n",
       "5              0.0      0.0              0.0              0.0   \n",
       "6              0.0      0.0              0.0              0.0   \n",
       "7              0.0      0.0              0.0              0.0   \n",
       "8              0.0      0.0              0.0              0.0   \n",
       "9              0.0      0.0              0.0              0.0   \n",
       "10             0.0      0.0              0.0              0.0   \n",
       "11             0.0      0.0              0.0              0.0   \n",
       "12             0.0      0.0              0.0              0.0   \n",
       "13             0.0      0.0              0.0              0.0   \n",
       "14             0.0      0.0              0.0              0.0   \n",
       "15             0.0      0.0              0.0              0.0   \n",
       "\n",
       "         sea_level_pressure  wind_direction  wind_speed  \n",
       "site_id                                                  \n",
       "0                       0.0             0.0         0.0  \n",
       "1                       0.0             0.0         0.0  \n",
       "2                       0.0             0.0         0.0  \n",
       "3                       0.0             0.0         0.0  \n",
       "4                       0.0             0.0         0.0  \n",
       "5                     100.0             0.0         0.0  \n",
       "6                       0.0             0.0         0.0  \n",
       "7                       0.0             0.0         0.0  \n",
       "8                       0.0             0.0         0.0  \n",
       "9                       0.0             0.0         0.0  \n",
       "10                      0.0             0.0         0.0  \n",
       "11                      0.0             0.0         0.0  \n",
       "12                      0.0             0.0         0.0  \n",
       "13                      0.0             0.0         0.0  \n",
       "14                      0.0             0.0         0.0  \n",
       "15                      0.0             0.0         0.0  "
      ]
     },
     "execution_count": 41,
     "metadata": {},
     "output_type": "execute_result"
    }
   ],
   "source": [
    "weather_test.groupby('site_id').apply(lambda group: 100*group.isna().sum()/group.shape[0])"
   ]
  },
  {
   "cell_type": "markdown",
   "metadata": {},
   "source": [
    "***"
   ]
  },
  {
   "cell_type": "code",
   "execution_count": 42,
   "metadata": {},
   "outputs": [
    {
     "name": "stderr",
     "output_type": "stream",
     "text": [
      "/Users/martin/miniconda3/lib/python3.7/site-packages/numpy/lib/nanfunctions.py:994: RuntimeWarning: All-NaN slice encountered\n",
      "  result = np.apply_along_axis(_nanmedian1d, axis, a, overwrite_input)\n",
      "/Users/martin/miniconda3/lib/python3.7/site-packages/numpy/lib/nanfunctions.py:1371: RuntimeWarning: All-NaN slice encountered\n",
      "  overwrite_input=overwrite_input, interpolation=interpolation\n"
     ]
    }
   ],
   "source": [
    "features = [\"air_temperature\", \"dew_temperature\", \"sea_level_pressure\", \"wind_speed\"]\n",
    "\n",
    "for site_id in weather_test.site_id.unique():\n",
    "    weather_cut = weather_test.query(\"site_id == @site_id\")\n",
    "    idx_cut = weather_cut.index\n",
    "    scaler = RobustScaler()\n",
    "    weather_test.loc[idx_cut, features] = scaler.fit_transform(weather_cut.loc[:, features].values)"
   ]
  },
  {
   "cell_type": "markdown",
   "metadata": {},
   "source": [
    "***"
   ]
  },
  {
   "cell_type": "code",
   "execution_count": 43,
   "metadata": {},
   "outputs": [],
   "source": [
    "if NO_WEATHER:\n",
    "    test_data = pd.merge(test, building_metadata, how=\"left\", on=[\"building_id\"])\n",
    "else: \n",
    "    test_data = (pd.merge(test, building_metadata, how=\"left\", on=[\"building_id\"])\n",
    "                 .merge(weather_test, how=\"left\", on=[\"timestamp\",\"site_id\"]))"
   ]
  },
  {
   "cell_type": "code",
   "execution_count": 44,
   "metadata": {},
   "outputs": [
    {
     "name": "stdout",
     "output_type": "stream",
     "text": [
      "Mem. usage decreased to 1829.23 Mb (55.8% reduction)\n"
     ]
    }
   ],
   "source": [
    "test_data = reduce_mem_usage(test_data)"
   ]
  },
  {
   "cell_type": "code",
   "execution_count": 45,
   "metadata": {},
   "outputs": [
    {
     "name": "stdout",
     "output_type": "stream",
     "text": [
      "<class 'pandas.core.frame.DataFrame'>\n",
      "Int64Index: 41697600 entries, 0 to 41697599\n",
      "Data columns (total 12 columns):\n",
      "row_id                int32\n",
      "building_id           int16\n",
      "meter                 int8\n",
      "timestamp             datetime64[ns]\n",
      "site_id               int8\n",
      "primary_use           object\n",
      "square_feet           int32\n",
      "air_temperature       float16\n",
      "dew_temperature       float16\n",
      "sea_level_pressure    float16\n",
      "wind_direction        float16\n",
      "wind_speed            float16\n",
      "dtypes: datetime64[ns](1), float16(5), int16(1), int32(2), int8(2), object(1)\n",
      "memory usage: 1.8+ GB\n"
     ]
    }
   ],
   "source": [
    "test_data.info()"
   ]
  },
  {
   "cell_type": "code",
   "execution_count": 45,
   "metadata": {},
   "outputs": [],
   "source": [
    "if NO_WEATHER:\n",
    "    test_data.to_hdf(\"data/test_data_nw.h5\", key=\"test_data\") \n",
    "else:\n",
    "    test_data.to_hdf(\"data/test_data.h5\", key=\"test_data\")\n",
    "    #test_data.to_hdf(\"data/test_data.h5\", key=\"test_data_scaled_weather\")"
   ]
  },
  {
   "cell_type": "markdown",
   "metadata": {},
   "source": [
    "verify that row_id column is sorted in `test_data`"
   ]
  },
  {
   "cell_type": "code",
   "execution_count": 46,
   "metadata": {},
   "outputs": [
    {
     "data": {
      "text/plain": [
       "True"
      ]
     },
     "execution_count": 46,
     "metadata": {},
     "output_type": "execute_result"
    }
   ],
   "source": [
    "np.all(test_data.row_id.diff(1).fillna(1) == 1)"
   ]
  },
  {
   "cell_type": "markdown",
   "metadata": {},
   "source": [
    "***\n",
    "## Leakage data"
   ]
  },
  {
   "cell_type": "code",
   "execution_count": 46,
   "metadata": {},
   "outputs": [],
   "source": [
    "leak = (pd.read_feather(\"data/leak.feather\")\n",
    "        .drop_duplicates())\n",
    "leak.meter = leak.meter.astype(int)"
   ]
  },
  {
   "cell_type": "code",
   "execution_count": 47,
   "metadata": {},
   "outputs": [],
   "source": [
    "buildings_site0 = building_metadata.query(\"site_id == 0\").building_id.unique()\n",
    "idx = leak.query(\"building_id in @buildings_site0\").index\n",
    "leak.loc[idx, \"meter_reading\"] = 0.2931*leak.loc[idx, \"meter_reading\"]"
   ]
  },
  {
   "cell_type": "code",
   "execution_count": 48,
   "metadata": {},
   "outputs": [
    {
     "name": "stdout",
     "output_type": "stream",
     "text": [
      "Number of outliers: 500473\n"
     ]
    }
   ],
   "source": [
    "idx = leak.query(\"meter==0 and meter_reading==0\").index\n",
    "print(f\"Number of outliers: {len(idx)}\")\n",
    "leak.drop(idx, axis=0, inplace=True)\n",
    "leak.reset_index(drop=True, inplace=True)"
   ]
  },
  {
   "cell_type": "code",
   "execution_count": 49,
   "metadata": {},
   "outputs": [
    {
     "name": "stdout",
     "output_type": "stream",
     "text": [
      "<class 'pandas.core.frame.DataFrame'>\n",
      "RangeIndex: 16115767 entries, 0 to 16115766\n",
      "Data columns (total 4 columns):\n",
      "building_id      int64\n",
      "meter            int64\n",
      "meter_reading    float64\n",
      "timestamp        datetime64[ns]\n",
      "dtypes: datetime64[ns](1), float64(1), int64(2)\n",
      "memory usage: 491.8 MB\n"
     ]
    }
   ],
   "source": [
    "leak.info()"
   ]
  },
  {
   "cell_type": "code",
   "execution_count": 50,
   "metadata": {},
   "outputs": [],
   "source": [
    "weather_all = pd.concat([weather_train, weather_test])\n",
    "\n",
    "if NO_WEATHER:\n",
    "    leak = pd.merge(leak, building_metadata, how=\"left\", on=[\"building_id\"])\n",
    "else: \n",
    "    leak = (pd.merge(leak, building_metadata, how=\"left\", on=[\"building_id\"])\n",
    "            .merge(weather_all, how=\"left\", on=[\"timestamp\",\"site_id\"]))"
   ]
  },
  {
   "cell_type": "code",
   "execution_count": 51,
   "metadata": {},
   "outputs": [],
   "source": [
    "#leak.to_hdf(\"data/leak_data.h5\", \"leak_data\")\n",
    "leak.to_hdf(\"data/leak_data.h5\", \"leak_data_scaled_weather\")"
   ]
  },
  {
   "cell_type": "markdown",
   "metadata": {},
   "source": [
    "***\n",
    "## Validation schemes \n",
    "\n",
    "### custom validation data - by week - with hausdorff sampling"
   ]
  },
  {
   "cell_type": "code",
   "execution_count": 30,
   "metadata": {},
   "outputs": [],
   "source": [
    "n_folds = 4\n",
    "_train_data = train_data.loc[:, [\"building_id\",\"meter\",\"timestamp\"]]\n",
    "ts_uid_values = _train_data.loc[:, [\"building_id\",\"meter\"]].drop_duplicates()"
   ]
  },
  {
   "cell_type": "code",
   "execution_count": 31,
   "metadata": {},
   "outputs": [
    {
     "name": "stderr",
     "output_type": "stream",
     "text": [
      "2380it [03:03, 12.95it/s]\n"
     ]
    }
   ],
   "source": [
    "valid_indexes = [[] for i in range(n_folds)]\n",
    "generator = ghalton.Halton(1)\n",
    "\n",
    "for _,row in tqdm(ts_uid_values.iterrows()):\n",
    "    ts = _train_data.query(\"building_id == @row.building_id & meter == @row.meter\")\n",
    "    ts[\"week\"] = ts.timestamp.dt.week\n",
    "    weeks = ts.week.unique()\n",
    "    n_weeks = len(weeks)\n",
    "    \n",
    "    sequence = np.asarray(generator.get(n_weeks))[:,0]\n",
    "    idx = rankdata(sequence).astype(int)-1\n",
    "\n",
    "    for i,weeks_idx in enumerate(np.array_split(idx, n_folds)):\n",
    "        weeks_by_fold = weeks[weeks_idx]\n",
    "        valid_indexes[i].append(ts.query(\"week in @weeks_by_fold\").index.values)"
   ]
  },
  {
   "cell_type": "code",
   "execution_count": 33,
   "metadata": {},
   "outputs": [],
   "source": [
    "h5f = h5py.File(\"data/valid_sm_custom_4fold.h5\", \"w\")\n",
    "for i,valid_index in enumerate(valid_indexes):\n",
    "    h5f.create_dataset(f'fold{i}', data=np.concatenate(valid_index))\n",
    "h5f.close()"
   ]
  },
  {
   "cell_type": "markdown",
   "metadata": {},
   "source": [
    "***\n",
    "### custom validation data - by week - with shuffle"
   ]
  },
  {
   "cell_type": "code",
   "execution_count": 45,
   "metadata": {},
   "outputs": [],
   "source": [
    "np.random.seed(23)\n",
    "n_folds = 4\n",
    "_train_data = train_data.loc[:, [\"building_id\",\"meter\",\"timestamp\"]]\n",
    "ts_uid_values = _train_data.loc[:, [\"building_id\",\"meter\"]].drop_duplicates()"
   ]
  },
  {
   "cell_type": "code",
   "execution_count": 46,
   "metadata": {},
   "outputs": [
    {
     "name": "stderr",
     "output_type": "stream",
     "text": [
      "2380it [04:49,  8.22it/s]\n"
     ]
    }
   ],
   "source": [
    "valid_indexes = [[] for i in range(n_folds)]\n",
    "\n",
    "for _,row in tqdm(ts_uid_values.iterrows()):\n",
    "    ts = _train_data.query(\"building_id == @row.building_id & meter == @row.meter\")\n",
    "    ts[\"week\"] = ts.timestamp.dt.week\n",
    "    weeks = ts.week.unique()\n",
    "    np.random.shuffle(weeks)\n",
    "    weeks_split = np.array_split(weeks, n_folds)\n",
    "    np.random.shuffle(weeks_split)\n",
    "    \n",
    "    for i,weeks_by_fold in enumerate(weeks_split):\n",
    "        valid_indexes[i].append(ts.query(\"week in @weeks_by_fold\").index.values)"
   ]
  },
  {
   "cell_type": "code",
   "execution_count": 47,
   "metadata": {},
   "outputs": [],
   "source": [
    "h5f = h5py.File(\"data/valid_sm_custom1_4fold.h5\", \"w\")\n",
    "for i,valid_index in enumerate(valid_indexes):\n",
    "    h5f.create_dataset(f'fold{i}', data=np.concatenate(valid_index))\n",
    "h5f.close()"
   ]
  },
  {
   "cell_type": "markdown",
   "metadata": {},
   "source": [
    "***\n",
    "### custom validation data - by day of year - with shuffle"
   ]
  },
  {
   "cell_type": "code",
   "execution_count": 86,
   "metadata": {},
   "outputs": [],
   "source": [
    "np.random.seed(23)\n",
    "n_folds = 4\n",
    "_train_data = train_data.loc[:, [\"building_id\",\"meter\",\"timestamp\"]]\n",
    "ts_uid_values = _train_data.loc[:, [\"building_id\",\"meter\"]].drop_duplicates()"
   ]
  },
  {
   "cell_type": "code",
   "execution_count": 87,
   "metadata": {},
   "outputs": [
    {
     "name": "stderr",
     "output_type": "stream",
     "text": [
      "2380it [03:49, 10.35it/s]\n"
     ]
    }
   ],
   "source": [
    "valid_indexes = [[] for i in range(n_folds)]\n",
    "\n",
    "for _,row in tqdm(ts_uid_values.iterrows()):\n",
    "    ts = _train_data.query(\"building_id == @row.building_id & meter == @row.meter\")\n",
    "    ts[\"dayofyear\"] = ts.timestamp.dt.dayofyear\n",
    "    days = ts.dayofyear.unique()\n",
    "    np.random.shuffle(days)\n",
    "    days_split = np.array_split(days, n_folds)\n",
    "    np.random.shuffle(days_split)\n",
    "    \n",
    "    for i,days_by_fold in enumerate(days_split):\n",
    "        valid_indexes[i].append(ts.query(\"dayofyear in @days_by_fold\").index.values)"
   ]
  },
  {
   "cell_type": "code",
   "execution_count": 88,
   "metadata": {},
   "outputs": [],
   "source": [
    "h5f = h5py.File(\"data/valid_sm_custom2_4fold.h5\", \"w\")\n",
    "for i,valid_index in enumerate(valid_indexes):\n",
    "    h5f.create_dataset(f'fold{i}', data=np.concatenate(valid_index))\n",
    "h5f.close()"
   ]
  },
  {
   "cell_type": "markdown",
   "metadata": {},
   "source": [
    "***\n",
    "### custom validation data - by day of year - stratified by month - with shuffle"
   ]
  },
  {
   "cell_type": "code",
   "execution_count": 46,
   "metadata": {},
   "outputs": [],
   "source": [
    "np.random.seed(19)\n",
    "n_folds = 3\n",
    "_train_data = train_data.loc[:, [\"building_id\",\"meter\",\"timestamp\"]]\n",
    "ts_uid_values = _train_data.loc[:, [\"building_id\",\"meter\"]].drop_duplicates()"
   ]
  },
  {
   "cell_type": "code",
   "execution_count": 82,
   "metadata": {},
   "outputs": [
    {
     "name": "stderr",
     "output_type": "stream",
     "text": [
      "2380it [08:46,  4.52it/s]\n"
     ]
    }
   ],
   "source": [
    "valid_indexes = [[] for i in range(n_folds)]\n",
    "\n",
    "for _,row in tqdm(ts_uid_values.iterrows()):\n",
    "    ts = _train_data.query(\"building_id == @row.building_id & meter == @row.meter\")\n",
    "    ts[\"dayofyear\"] = ts.timestamp.dt.dayofyear\n",
    "    ts[\"month\"] = ts.timestamp.dt.month\n",
    "    \n",
    "    for month in ts.month.unique():\n",
    "        ts_cut = ts.query(\"month == @month\")\n",
    "        days = ts_cut.dayofyear.unique()\n",
    "        np.random.shuffle(days)\n",
    "        days_split = np.array_split(days, n_folds)\n",
    "        np.random.shuffle(days_split)\n",
    "        \n",
    "        for i,days_by_fold in enumerate(days_split):\n",
    "            valid_indexes[i].append(ts_cut.query(\"dayofyear in @days_by_fold\").index.values)"
   ]
  },
  {
   "cell_type": "code",
   "execution_count": 83,
   "metadata": {},
   "outputs": [],
   "source": [
    "h5f = h5py.File(f\"data/valid_sm_custom_{n_folds}fold.h5\", \"w\")\n",
    "for i,valid_index in enumerate(valid_indexes):\n",
    "    h5f.create_dataset(f'fold{i}', data=np.concatenate(valid_index))\n",
    "h5f.close()"
   ]
  },
  {
   "cell_type": "markdown",
   "metadata": {},
   "source": [
    "***\n",
    "### custom validation data - stratified by month - spliting by dayofyear with shuffle"
   ]
  },
  {
   "cell_type": "code",
   "execution_count": 47,
   "metadata": {},
   "outputs": [],
   "source": [
    "np.random.seed(19)\n",
    "n_folds = 3\n",
    "_train_data = train_data.copy(deep=True)\n",
    "_train_data[\"year_day\"] = _train_data.timestamp.dt.dayofyear\n",
    "_train_data[\"month\"] = _train_data.timestamp.dt.month"
   ]
  },
  {
   "cell_type": "code",
   "execution_count": 48,
   "metadata": {},
   "outputs": [],
   "source": [
    "valid_indexes = [[] for i in range(n_folds)]\n",
    "\n",
    "for month in _train_data.month.unique():\n",
    "    _train_data_cut = _train_data.query(\"month == @month\")\n",
    "    days = _train_data_cut.year_day.unique()\n",
    "    np.random.shuffle(days)\n",
    "    days_split = np.array_split(days, n_folds)\n",
    "    np.random.shuffle(days_split)\n",
    "    \n",
    "    for i,days_by_fold in enumerate(days_split):\n",
    "        idx = _train_data_cut.query(\"year_day in @days_by_fold\").index.values\n",
    "        valid_indexes[i].append(idx)    "
   ]
  },
  {
   "cell_type": "code",
   "execution_count": 49,
   "metadata": {},
   "outputs": [],
   "source": [
    "h5f = h5py.File(f\"data/valid_sm_custom_{n_folds}fold.h5\", \"w\")\n",
    "for i,valid_index in enumerate(valid_indexes):\n",
    "    h5f.create_dataset(f'fold{i}', data=np.concatenate(valid_index))\n",
    "h5f.close()"
   ]
  },
  {
   "cell_type": "code",
   "execution_count": 50,
   "metadata": {},
   "outputs": [],
   "source": [
    "valid_indexes[0] = np.concatenate(valid_indexes[0])\n",
    "valid_indexes[1] = np.concatenate(valid_indexes[1])\n",
    "valid_indexes[2] = np.concatenate(valid_indexes[2])"
   ]
  },
  {
   "cell_type": "code",
   "execution_count": 51,
   "metadata": {},
   "outputs": [
    {
     "data": {
      "text/plain": [
       "set()"
      ]
     },
     "execution_count": 51,
     "metadata": {},
     "output_type": "execute_result"
    }
   ],
   "source": [
    "set(valid_indexes[1]) & set(valid_indexes[2])"
   ]
  },
  {
   "cell_type": "code",
   "execution_count": 52,
   "metadata": {},
   "outputs": [
    {
     "data": {
      "text/plain": [
       "19866224"
      ]
     },
     "execution_count": 52,
     "metadata": {},
     "output_type": "execute_result"
    }
   ],
   "source": [
    "len(valid_indexes[0]) + len(valid_indexes[1]) + len(valid_indexes[2])"
   ]
  },
  {
   "cell_type": "code",
   "execution_count": 53,
   "metadata": {},
   "outputs": [
    {
     "data": {
      "text/plain": [
       "19866224"
      ]
     },
     "execution_count": 53,
     "metadata": {},
     "output_type": "execute_result"
    }
   ],
   "source": [
    "len(train_data)"
   ]
  },
  {
   "cell_type": "markdown",
   "metadata": {},
   "source": [
    "***\n",
    "### custom validation data - stratified by quarter - sampling by week with shuffle"
   ]
  },
  {
   "cell_type": "code",
   "execution_count": 136,
   "metadata": {},
   "outputs": [],
   "source": [
    "np.random.seed(2)\n",
    "n_folds = 3\n",
    "_train_data = train_data.copy(deep=True)\n",
    "_train_data[\"quarter\"] = _train_data.timestamp.dt.quarter\n",
    "_train_data[\"week\"] = _train_data.timestamp.dt.week"
   ]
  },
  {
   "cell_type": "code",
   "execution_count": 137,
   "metadata": {},
   "outputs": [],
   "source": [
    "valid_indexes = [[] for i in range(n_folds)]\n",
    "\n",
    "for quarter in _train_data.quarter.unique():\n",
    "    _train_data_cut = _train_data.query(\"quarter == @quarter\")\n",
    "    weeks = _train_data_cut.week.unique()\n",
    "    np.random.shuffle(weeks)\n",
    "    weeks_split = np.array_split(weeks, n_folds)\n",
    "    np.random.shuffle(weeks_split)\n",
    "    \n",
    "    for i,weeks_by_fold in enumerate(weeks_split):\n",
    "        idx = _train_data_cut.query(\"week in @weeks_by_fold\").index.values\n",
    "        valid_indexes[i].append(idx)"
   ]
  },
  {
   "cell_type": "code",
   "execution_count": 138,
   "metadata": {},
   "outputs": [],
   "source": [
    "h5f = h5py.File(f\"data/valid_sm_custom_{n_folds}fold.h5\", \"w\")\n",
    "for i,valid_index in enumerate(valid_indexes):\n",
    "    h5f.create_dataset(f'fold{i}', data=np.concatenate(valid_index))\n",
    "h5f.close()"
   ]
  },
  {
   "cell_type": "code",
   "execution_count": 139,
   "metadata": {},
   "outputs": [],
   "source": [
    "valid_indexes[0] = np.concatenate(valid_indexes[0])\n",
    "valid_indexes[1] = np.concatenate(valid_indexes[1])\n",
    "valid_indexes[2] = np.concatenate(valid_indexes[2])"
   ]
  },
  {
   "cell_type": "code",
   "execution_count": 140,
   "metadata": {},
   "outputs": [
    {
     "data": {
      "text/plain": [
       "6577467"
      ]
     },
     "execution_count": 140,
     "metadata": {},
     "output_type": "execute_result"
    }
   ],
   "source": [
    "len(valid_indexes[0])"
   ]
  },
  {
   "cell_type": "code",
   "execution_count": 141,
   "metadata": {},
   "outputs": [
    {
     "data": {
      "text/plain": [
       "6293506"
      ]
     },
     "execution_count": 141,
     "metadata": {},
     "output_type": "execute_result"
    }
   ],
   "source": [
    "len(valid_indexes[1])"
   ]
  },
  {
   "cell_type": "code",
   "execution_count": 142,
   "metadata": {},
   "outputs": [
    {
     "data": {
      "text/plain": [
       "6995251"
      ]
     },
     "execution_count": 142,
     "metadata": {},
     "output_type": "execute_result"
    }
   ],
   "source": [
    "len(valid_indexes[2])"
   ]
  },
  {
   "cell_type": "markdown",
   "metadata": {},
   "source": [
    "***\n",
    "## target scalers"
   ]
  },
  {
   "cell_type": "code",
   "execution_count": 27,
   "metadata": {},
   "outputs": [
    {
     "name": "stderr",
     "output_type": "stream",
     "text": [
      "2380it [05:03,  7.83it/s]\n"
     ]
    }
   ],
   "source": [
    "ts_uid_values = (train_data\n",
    "                 .loc[:, [\"building_id\",\"meter\"]]\n",
    "                 .drop_duplicates())\n",
    "scaling_values = list()\n",
    "\n",
    "for _,row in tqdm(ts_uid_values.iterrows()):\n",
    "    ts = train_data.query(\"building_id == @row.building_id & meter == @row.meter\")\n",
    "    scaler = RobustScaler(with_centering=True, with_scaling=True)\n",
    "    scaler.fit(ts.meter_reading.values.reshape((-1,1)))\n",
    "    scaling_values.append((row.building_id, row.meter, scaler.center_[0], scaler.scale_[0]))"
   ]
  },
  {
   "cell_type": "code",
   "execution_count": 29,
   "metadata": {},
   "outputs": [],
   "source": [
    "robust_scaler = pd.DataFrame(scaling_values, columns=[\"building_id\", \"meter\", \"center\", \"scale\"])\n",
    "robust_scaler.to_csv(\"data/robust_scaler.csv\", index=False)"
   ]
  },
  {
   "cell_type": "markdown",
   "metadata": {},
   "source": [
    "***"
   ]
  }
 ],
 "metadata": {
  "kernelspec": {
   "display_name": "Python 3",
   "language": "python",
   "name": "python3"
  },
  "language_info": {
   "codemirror_mode": {
    "name": "ipython",
    "version": 3
   },
   "file_extension": ".py",
   "mimetype": "text/x-python",
   "name": "python",
   "nbconvert_exporter": "python",
   "pygments_lexer": "ipython3",
   "version": "3.7.5"
  }
 },
 "nbformat": 4,
 "nbformat_minor": 4
}
