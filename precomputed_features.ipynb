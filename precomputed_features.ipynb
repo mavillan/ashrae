{
 "cells": [
  {
   "cell_type": "code",
   "execution_count": 3,
   "metadata": {},
   "outputs": [],
   "source": [
    "import sys\n",
    "import time\n",
    "import argparse\n",
    "import numpy as np\n",
    "import pandas as pd\n",
    "import h5py\n",
    "from datetime import datetime\n",
    "from tsforest import forecaster\n",
    "from tsforest.metrics import compute_rmse, compute_rmsle\n",
    "from scripts.utils import reduce_mem_usage\n",
    "from scripts.config import get_model_params\n",
    "from scripts.scaling import target_transform, target_inverse_transform"
   ]
  },
  {
   "cell_type": "code",
   "execution_count": 5,
   "metadata": {},
   "outputs": [],
   "source": [
    "model_class_name = \"LightGBMForecaster\"\n",
    "model_class = getattr(forecaster, model_class_name)"
   ]
  },
  {
   "cell_type": "code",
   "execution_count": 6,
   "metadata": {},
   "outputs": [],
   "source": [
    "train_data = pd.read_hdf('data/train_data_nw.h5', 'train_data')\n",
    "train_data.rename({\"timestamp\":\"ds\", \"meter_reading\":\"y\"}, axis=1, inplace=True)"
   ]
  },
  {
   "cell_type": "code",
   "execution_count": 7,
   "metadata": {},
   "outputs": [],
   "source": [
    "robust_scaler = pd.read_csv(\"data/robust_scaler.csv\")\n",
    "train_data = target_transform(train_data, robust_scaler, target=\"y\")"
   ]
  },
  {
   "cell_type": "code",
   "execution_count": 9,
   "metadata": {},
   "outputs": [],
   "source": [
    "h5f = h5py.File(\"data/valid_sm_custom_4fold.h5\", \"r\")\n",
    "valid_indexes = [h5f[key][:] for key in h5f.keys()]"
   ]
  },
  {
   "cell_type": "code",
   "execution_count": 10,
   "metadata": {},
   "outputs": [],
   "source": [
    "model_kwargs = {\"model_params\":get_model_params(model_class_name),\n",
    "                \"feature_sets\":['calendar', 'calendar_cyclical'],\n",
    "                \"exclude_features\":[\"year\",\"days_in_month\"],\n",
    "                \"categorical_features\":{\"building_id\":\"default\",\n",
    "                                        \"meter\":\"default\",\n",
    "                                        \"site_id\":\"default\",\n",
    "                                        \"primary_use\":\"default\"},\n",
    "                \"ts_uid_columns\":[\"building_id\",\"meter\"],\n",
    "                \"detrend\":False,\n",
    "                \"target_scaler\":None}"
   ]
  },
  {
   "cell_type": "code",
   "execution_count": 12,
   "metadata": {},
   "outputs": [
    {
     "name": "stdout",
     "output_type": "stream",
     "text": [
      "Mem. usage decreased to 909.33 Mb (68.0% reduction)\n",
      "Mem. usage decreased to 303.20 Mb (68.0% reduction)\n",
      "Mem. usage decreased to 909.56 Mb (68.0% reduction)\n",
      "Mem. usage decreased to 302.98 Mb (68.0% reduction)\n",
      "Mem. usage decreased to 909.46 Mb (68.0% reduction)\n",
      "Mem. usage decreased to 303.07 Mb (68.0% reduction)\n",
      "Mem. usage decreased to 909.25 Mb (68.0% reduction)\n",
      "Mem. usage decreased to 303.28 Mb (68.0% reduction)\n"
     ]
    }
   ],
   "source": [
    "n_folds = len(valid_indexes)\n",
    "\n",
    "for i,valid_index in enumerate(valid_indexes):\n",
    "    fcaster = model_class(**model_kwargs)\n",
    "    fcaster.prepare_features(train_data=train_data, valid_index=valid_index)\n",
    "    train_features = reduce_mem_usage(fcaster.train_features)\n",
    "    valid_features = reduce_mem_usage(fcaster.valid_features)\n",
    "    \n",
    "    train_features.to_hdf(f\"data/train_features_nw_{n_folds}fold.h5\", key=f\"fold{i}\")\n",
    "    valid_features.to_hdf(f\"data/valid_features_nw_{n_folds}fold.h5\", key=f\"fold{i}\")"
   ]
  },
  {
   "cell_type": "markdown",
   "metadata": {},
   "source": [
    "***"
   ]
  }
 ],
 "metadata": {
  "kernelspec": {
   "display_name": "Python 3",
   "language": "python",
   "name": "python3"
  },
  "language_info": {
   "codemirror_mode": {
    "name": "ipython",
    "version": 3
   },
   "file_extension": ".py",
   "mimetype": "text/x-python",
   "name": "python",
   "nbconvert_exporter": "python",
   "pygments_lexer": "ipython3",
   "version": "3.7.4"
  }
 },
 "nbformat": 4,
 "nbformat_minor": 4
}
